{
  "cells": [
    {
      "cell_type": "markdown",
      "metadata": {
        "id": "AT5OogJVFbwu"
      },
      "source": [
        "# EasyVisa Project\n",
        "\n",
        "## Context:\n",
        "\n",
        "Business communities in the United States are facing high demand for human resources, but one of the constant challenges is identifying and attracting the right talent, which is perhaps the most important element in remaining competitive. Companies in the United States look for hard-working, talented, and qualified individuals both locally as well as abroad.\n",
        "\n",
        "The Immigration and Nationality Act (INA) of the US permits foreign workers to come to the United States to work on either a temporary or permanent basis. The act also protects US workers against adverse impacts on their wages or working conditions by ensuring US employers' compliance with statutory requirements when they hire foreign workers to fill workforce shortages. The immigration programs are administered by the Office of Foreign Labor Certification (OFLC).\n",
        "\n",
        "OFLC processes job certification applications for employers seeking to bring foreign workers into the United States and grants certifications in those cases where employers can demonstrate that there are not sufficient US workers available to perform the work at wages that meet or exceed the wage paid for the occupation in the area of intended employment.\n",
        "\n",
        "## Objective:\n",
        "\n",
        "In FY 2016, the OFLC processed 775,979 employer applications for 1,699,957 positions for temporary and permanent labor certifications. This was a nine percent increase in the overall number of processed applications from the previous year. The process of reviewing every case is becoming a tedious task as the number of applicants is increasing every year.\n",
        "\n",
        "The increasing number of applicants every year calls for a Machine Learning based solution that can help in shortlisting the candidates having higher chances of VISA approval. OFLC has hired your firm EasyVisa for data-driven solutions. You as a data scientist have to analyze the data provided and, with the help of a classification model:\n",
        "\n",
        "* Facilitate the process of visa approvals.\n",
        "* Recommend a suitable profile for the applicants for whom the visa should be certified or denied based on the drivers that significantly influence the case status. \n",
        "\n",
        "\n",
        "## Data Description\n",
        "\n",
        "The data contains the different attributes of the employee and the employer. The detailed data dictionary is given below.\n",
        "\n",
        "* case_id: ID of each visa application\n",
        "* continent: Information of continent the employee\n",
        "* education_of_employee: Information of education of the employee\n",
        "* has_job_experience: Does the employee has any job experience? Y= Yes; N = No\n",
        "* requires_job_training: Does the employee require any job training? Y = Yes; N = No \n",
        "* no_of_employees: Number of employees in the employer's company\n",
        "* yr_of_estab: Year in which the employer's company was established\n",
        "* region_of_employment: Information of foreign worker's intended region of employment in the US.\n",
        "* prevailing_wage:  Average wage paid to similarly employed workers in a specific occupation in the area of intended employment. The purpose of the prevailing wage is to ensure that the foreign worker is not underpaid compared to other workers offering the same or similar service in the same area of employment. \n",
        "* unit_of_wage: Unit of prevailing wage. Values include Hourly, Weekly, Monthly, and Yearly.\n",
        "* full_time_position: Is the position of work full-time? Y = Full Time Position; N = Part Time Position\n",
        "* case_status:  Flag indicating if the Visa was certified or denied"
      ],
      "id": "AT5OogJVFbwu"
    },
    {
      "cell_type": "markdown",
      "metadata": {
        "id": "dirty-island"
      },
      "source": [
        "## Importing necessary libraries and data"
      ],
      "id": "dirty-island"
    },
    {
      "cell_type": "code",
      "execution_count": null,
      "metadata": {
        "id": "statewide-still"
      },
      "outputs": [],
      "source": [
        "import warnings\n",
        "\n",
        "warnings.filterwarnings(\"ignore\")\n",
        "\n",
        "# Libraries to help with reading and manipulating data\n",
        "\n",
        "import pandas as pd\n",
        "import numpy as np\n",
        "\n",
        "# Library to split data\n",
        "from sklearn.model_selection import train_test_split\n",
        "\n",
        "# libaries to help with data visualization\n",
        "import matplotlib.pyplot as plt\n",
        "import seaborn as sns\n",
        "\n",
        "# Removes the limit for the number of displayed columns\n",
        "pd.set_option(\"display.max_columns\", None)\n",
        "# Sets the limit for the number of displayed rows\n",
        "pd.set_option(\"display.max_rows\", 200)\n",
        "\n",
        "\n",
        "# To build model for prediction\n",
        "import statsmodels.stats.api as sms\n",
        "from statsmodels.stats.outliers_influence import variance_inflation_factor\n",
        "import statsmodels.api as sm\n",
        "from statsmodels.tools.tools import add_constant\n",
        "from sklearn.linear_model import LogisticRegression\n",
        "\n",
        "# Libraries to build decision tree classifier\n",
        "from sklearn.tree import DecisionTreeClassifier\n",
        "from sklearn import tree\n",
        "from sklearn.ensemble import BaggingClassifier\n",
        "from sklearn.ensemble import RandomForestClassifier\n",
        "from sklearn.model_selection import GridSearchCV\n",
        "\n",
        "# Libraries for boosting \n",
        "from sklearn.ensemble import AdaBoostClassifier, GradientBoostingClassifier\n",
        "from xgboost import XGBClassifier\n",
        "from sklearn.ensemble import StackingClassifier\n",
        "\n",
        "# To tune different models\n",
        "from sklearn import metrics\n",
        "from sklearn.model_selection import GridSearchCV\n",
        "\n",
        "# To perform statistical analysis\n",
        "import scipy.stats as stats\n",
        "\n",
        "# To get diferent metric scores\n",
        "from sklearn.metrics import (\n",
        "    f1_score,\n",
        "    accuracy_score,\n",
        "    recall_score,\n",
        "    precision_score,\n",
        "    confusion_matrix,\n",
        "    roc_auc_score,\n",
        "    plot_confusion_matrix,\n",
        "    precision_recall_curve,\n",
        "    roc_curve,\n",
        "    make_scorer\n",
        ")"
      ],
      "id": "statewide-still"
    },
    {
      "cell_type": "code",
      "execution_count": null,
      "metadata": {
        "colab": {
          "base_uri": "https://localhost:8080/"
        },
        "id": "9iv9r5ELewOO",
        "outputId": "ddb2e84b-f75d-45da-db96-29d2911a37c2"
      },
      "outputs": [
        {
          "output_type": "stream",
          "name": "stdout",
          "text": [
            "Drive already mounted at /content/drive; to attempt to forcibly remount, call drive.mount(\"/content/drive\", force_remount=True).\n"
          ]
        }
      ],
      "source": [
        "# Giving colab access to my google drive\n",
        "from google.colab import drive\n",
        "drive.mount('/content/drive')"
      ],
      "id": "9iv9r5ELewOO"
    },
    {
      "cell_type": "code",
      "execution_count": null,
      "metadata": {
        "id": "x-NIzK55exz9"
      },
      "outputs": [],
      "source": [
        "# Reading the dataset\n",
        "data = pd.read_csv('/content/drive/MyDrive/Curso_DA/EasyVisa.csv')"
      ],
      "id": "x-NIzK55exz9"
    },
    {
      "cell_type": "markdown",
      "metadata": {
        "id": "desperate-infection"
      },
      "source": [
        "## Data Overview"
      ],
      "id": "desperate-infection"
    },
    {
      "cell_type": "code",
      "execution_count": null,
      "metadata": {
        "colab": {
          "base_uri": "https://localhost:8080/",
          "height": 270
        },
        "id": "persistent-juice",
        "outputId": "3db5cef4-3932-481d-95e4-c1e118668df8"
      },
      "outputs": [
        {
          "output_type": "execute_result",
          "data": {
            "text/plain": [
              "  case_id continent education_of_employee has_job_experience  \\\n",
              "0  EZYV01      Asia           High School                  N   \n",
              "1  EZYV02      Asia              Master's                  Y   \n",
              "2  EZYV03      Asia            Bachelor's                  N   \n",
              "3  EZYV04      Asia            Bachelor's                  N   \n",
              "4  EZYV05    Africa              Master's                  Y   \n",
              "\n",
              "  requires_job_training  no_of_employees  yr_of_estab region_of_employment  \\\n",
              "0                     N            14513         2007                 West   \n",
              "1                     N             2412         2002            Northeast   \n",
              "2                     Y            44444         2008                 West   \n",
              "3                     N               98         1897                 West   \n",
              "4                     N             1082         2005                South   \n",
              "\n",
              "   prevailing_wage unit_of_wage full_time_position case_status  \n",
              "0         592.2029         Hour                  Y      Denied  \n",
              "1       83425.6500         Year                  Y   Certified  \n",
              "2      122996.8600         Year                  Y      Denied  \n",
              "3       83434.0300         Year                  Y      Denied  \n",
              "4      149907.3900         Year                  Y   Certified  "
            ],
            "text/html": [
              "\n",
              "  <div id=\"df-305c240f-c799-472c-b4e8-fdfa8ea6f769\">\n",
              "    <div class=\"colab-df-container\">\n",
              "      <div>\n",
              "<style scoped>\n",
              "    .dataframe tbody tr th:only-of-type {\n",
              "        vertical-align: middle;\n",
              "    }\n",
              "\n",
              "    .dataframe tbody tr th {\n",
              "        vertical-align: top;\n",
              "    }\n",
              "\n",
              "    .dataframe thead th {\n",
              "        text-align: right;\n",
              "    }\n",
              "</style>\n",
              "<table border=\"1\" class=\"dataframe\">\n",
              "  <thead>\n",
              "    <tr style=\"text-align: right;\">\n",
              "      <th></th>\n",
              "      <th>case_id</th>\n",
              "      <th>continent</th>\n",
              "      <th>education_of_employee</th>\n",
              "      <th>has_job_experience</th>\n",
              "      <th>requires_job_training</th>\n",
              "      <th>no_of_employees</th>\n",
              "      <th>yr_of_estab</th>\n",
              "      <th>region_of_employment</th>\n",
              "      <th>prevailing_wage</th>\n",
              "      <th>unit_of_wage</th>\n",
              "      <th>full_time_position</th>\n",
              "      <th>case_status</th>\n",
              "    </tr>\n",
              "  </thead>\n",
              "  <tbody>\n",
              "    <tr>\n",
              "      <th>0</th>\n",
              "      <td>EZYV01</td>\n",
              "      <td>Asia</td>\n",
              "      <td>High School</td>\n",
              "      <td>N</td>\n",
              "      <td>N</td>\n",
              "      <td>14513</td>\n",
              "      <td>2007</td>\n",
              "      <td>West</td>\n",
              "      <td>592.2029</td>\n",
              "      <td>Hour</td>\n",
              "      <td>Y</td>\n",
              "      <td>Denied</td>\n",
              "    </tr>\n",
              "    <tr>\n",
              "      <th>1</th>\n",
              "      <td>EZYV02</td>\n",
              "      <td>Asia</td>\n",
              "      <td>Master's</td>\n",
              "      <td>Y</td>\n",
              "      <td>N</td>\n",
              "      <td>2412</td>\n",
              "      <td>2002</td>\n",
              "      <td>Northeast</td>\n",
              "      <td>83425.6500</td>\n",
              "      <td>Year</td>\n",
              "      <td>Y</td>\n",
              "      <td>Certified</td>\n",
              "    </tr>\n",
              "    <tr>\n",
              "      <th>2</th>\n",
              "      <td>EZYV03</td>\n",
              "      <td>Asia</td>\n",
              "      <td>Bachelor's</td>\n",
              "      <td>N</td>\n",
              "      <td>Y</td>\n",
              "      <td>44444</td>\n",
              "      <td>2008</td>\n",
              "      <td>West</td>\n",
              "      <td>122996.8600</td>\n",
              "      <td>Year</td>\n",
              "      <td>Y</td>\n",
              "      <td>Denied</td>\n",
              "    </tr>\n",
              "    <tr>\n",
              "      <th>3</th>\n",
              "      <td>EZYV04</td>\n",
              "      <td>Asia</td>\n",
              "      <td>Bachelor's</td>\n",
              "      <td>N</td>\n",
              "      <td>N</td>\n",
              "      <td>98</td>\n",
              "      <td>1897</td>\n",
              "      <td>West</td>\n",
              "      <td>83434.0300</td>\n",
              "      <td>Year</td>\n",
              "      <td>Y</td>\n",
              "      <td>Denied</td>\n",
              "    </tr>\n",
              "    <tr>\n",
              "      <th>4</th>\n",
              "      <td>EZYV05</td>\n",
              "      <td>Africa</td>\n",
              "      <td>Master's</td>\n",
              "      <td>Y</td>\n",
              "      <td>N</td>\n",
              "      <td>1082</td>\n",
              "      <td>2005</td>\n",
              "      <td>South</td>\n",
              "      <td>149907.3900</td>\n",
              "      <td>Year</td>\n",
              "      <td>Y</td>\n",
              "      <td>Certified</td>\n",
              "    </tr>\n",
              "  </tbody>\n",
              "</table>\n",
              "</div>\n",
              "      <button class=\"colab-df-convert\" onclick=\"convertToInteractive('df-305c240f-c799-472c-b4e8-fdfa8ea6f769')\"\n",
              "              title=\"Convert this dataframe to an interactive table.\"\n",
              "              style=\"display:none;\">\n",
              "        \n",
              "  <svg xmlns=\"http://www.w3.org/2000/svg\" height=\"24px\"viewBox=\"0 0 24 24\"\n",
              "       width=\"24px\">\n",
              "    <path d=\"M0 0h24v24H0V0z\" fill=\"none\"/>\n",
              "    <path d=\"M18.56 5.44l.94 2.06.94-2.06 2.06-.94-2.06-.94-.94-2.06-.94 2.06-2.06.94zm-11 1L8.5 8.5l.94-2.06 2.06-.94-2.06-.94L8.5 2.5l-.94 2.06-2.06.94zm10 10l.94 2.06.94-2.06 2.06-.94-2.06-.94-.94-2.06-.94 2.06-2.06.94z\"/><path d=\"M17.41 7.96l-1.37-1.37c-.4-.4-.92-.59-1.43-.59-.52 0-1.04.2-1.43.59L10.3 9.45l-7.72 7.72c-.78.78-.78 2.05 0 2.83L4 21.41c.39.39.9.59 1.41.59.51 0 1.02-.2 1.41-.59l7.78-7.78 2.81-2.81c.8-.78.8-2.07 0-2.86zM5.41 20L4 18.59l7.72-7.72 1.47 1.35L5.41 20z\"/>\n",
              "  </svg>\n",
              "      </button>\n",
              "      \n",
              "  <style>\n",
              "    .colab-df-container {\n",
              "      display:flex;\n",
              "      flex-wrap:wrap;\n",
              "      gap: 12px;\n",
              "    }\n",
              "\n",
              "    .colab-df-convert {\n",
              "      background-color: #E8F0FE;\n",
              "      border: none;\n",
              "      border-radius: 50%;\n",
              "      cursor: pointer;\n",
              "      display: none;\n",
              "      fill: #1967D2;\n",
              "      height: 32px;\n",
              "      padding: 0 0 0 0;\n",
              "      width: 32px;\n",
              "    }\n",
              "\n",
              "    .colab-df-convert:hover {\n",
              "      background-color: #E2EBFA;\n",
              "      box-shadow: 0px 1px 2px rgba(60, 64, 67, 0.3), 0px 1px 3px 1px rgba(60, 64, 67, 0.15);\n",
              "      fill: #174EA6;\n",
              "    }\n",
              "\n",
              "    [theme=dark] .colab-df-convert {\n",
              "      background-color: #3B4455;\n",
              "      fill: #D2E3FC;\n",
              "    }\n",
              "\n",
              "    [theme=dark] .colab-df-convert:hover {\n",
              "      background-color: #434B5C;\n",
              "      box-shadow: 0px 1px 3px 1px rgba(0, 0, 0, 0.15);\n",
              "      filter: drop-shadow(0px 1px 2px rgba(0, 0, 0, 0.3));\n",
              "      fill: #FFFFFF;\n",
              "    }\n",
              "  </style>\n",
              "\n",
              "      <script>\n",
              "        const buttonEl =\n",
              "          document.querySelector('#df-305c240f-c799-472c-b4e8-fdfa8ea6f769 button.colab-df-convert');\n",
              "        buttonEl.style.display =\n",
              "          google.colab.kernel.accessAllowed ? 'block' : 'none';\n",
              "\n",
              "        async function convertToInteractive(key) {\n",
              "          const element = document.querySelector('#df-305c240f-c799-472c-b4e8-fdfa8ea6f769');\n",
              "          const dataTable =\n",
              "            await google.colab.kernel.invokeFunction('convertToInteractive',\n",
              "                                                     [key], {});\n",
              "          if (!dataTable) return;\n",
              "\n",
              "          const docLinkHtml = 'Like what you see? Visit the ' +\n",
              "            '<a target=\"_blank\" href=https://colab.research.google.com/notebooks/data_table.ipynb>data table notebook</a>'\n",
              "            + ' to learn more about interactive tables.';\n",
              "          element.innerHTML = '';\n",
              "          dataTable['output_type'] = 'display_data';\n",
              "          await google.colab.output.renderOutput(dataTable, element);\n",
              "          const docLink = document.createElement('div');\n",
              "          docLink.innerHTML = docLinkHtml;\n",
              "          element.appendChild(docLink);\n",
              "        }\n",
              "      </script>\n",
              "    </div>\n",
              "  </div>\n",
              "  "
            ]
          },
          "metadata": {},
          "execution_count": 66
        }
      ],
      "source": [
        "# Having a glimpse of the data\n",
        "data.head()"
      ],
      "id": "persistent-juice"
    },
    {
      "cell_type": "code",
      "execution_count": null,
      "metadata": {
        "colab": {
          "base_uri": "https://localhost:8080/"
        },
        "id": "ZM1S09YyfXRt",
        "outputId": "14a12cb1-c2ba-47b0-8e80-ebd33983d272"
      },
      "outputs": [
        {
          "output_type": "stream",
          "name": "stdout",
          "text": [
            "There are 25480 rows and 12 columns.\n"
          ]
        }
      ],
      "source": [
        "# Checking shape of the data\n",
        "print(\"There are\", data.shape[0], 'rows and', data.shape[1], \"columns.\")"
      ],
      "id": "ZM1S09YyfXRt"
    },
    {
      "cell_type": "code",
      "execution_count": null,
      "metadata": {
        "colab": {
          "base_uri": "https://localhost:8080/"
        },
        "id": "cgE2sH1-fecV",
        "outputId": "c4c8618d-2827-45eb-990b-e6156931bfaf"
      },
      "outputs": [
        {
          "output_type": "stream",
          "name": "stdout",
          "text": [
            "<class 'pandas.core.frame.DataFrame'>\n",
            "RangeIndex: 25480 entries, 0 to 25479\n",
            "Data columns (total 12 columns):\n",
            " #   Column                 Non-Null Count  Dtype  \n",
            "---  ------                 --------------  -----  \n",
            " 0   case_id                25480 non-null  object \n",
            " 1   continent              25480 non-null  object \n",
            " 2   education_of_employee  25480 non-null  object \n",
            " 3   has_job_experience     25480 non-null  object \n",
            " 4   requires_job_training  25480 non-null  object \n",
            " 5   no_of_employees        25480 non-null  int64  \n",
            " 6   yr_of_estab            25480 non-null  int64  \n",
            " 7   region_of_employment   25480 non-null  object \n",
            " 8   prevailing_wage        25480 non-null  float64\n",
            " 9   unit_of_wage           25480 non-null  object \n",
            " 10  full_time_position     25480 non-null  object \n",
            " 11  case_status            25480 non-null  object \n",
            "dtypes: float64(1), int64(2), object(9)\n",
            "memory usage: 2.3+ MB\n"
          ]
        }
      ],
      "source": [
        "# Checking the type of data and null values \n",
        "data.info()"
      ],
      "id": "cgE2sH1-fecV"
    },
    {
      "cell_type": "markdown",
      "source": [
        "* We have 9 object type columns and three numerical columns."
      ],
      "metadata": {
        "id": "mDtC6avI6JsE"
      },
      "id": "mDtC6avI6JsE"
    },
    {
      "cell_type": "code",
      "execution_count": null,
      "metadata": {
        "colab": {
          "base_uri": "https://localhost:8080/"
        },
        "id": "pnqbp8GEfnAl",
        "outputId": "ee30923a-ef88-4ebf-a381-20eb5fc3661d"
      },
      "outputs": [
        {
          "output_type": "execute_result",
          "data": {
            "text/plain": [
              "0"
            ]
          },
          "metadata": {},
          "execution_count": 69
        }
      ],
      "source": [
        "# Checking for duplicates\n",
        "data.duplicated().sum()"
      ],
      "id": "pnqbp8GEfnAl"
    },
    {
      "cell_type": "markdown",
      "source": [
        "* There are no duplicates in the data\n"
      ],
      "metadata": {
        "id": "oorC3FG66V6Z"
      },
      "id": "oorC3FG66V6Z"
    },
    {
      "cell_type": "code",
      "execution_count": null,
      "metadata": {
        "colab": {
          "base_uri": "https://localhost:8080/"
        },
        "id": "iDxd1YN6fs__",
        "outputId": "439c2b07-27d6-4ce9-a6cc-99ca5867e734"
      },
      "outputs": [
        {
          "output_type": "execute_result",
          "data": {
            "text/plain": [
              "case_id                  0\n",
              "continent                0\n",
              "education_of_employee    0\n",
              "has_job_experience       0\n",
              "requires_job_training    0\n",
              "no_of_employees          0\n",
              "yr_of_estab              0\n",
              "region_of_employment     0\n",
              "prevailing_wage          0\n",
              "unit_of_wage             0\n",
              "full_time_position       0\n",
              "case_status              0\n",
              "dtype: int64"
            ]
          },
          "metadata": {},
          "execution_count": 70
        }
      ],
      "source": [
        "# Rechecking for missing values\n",
        "data.isnull().sum()"
      ],
      "id": "iDxd1YN6fs__"
    },
    {
      "cell_type": "code",
      "execution_count": null,
      "metadata": {
        "colab": {
          "base_uri": "https://localhost:8080/",
          "height": 143
        },
        "id": "GOouqn2Hfxtd",
        "outputId": "32086d60-4e79-4d74-ffe9-65bc7741f55d"
      },
      "outputs": [
        {
          "output_type": "execute_result",
          "data": {
            "text/plain": [
              "                   count          mean           std        min       25%  \\\n",
              "no_of_employees  25480.0   5667.043210  22877.928848   -26.0000   1022.00   \n",
              "yr_of_estab      25480.0   1979.409929     42.366929  1800.0000   1976.00   \n",
              "prevailing_wage  25480.0  74455.814592  52815.942327     2.1367  34015.48   \n",
              "\n",
              "                      50%          75%        max  \n",
              "no_of_employees   2109.00    3504.0000  602069.00  \n",
              "yr_of_estab       1997.00    2005.0000    2016.00  \n",
              "prevailing_wage  70308.21  107735.5125  319210.27  "
            ],
            "text/html": [
              "\n",
              "  <div id=\"df-03b50c18-0380-41de-a512-325dfb70429a\">\n",
              "    <div class=\"colab-df-container\">\n",
              "      <div>\n",
              "<style scoped>\n",
              "    .dataframe tbody tr th:only-of-type {\n",
              "        vertical-align: middle;\n",
              "    }\n",
              "\n",
              "    .dataframe tbody tr th {\n",
              "        vertical-align: top;\n",
              "    }\n",
              "\n",
              "    .dataframe thead th {\n",
              "        text-align: right;\n",
              "    }\n",
              "</style>\n",
              "<table border=\"1\" class=\"dataframe\">\n",
              "  <thead>\n",
              "    <tr style=\"text-align: right;\">\n",
              "      <th></th>\n",
              "      <th>count</th>\n",
              "      <th>mean</th>\n",
              "      <th>std</th>\n",
              "      <th>min</th>\n",
              "      <th>25%</th>\n",
              "      <th>50%</th>\n",
              "      <th>75%</th>\n",
              "      <th>max</th>\n",
              "    </tr>\n",
              "  </thead>\n",
              "  <tbody>\n",
              "    <tr>\n",
              "      <th>no_of_employees</th>\n",
              "      <td>25480.0</td>\n",
              "      <td>5667.043210</td>\n",
              "      <td>22877.928848</td>\n",
              "      <td>-26.0000</td>\n",
              "      <td>1022.00</td>\n",
              "      <td>2109.00</td>\n",
              "      <td>3504.0000</td>\n",
              "      <td>602069.00</td>\n",
              "    </tr>\n",
              "    <tr>\n",
              "      <th>yr_of_estab</th>\n",
              "      <td>25480.0</td>\n",
              "      <td>1979.409929</td>\n",
              "      <td>42.366929</td>\n",
              "      <td>1800.0000</td>\n",
              "      <td>1976.00</td>\n",
              "      <td>1997.00</td>\n",
              "      <td>2005.0000</td>\n",
              "      <td>2016.00</td>\n",
              "    </tr>\n",
              "    <tr>\n",
              "      <th>prevailing_wage</th>\n",
              "      <td>25480.0</td>\n",
              "      <td>74455.814592</td>\n",
              "      <td>52815.942327</td>\n",
              "      <td>2.1367</td>\n",
              "      <td>34015.48</td>\n",
              "      <td>70308.21</td>\n",
              "      <td>107735.5125</td>\n",
              "      <td>319210.27</td>\n",
              "    </tr>\n",
              "  </tbody>\n",
              "</table>\n",
              "</div>\n",
              "      <button class=\"colab-df-convert\" onclick=\"convertToInteractive('df-03b50c18-0380-41de-a512-325dfb70429a')\"\n",
              "              title=\"Convert this dataframe to an interactive table.\"\n",
              "              style=\"display:none;\">\n",
              "        \n",
              "  <svg xmlns=\"http://www.w3.org/2000/svg\" height=\"24px\"viewBox=\"0 0 24 24\"\n",
              "       width=\"24px\">\n",
              "    <path d=\"M0 0h24v24H0V0z\" fill=\"none\"/>\n",
              "    <path d=\"M18.56 5.44l.94 2.06.94-2.06 2.06-.94-2.06-.94-.94-2.06-.94 2.06-2.06.94zm-11 1L8.5 8.5l.94-2.06 2.06-.94-2.06-.94L8.5 2.5l-.94 2.06-2.06.94zm10 10l.94 2.06.94-2.06 2.06-.94-2.06-.94-.94-2.06-.94 2.06-2.06.94z\"/><path d=\"M17.41 7.96l-1.37-1.37c-.4-.4-.92-.59-1.43-.59-.52 0-1.04.2-1.43.59L10.3 9.45l-7.72 7.72c-.78.78-.78 2.05 0 2.83L4 21.41c.39.39.9.59 1.41.59.51 0 1.02-.2 1.41-.59l7.78-7.78 2.81-2.81c.8-.78.8-2.07 0-2.86zM5.41 20L4 18.59l7.72-7.72 1.47 1.35L5.41 20z\"/>\n",
              "  </svg>\n",
              "      </button>\n",
              "      \n",
              "  <style>\n",
              "    .colab-df-container {\n",
              "      display:flex;\n",
              "      flex-wrap:wrap;\n",
              "      gap: 12px;\n",
              "    }\n",
              "\n",
              "    .colab-df-convert {\n",
              "      background-color: #E8F0FE;\n",
              "      border: none;\n",
              "      border-radius: 50%;\n",
              "      cursor: pointer;\n",
              "      display: none;\n",
              "      fill: #1967D2;\n",
              "      height: 32px;\n",
              "      padding: 0 0 0 0;\n",
              "      width: 32px;\n",
              "    }\n",
              "\n",
              "    .colab-df-convert:hover {\n",
              "      background-color: #E2EBFA;\n",
              "      box-shadow: 0px 1px 2px rgba(60, 64, 67, 0.3), 0px 1px 3px 1px rgba(60, 64, 67, 0.15);\n",
              "      fill: #174EA6;\n",
              "    }\n",
              "\n",
              "    [theme=dark] .colab-df-convert {\n",
              "      background-color: #3B4455;\n",
              "      fill: #D2E3FC;\n",
              "    }\n",
              "\n",
              "    [theme=dark] .colab-df-convert:hover {\n",
              "      background-color: #434B5C;\n",
              "      box-shadow: 0px 1px 3px 1px rgba(0, 0, 0, 0.15);\n",
              "      filter: drop-shadow(0px 1px 2px rgba(0, 0, 0, 0.3));\n",
              "      fill: #FFFFFF;\n",
              "    }\n",
              "  </style>\n",
              "\n",
              "      <script>\n",
              "        const buttonEl =\n",
              "          document.querySelector('#df-03b50c18-0380-41de-a512-325dfb70429a button.colab-df-convert');\n",
              "        buttonEl.style.display =\n",
              "          google.colab.kernel.accessAllowed ? 'block' : 'none';\n",
              "\n",
              "        async function convertToInteractive(key) {\n",
              "          const element = document.querySelector('#df-03b50c18-0380-41de-a512-325dfb70429a');\n",
              "          const dataTable =\n",
              "            await google.colab.kernel.invokeFunction('convertToInteractive',\n",
              "                                                     [key], {});\n",
              "          if (!dataTable) return;\n",
              "\n",
              "          const docLinkHtml = 'Like what you see? Visit the ' +\n",
              "            '<a target=\"_blank\" href=https://colab.research.google.com/notebooks/data_table.ipynb>data table notebook</a>'\n",
              "            + ' to learn more about interactive tables.';\n",
              "          element.innerHTML = '';\n",
              "          dataTable['output_type'] = 'display_data';\n",
              "          await google.colab.output.renderOutput(dataTable, element);\n",
              "          const docLink = document.createElement('div');\n",
              "          docLink.innerHTML = docLinkHtml;\n",
              "          element.appendChild(docLink);\n",
              "        }\n",
              "      </script>\n",
              "    </div>\n",
              "  </div>\n",
              "  "
            ]
          },
          "metadata": {},
          "execution_count": 71
        }
      ],
      "source": [
        "# Having a statistical summary of the numerical data\n",
        "data.describe().T"
      ],
      "id": "GOouqn2Hfxtd"
    },
    {
      "cell_type": "markdown",
      "source": [
        "* It doesn't make sense having a negative number of employees.\n",
        "* Let's take a look at these rows."
      ],
      "metadata": {
        "id": "rS3RYBP-6mJa"
      },
      "id": "rS3RYBP-6mJa"
    },
    {
      "cell_type": "code",
      "execution_count": null,
      "metadata": {
        "colab": {
          "base_uri": "https://localhost:8080/",
          "height": 1000
        },
        "id": "0hhcPruoHD-d",
        "outputId": "32eb5b34-91a1-4307-82c7-11594a880177"
      },
      "outputs": [
        {
          "output_type": "execute_result",
          "data": {
            "text/plain": [
              "         case_id      continent education_of_employee has_job_experience  \\\n",
              "245      EZYV246         Europe              Master's                  N   \n",
              "378      EZYV379           Asia            Bachelor's                  N   \n",
              "832      EZYV833  South America              Master's                  Y   \n",
              "2918    EZYV2919           Asia              Master's                  Y   \n",
              "6439    EZYV6440           Asia            Bachelor's                  N   \n",
              "6634    EZYV6635           Asia            Bachelor's                  Y   \n",
              "7224    EZYV7225         Europe             Doctorate                  N   \n",
              "7281    EZYV7282           Asia           High School                  N   \n",
              "7318    EZYV7319           Asia            Bachelor's                  Y   \n",
              "7761    EZYV7762           Asia              Master's                  N   \n",
              "9872    EZYV9873         Europe              Master's                  Y   \n",
              "11493  EZYV11494           Asia           High School                  Y   \n",
              "13471  EZYV13472  North America              Master's                  N   \n",
              "14022  EZYV14023           Asia            Bachelor's                  N   \n",
              "14146  EZYV14147           Asia            Bachelor's                  N   \n",
              "14726  EZYV14727           Asia              Master's                  N   \n",
              "15600  EZYV15601           Asia            Bachelor's                  N   \n",
              "15859  EZYV15860           Asia           High School                  N   \n",
              "16157  EZYV16158           Asia              Master's                  Y   \n",
              "16883  EZYV16884  North America            Bachelor's                  Y   \n",
              "17006  EZYV17007           Asia             Doctorate                  Y   \n",
              "17655  EZYV17656  North America            Bachelor's                  Y   \n",
              "17844  EZYV17845           Asia            Bachelor's                  N   \n",
              "17983  EZYV17984           Asia            Bachelor's                  N   \n",
              "20815  EZYV20816           Asia            Bachelor's                  N   \n",
              "20984  EZYV20985         Europe             Doctorate                  Y   \n",
              "21255  EZYV21256  North America           High School                  N   \n",
              "21760  EZYV21761           Asia            Bachelor's                  Y   \n",
              "21944  EZYV21945         Africa              Master's                  Y   \n",
              "22084  EZYV22085  North America            Bachelor's                  Y   \n",
              "22388  EZYV22389           Asia              Master's                  Y   \n",
              "23186  EZYV23187           Asia              Master's                  N   \n",
              "23476  EZYV23477         Europe              Master's                  Y   \n",
              "\n",
              "      requires_job_training  no_of_employees  yr_of_estab  \\\n",
              "245                       N              -25         1980   \n",
              "378                       Y              -11         2011   \n",
              "832                       N              -17         2002   \n",
              "2918                      N              -26         2005   \n",
              "6439                      N              -14         2013   \n",
              "6634                      N              -26         1923   \n",
              "7224                      N              -25         1998   \n",
              "7281                      N              -14         2000   \n",
              "7318                      Y              -26         2006   \n",
              "7761                      N              -11         2009   \n",
              "9872                      N              -26         1996   \n",
              "11493                     N              -14         1999   \n",
              "13471                     N              -17         2003   \n",
              "14022                     Y              -11         1946   \n",
              "14146                     Y              -26         1954   \n",
              "14726                     N              -11         2000   \n",
              "15600                     N              -14         2014   \n",
              "15859                     N              -11         1969   \n",
              "16157                     N              -11         1994   \n",
              "16883                     N              -26         1968   \n",
              "17006                     N              -11         1984   \n",
              "17655                     N              -17         2007   \n",
              "17844                     N              -14         2012   \n",
              "17983                     N              -26         2004   \n",
              "20815                     Y              -17         1990   \n",
              "20984                     N              -14         1989   \n",
              "21255                     N              -25         1987   \n",
              "21760                     N              -25         2000   \n",
              "21944                     N              -25         1977   \n",
              "22084                     N              -14         1980   \n",
              "22388                     N              -14         1986   \n",
              "23186                     Y              -11         2007   \n",
              "23476                     N              -11         2000   \n",
              "\n",
              "      region_of_employment  prevailing_wage unit_of_wage full_time_position  \\\n",
              "245              Northeast       39452.9900         Year                  Y   \n",
              "378              Northeast       32506.1400         Year                  Y   \n",
              "832                  South      129701.9400         Year                  Y   \n",
              "2918               Midwest      112799.4600         Year                  Y   \n",
              "6439                 South         103.9700         Hour                  Y   \n",
              "6634                  West        5247.3200         Year                  Y   \n",
              "7224               Midwest      141435.9500         Year                  Y   \n",
              "7281               Midwest       58488.5000         Year                  Y   \n",
              "7318                 South      115005.6100         Year                  Y   \n",
              "7761               Midwest       38457.5100         Year                  Y   \n",
              "9872                 South       37397.0500         Year                  Y   \n",
              "11493                South       27599.3500         Year                  Y   \n",
              "13471            Northeast         257.2413         Hour                  Y   \n",
              "14022            Northeast      108403.5600         Year                  Y   \n",
              "14146                 West       81982.2700         Year                  Y   \n",
              "14726              Midwest      167851.8000         Year                  Y   \n",
              "15600                South       24641.6100         Year                  Y   \n",
              "15859                South       44640.6000         Year                  Y   \n",
              "16157                South       62681.2500         Year                  Y   \n",
              "16883            Northeast         168.1558         Hour                  Y   \n",
              "17006                 West       25753.5100         Year                  Y   \n",
              "17655            Northeast      129753.1800         Year                  Y   \n",
              "17844                 West       29325.8500         Year                  Y   \n",
              "17983                South       84359.9800         Year                  Y   \n",
              "20815                 West       91897.5700         Year                  Y   \n",
              "20984              Midwest       37012.8000         Year                  Y   \n",
              "21255                South       99405.4700         Year                  N   \n",
              "21760                 West      100463.5800         Year                  Y   \n",
              "21944              Midwest       79150.5100         Year                  Y   \n",
              "22084                 West         691.0609         Hour                  Y   \n",
              "22388                South       17893.1100         Year                  Y   \n",
              "23186              Midwest      120195.3500         Year                  Y   \n",
              "23476                 West       95072.7500         Year                  Y   \n",
              "\n",
              "      case_status  \n",
              "245     Certified  \n",
              "378        Denied  \n",
              "832     Certified  \n",
              "2918    Certified  \n",
              "6439       Denied  \n",
              "6634       Denied  \n",
              "7224    Certified  \n",
              "7281       Denied  \n",
              "7318    Certified  \n",
              "7761    Certified  \n",
              "9872    Certified  \n",
              "11493      Denied  \n",
              "13471      Denied  \n",
              "14022   Certified  \n",
              "14146   Certified  \n",
              "14726   Certified  \n",
              "15600      Denied  \n",
              "15859      Denied  \n",
              "16157   Certified  \n",
              "16883      Denied  \n",
              "17006      Denied  \n",
              "17655      Denied  \n",
              "17844      Denied  \n",
              "17983      Denied  \n",
              "20815   Certified  \n",
              "20984   Certified  \n",
              "21255      Denied  \n",
              "21760   Certified  \n",
              "21944   Certified  \n",
              "22084      Denied  \n",
              "22388   Certified  \n",
              "23186   Certified  \n",
              "23476      Denied  "
            ],
            "text/html": [
              "\n",
              "  <div id=\"df-42eed793-22d6-4345-8a7b-b718c58fb20d\">\n",
              "    <div class=\"colab-df-container\">\n",
              "      <div>\n",
              "<style scoped>\n",
              "    .dataframe tbody tr th:only-of-type {\n",
              "        vertical-align: middle;\n",
              "    }\n",
              "\n",
              "    .dataframe tbody tr th {\n",
              "        vertical-align: top;\n",
              "    }\n",
              "\n",
              "    .dataframe thead th {\n",
              "        text-align: right;\n",
              "    }\n",
              "</style>\n",
              "<table border=\"1\" class=\"dataframe\">\n",
              "  <thead>\n",
              "    <tr style=\"text-align: right;\">\n",
              "      <th></th>\n",
              "      <th>case_id</th>\n",
              "      <th>continent</th>\n",
              "      <th>education_of_employee</th>\n",
              "      <th>has_job_experience</th>\n",
              "      <th>requires_job_training</th>\n",
              "      <th>no_of_employees</th>\n",
              "      <th>yr_of_estab</th>\n",
              "      <th>region_of_employment</th>\n",
              "      <th>prevailing_wage</th>\n",
              "      <th>unit_of_wage</th>\n",
              "      <th>full_time_position</th>\n",
              "      <th>case_status</th>\n",
              "    </tr>\n",
              "  </thead>\n",
              "  <tbody>\n",
              "    <tr>\n",
              "      <th>245</th>\n",
              "      <td>EZYV246</td>\n",
              "      <td>Europe</td>\n",
              "      <td>Master's</td>\n",
              "      <td>N</td>\n",
              "      <td>N</td>\n",
              "      <td>-25</td>\n",
              "      <td>1980</td>\n",
              "      <td>Northeast</td>\n",
              "      <td>39452.9900</td>\n",
              "      <td>Year</td>\n",
              "      <td>Y</td>\n",
              "      <td>Certified</td>\n",
              "    </tr>\n",
              "    <tr>\n",
              "      <th>378</th>\n",
              "      <td>EZYV379</td>\n",
              "      <td>Asia</td>\n",
              "      <td>Bachelor's</td>\n",
              "      <td>N</td>\n",
              "      <td>Y</td>\n",
              "      <td>-11</td>\n",
              "      <td>2011</td>\n",
              "      <td>Northeast</td>\n",
              "      <td>32506.1400</td>\n",
              "      <td>Year</td>\n",
              "      <td>Y</td>\n",
              "      <td>Denied</td>\n",
              "    </tr>\n",
              "    <tr>\n",
              "      <th>832</th>\n",
              "      <td>EZYV833</td>\n",
              "      <td>South America</td>\n",
              "      <td>Master's</td>\n",
              "      <td>Y</td>\n",
              "      <td>N</td>\n",
              "      <td>-17</td>\n",
              "      <td>2002</td>\n",
              "      <td>South</td>\n",
              "      <td>129701.9400</td>\n",
              "      <td>Year</td>\n",
              "      <td>Y</td>\n",
              "      <td>Certified</td>\n",
              "    </tr>\n",
              "    <tr>\n",
              "      <th>2918</th>\n",
              "      <td>EZYV2919</td>\n",
              "      <td>Asia</td>\n",
              "      <td>Master's</td>\n",
              "      <td>Y</td>\n",
              "      <td>N</td>\n",
              "      <td>-26</td>\n",
              "      <td>2005</td>\n",
              "      <td>Midwest</td>\n",
              "      <td>112799.4600</td>\n",
              "      <td>Year</td>\n",
              "      <td>Y</td>\n",
              "      <td>Certified</td>\n",
              "    </tr>\n",
              "    <tr>\n",
              "      <th>6439</th>\n",
              "      <td>EZYV6440</td>\n",
              "      <td>Asia</td>\n",
              "      <td>Bachelor's</td>\n",
              "      <td>N</td>\n",
              "      <td>N</td>\n",
              "      <td>-14</td>\n",
              "      <td>2013</td>\n",
              "      <td>South</td>\n",
              "      <td>103.9700</td>\n",
              "      <td>Hour</td>\n",
              "      <td>Y</td>\n",
              "      <td>Denied</td>\n",
              "    </tr>\n",
              "    <tr>\n",
              "      <th>6634</th>\n",
              "      <td>EZYV6635</td>\n",
              "      <td>Asia</td>\n",
              "      <td>Bachelor's</td>\n",
              "      <td>Y</td>\n",
              "      <td>N</td>\n",
              "      <td>-26</td>\n",
              "      <td>1923</td>\n",
              "      <td>West</td>\n",
              "      <td>5247.3200</td>\n",
              "      <td>Year</td>\n",
              "      <td>Y</td>\n",
              "      <td>Denied</td>\n",
              "    </tr>\n",
              "    <tr>\n",
              "      <th>7224</th>\n",
              "      <td>EZYV7225</td>\n",
              "      <td>Europe</td>\n",
              "      <td>Doctorate</td>\n",
              "      <td>N</td>\n",
              "      <td>N</td>\n",
              "      <td>-25</td>\n",
              "      <td>1998</td>\n",
              "      <td>Midwest</td>\n",
              "      <td>141435.9500</td>\n",
              "      <td>Year</td>\n",
              "      <td>Y</td>\n",
              "      <td>Certified</td>\n",
              "    </tr>\n",
              "    <tr>\n",
              "      <th>7281</th>\n",
              "      <td>EZYV7282</td>\n",
              "      <td>Asia</td>\n",
              "      <td>High School</td>\n",
              "      <td>N</td>\n",
              "      <td>N</td>\n",
              "      <td>-14</td>\n",
              "      <td>2000</td>\n",
              "      <td>Midwest</td>\n",
              "      <td>58488.5000</td>\n",
              "      <td>Year</td>\n",
              "      <td>Y</td>\n",
              "      <td>Denied</td>\n",
              "    </tr>\n",
              "    <tr>\n",
              "      <th>7318</th>\n",
              "      <td>EZYV7319</td>\n",
              "      <td>Asia</td>\n",
              "      <td>Bachelor's</td>\n",
              "      <td>Y</td>\n",
              "      <td>Y</td>\n",
              "      <td>-26</td>\n",
              "      <td>2006</td>\n",
              "      <td>South</td>\n",
              "      <td>115005.6100</td>\n",
              "      <td>Year</td>\n",
              "      <td>Y</td>\n",
              "      <td>Certified</td>\n",
              "    </tr>\n",
              "    <tr>\n",
              "      <th>7761</th>\n",
              "      <td>EZYV7762</td>\n",
              "      <td>Asia</td>\n",
              "      <td>Master's</td>\n",
              "      <td>N</td>\n",
              "      <td>N</td>\n",
              "      <td>-11</td>\n",
              "      <td>2009</td>\n",
              "      <td>Midwest</td>\n",
              "      <td>38457.5100</td>\n",
              "      <td>Year</td>\n",
              "      <td>Y</td>\n",
              "      <td>Certified</td>\n",
              "    </tr>\n",
              "    <tr>\n",
              "      <th>9872</th>\n",
              "      <td>EZYV9873</td>\n",
              "      <td>Europe</td>\n",
              "      <td>Master's</td>\n",
              "      <td>Y</td>\n",
              "      <td>N</td>\n",
              "      <td>-26</td>\n",
              "      <td>1996</td>\n",
              "      <td>South</td>\n",
              "      <td>37397.0500</td>\n",
              "      <td>Year</td>\n",
              "      <td>Y</td>\n",
              "      <td>Certified</td>\n",
              "    </tr>\n",
              "    <tr>\n",
              "      <th>11493</th>\n",
              "      <td>EZYV11494</td>\n",
              "      <td>Asia</td>\n",
              "      <td>High School</td>\n",
              "      <td>Y</td>\n",
              "      <td>N</td>\n",
              "      <td>-14</td>\n",
              "      <td>1999</td>\n",
              "      <td>South</td>\n",
              "      <td>27599.3500</td>\n",
              "      <td>Year</td>\n",
              "      <td>Y</td>\n",
              "      <td>Denied</td>\n",
              "    </tr>\n",
              "    <tr>\n",
              "      <th>13471</th>\n",
              "      <td>EZYV13472</td>\n",
              "      <td>North America</td>\n",
              "      <td>Master's</td>\n",
              "      <td>N</td>\n",
              "      <td>N</td>\n",
              "      <td>-17</td>\n",
              "      <td>2003</td>\n",
              "      <td>Northeast</td>\n",
              "      <td>257.2413</td>\n",
              "      <td>Hour</td>\n",
              "      <td>Y</td>\n",
              "      <td>Denied</td>\n",
              "    </tr>\n",
              "    <tr>\n",
              "      <th>14022</th>\n",
              "      <td>EZYV14023</td>\n",
              "      <td>Asia</td>\n",
              "      <td>Bachelor's</td>\n",
              "      <td>N</td>\n",
              "      <td>Y</td>\n",
              "      <td>-11</td>\n",
              "      <td>1946</td>\n",
              "      <td>Northeast</td>\n",
              "      <td>108403.5600</td>\n",
              "      <td>Year</td>\n",
              "      <td>Y</td>\n",
              "      <td>Certified</td>\n",
              "    </tr>\n",
              "    <tr>\n",
              "      <th>14146</th>\n",
              "      <td>EZYV14147</td>\n",
              "      <td>Asia</td>\n",
              "      <td>Bachelor's</td>\n",
              "      <td>N</td>\n",
              "      <td>Y</td>\n",
              "      <td>-26</td>\n",
              "      <td>1954</td>\n",
              "      <td>West</td>\n",
              "      <td>81982.2700</td>\n",
              "      <td>Year</td>\n",
              "      <td>Y</td>\n",
              "      <td>Certified</td>\n",
              "    </tr>\n",
              "    <tr>\n",
              "      <th>14726</th>\n",
              "      <td>EZYV14727</td>\n",
              "      <td>Asia</td>\n",
              "      <td>Master's</td>\n",
              "      <td>N</td>\n",
              "      <td>N</td>\n",
              "      <td>-11</td>\n",
              "      <td>2000</td>\n",
              "      <td>Midwest</td>\n",
              "      <td>167851.8000</td>\n",
              "      <td>Year</td>\n",
              "      <td>Y</td>\n",
              "      <td>Certified</td>\n",
              "    </tr>\n",
              "    <tr>\n",
              "      <th>15600</th>\n",
              "      <td>EZYV15601</td>\n",
              "      <td>Asia</td>\n",
              "      <td>Bachelor's</td>\n",
              "      <td>N</td>\n",
              "      <td>N</td>\n",
              "      <td>-14</td>\n",
              "      <td>2014</td>\n",
              "      <td>South</td>\n",
              "      <td>24641.6100</td>\n",
              "      <td>Year</td>\n",
              "      <td>Y</td>\n",
              "      <td>Denied</td>\n",
              "    </tr>\n",
              "    <tr>\n",
              "      <th>15859</th>\n",
              "      <td>EZYV15860</td>\n",
              "      <td>Asia</td>\n",
              "      <td>High School</td>\n",
              "      <td>N</td>\n",
              "      <td>N</td>\n",
              "      <td>-11</td>\n",
              "      <td>1969</td>\n",
              "      <td>South</td>\n",
              "      <td>44640.6000</td>\n",
              "      <td>Year</td>\n",
              "      <td>Y</td>\n",
              "      <td>Denied</td>\n",
              "    </tr>\n",
              "    <tr>\n",
              "      <th>16157</th>\n",
              "      <td>EZYV16158</td>\n",
              "      <td>Asia</td>\n",
              "      <td>Master's</td>\n",
              "      <td>Y</td>\n",
              "      <td>N</td>\n",
              "      <td>-11</td>\n",
              "      <td>1994</td>\n",
              "      <td>South</td>\n",
              "      <td>62681.2500</td>\n",
              "      <td>Year</td>\n",
              "      <td>Y</td>\n",
              "      <td>Certified</td>\n",
              "    </tr>\n",
              "    <tr>\n",
              "      <th>16883</th>\n",
              "      <td>EZYV16884</td>\n",
              "      <td>North America</td>\n",
              "      <td>Bachelor's</td>\n",
              "      <td>Y</td>\n",
              "      <td>N</td>\n",
              "      <td>-26</td>\n",
              "      <td>1968</td>\n",
              "      <td>Northeast</td>\n",
              "      <td>168.1558</td>\n",
              "      <td>Hour</td>\n",
              "      <td>Y</td>\n",
              "      <td>Denied</td>\n",
              "    </tr>\n",
              "    <tr>\n",
              "      <th>17006</th>\n",
              "      <td>EZYV17007</td>\n",
              "      <td>Asia</td>\n",
              "      <td>Doctorate</td>\n",
              "      <td>Y</td>\n",
              "      <td>N</td>\n",
              "      <td>-11</td>\n",
              "      <td>1984</td>\n",
              "      <td>West</td>\n",
              "      <td>25753.5100</td>\n",
              "      <td>Year</td>\n",
              "      <td>Y</td>\n",
              "      <td>Denied</td>\n",
              "    </tr>\n",
              "    <tr>\n",
              "      <th>17655</th>\n",
              "      <td>EZYV17656</td>\n",
              "      <td>North America</td>\n",
              "      <td>Bachelor's</td>\n",
              "      <td>Y</td>\n",
              "      <td>N</td>\n",
              "      <td>-17</td>\n",
              "      <td>2007</td>\n",
              "      <td>Northeast</td>\n",
              "      <td>129753.1800</td>\n",
              "      <td>Year</td>\n",
              "      <td>Y</td>\n",
              "      <td>Denied</td>\n",
              "    </tr>\n",
              "    <tr>\n",
              "      <th>17844</th>\n",
              "      <td>EZYV17845</td>\n",
              "      <td>Asia</td>\n",
              "      <td>Bachelor's</td>\n",
              "      <td>N</td>\n",
              "      <td>N</td>\n",
              "      <td>-14</td>\n",
              "      <td>2012</td>\n",
              "      <td>West</td>\n",
              "      <td>29325.8500</td>\n",
              "      <td>Year</td>\n",
              "      <td>Y</td>\n",
              "      <td>Denied</td>\n",
              "    </tr>\n",
              "    <tr>\n",
              "      <th>17983</th>\n",
              "      <td>EZYV17984</td>\n",
              "      <td>Asia</td>\n",
              "      <td>Bachelor's</td>\n",
              "      <td>N</td>\n",
              "      <td>N</td>\n",
              "      <td>-26</td>\n",
              "      <td>2004</td>\n",
              "      <td>South</td>\n",
              "      <td>84359.9800</td>\n",
              "      <td>Year</td>\n",
              "      <td>Y</td>\n",
              "      <td>Denied</td>\n",
              "    </tr>\n",
              "    <tr>\n",
              "      <th>20815</th>\n",
              "      <td>EZYV20816</td>\n",
              "      <td>Asia</td>\n",
              "      <td>Bachelor's</td>\n",
              "      <td>N</td>\n",
              "      <td>Y</td>\n",
              "      <td>-17</td>\n",
              "      <td>1990</td>\n",
              "      <td>West</td>\n",
              "      <td>91897.5700</td>\n",
              "      <td>Year</td>\n",
              "      <td>Y</td>\n",
              "      <td>Certified</td>\n",
              "    </tr>\n",
              "    <tr>\n",
              "      <th>20984</th>\n",
              "      <td>EZYV20985</td>\n",
              "      <td>Europe</td>\n",
              "      <td>Doctorate</td>\n",
              "      <td>Y</td>\n",
              "      <td>N</td>\n",
              "      <td>-14</td>\n",
              "      <td>1989</td>\n",
              "      <td>Midwest</td>\n",
              "      <td>37012.8000</td>\n",
              "      <td>Year</td>\n",
              "      <td>Y</td>\n",
              "      <td>Certified</td>\n",
              "    </tr>\n",
              "    <tr>\n",
              "      <th>21255</th>\n",
              "      <td>EZYV21256</td>\n",
              "      <td>North America</td>\n",
              "      <td>High School</td>\n",
              "      <td>N</td>\n",
              "      <td>N</td>\n",
              "      <td>-25</td>\n",
              "      <td>1987</td>\n",
              "      <td>South</td>\n",
              "      <td>99405.4700</td>\n",
              "      <td>Year</td>\n",
              "      <td>N</td>\n",
              "      <td>Denied</td>\n",
              "    </tr>\n",
              "    <tr>\n",
              "      <th>21760</th>\n",
              "      <td>EZYV21761</td>\n",
              "      <td>Asia</td>\n",
              "      <td>Bachelor's</td>\n",
              "      <td>Y</td>\n",
              "      <td>N</td>\n",
              "      <td>-25</td>\n",
              "      <td>2000</td>\n",
              "      <td>West</td>\n",
              "      <td>100463.5800</td>\n",
              "      <td>Year</td>\n",
              "      <td>Y</td>\n",
              "      <td>Certified</td>\n",
              "    </tr>\n",
              "    <tr>\n",
              "      <th>21944</th>\n",
              "      <td>EZYV21945</td>\n",
              "      <td>Africa</td>\n",
              "      <td>Master's</td>\n",
              "      <td>Y</td>\n",
              "      <td>N</td>\n",
              "      <td>-25</td>\n",
              "      <td>1977</td>\n",
              "      <td>Midwest</td>\n",
              "      <td>79150.5100</td>\n",
              "      <td>Year</td>\n",
              "      <td>Y</td>\n",
              "      <td>Certified</td>\n",
              "    </tr>\n",
              "    <tr>\n",
              "      <th>22084</th>\n",
              "      <td>EZYV22085</td>\n",
              "      <td>North America</td>\n",
              "      <td>Bachelor's</td>\n",
              "      <td>Y</td>\n",
              "      <td>N</td>\n",
              "      <td>-14</td>\n",
              "      <td>1980</td>\n",
              "      <td>West</td>\n",
              "      <td>691.0609</td>\n",
              "      <td>Hour</td>\n",
              "      <td>Y</td>\n",
              "      <td>Denied</td>\n",
              "    </tr>\n",
              "    <tr>\n",
              "      <th>22388</th>\n",
              "      <td>EZYV22389</td>\n",
              "      <td>Asia</td>\n",
              "      <td>Master's</td>\n",
              "      <td>Y</td>\n",
              "      <td>N</td>\n",
              "      <td>-14</td>\n",
              "      <td>1986</td>\n",
              "      <td>South</td>\n",
              "      <td>17893.1100</td>\n",
              "      <td>Year</td>\n",
              "      <td>Y</td>\n",
              "      <td>Certified</td>\n",
              "    </tr>\n",
              "    <tr>\n",
              "      <th>23186</th>\n",
              "      <td>EZYV23187</td>\n",
              "      <td>Asia</td>\n",
              "      <td>Master's</td>\n",
              "      <td>N</td>\n",
              "      <td>Y</td>\n",
              "      <td>-11</td>\n",
              "      <td>2007</td>\n",
              "      <td>Midwest</td>\n",
              "      <td>120195.3500</td>\n",
              "      <td>Year</td>\n",
              "      <td>Y</td>\n",
              "      <td>Certified</td>\n",
              "    </tr>\n",
              "    <tr>\n",
              "      <th>23476</th>\n",
              "      <td>EZYV23477</td>\n",
              "      <td>Europe</td>\n",
              "      <td>Master's</td>\n",
              "      <td>Y</td>\n",
              "      <td>N</td>\n",
              "      <td>-11</td>\n",
              "      <td>2000</td>\n",
              "      <td>West</td>\n",
              "      <td>95072.7500</td>\n",
              "      <td>Year</td>\n",
              "      <td>Y</td>\n",
              "      <td>Denied</td>\n",
              "    </tr>\n",
              "  </tbody>\n",
              "</table>\n",
              "</div>\n",
              "      <button class=\"colab-df-convert\" onclick=\"convertToInteractive('df-42eed793-22d6-4345-8a7b-b718c58fb20d')\"\n",
              "              title=\"Convert this dataframe to an interactive table.\"\n",
              "              style=\"display:none;\">\n",
              "        \n",
              "  <svg xmlns=\"http://www.w3.org/2000/svg\" height=\"24px\"viewBox=\"0 0 24 24\"\n",
              "       width=\"24px\">\n",
              "    <path d=\"M0 0h24v24H0V0z\" fill=\"none\"/>\n",
              "    <path d=\"M18.56 5.44l.94 2.06.94-2.06 2.06-.94-2.06-.94-.94-2.06-.94 2.06-2.06.94zm-11 1L8.5 8.5l.94-2.06 2.06-.94-2.06-.94L8.5 2.5l-.94 2.06-2.06.94zm10 10l.94 2.06.94-2.06 2.06-.94-2.06-.94-.94-2.06-.94 2.06-2.06.94z\"/><path d=\"M17.41 7.96l-1.37-1.37c-.4-.4-.92-.59-1.43-.59-.52 0-1.04.2-1.43.59L10.3 9.45l-7.72 7.72c-.78.78-.78 2.05 0 2.83L4 21.41c.39.39.9.59 1.41.59.51 0 1.02-.2 1.41-.59l7.78-7.78 2.81-2.81c.8-.78.8-2.07 0-2.86zM5.41 20L4 18.59l7.72-7.72 1.47 1.35L5.41 20z\"/>\n",
              "  </svg>\n",
              "      </button>\n",
              "      \n",
              "  <style>\n",
              "    .colab-df-container {\n",
              "      display:flex;\n",
              "      flex-wrap:wrap;\n",
              "      gap: 12px;\n",
              "    }\n",
              "\n",
              "    .colab-df-convert {\n",
              "      background-color: #E8F0FE;\n",
              "      border: none;\n",
              "      border-radius: 50%;\n",
              "      cursor: pointer;\n",
              "      display: none;\n",
              "      fill: #1967D2;\n",
              "      height: 32px;\n",
              "      padding: 0 0 0 0;\n",
              "      width: 32px;\n",
              "    }\n",
              "\n",
              "    .colab-df-convert:hover {\n",
              "      background-color: #E2EBFA;\n",
              "      box-shadow: 0px 1px 2px rgba(60, 64, 67, 0.3), 0px 1px 3px 1px rgba(60, 64, 67, 0.15);\n",
              "      fill: #174EA6;\n",
              "    }\n",
              "\n",
              "    [theme=dark] .colab-df-convert {\n",
              "      background-color: #3B4455;\n",
              "      fill: #D2E3FC;\n",
              "    }\n",
              "\n",
              "    [theme=dark] .colab-df-convert:hover {\n",
              "      background-color: #434B5C;\n",
              "      box-shadow: 0px 1px 3px 1px rgba(0, 0, 0, 0.15);\n",
              "      filter: drop-shadow(0px 1px 2px rgba(0, 0, 0, 0.3));\n",
              "      fill: #FFFFFF;\n",
              "    }\n",
              "  </style>\n",
              "\n",
              "      <script>\n",
              "        const buttonEl =\n",
              "          document.querySelector('#df-42eed793-22d6-4345-8a7b-b718c58fb20d button.colab-df-convert');\n",
              "        buttonEl.style.display =\n",
              "          google.colab.kernel.accessAllowed ? 'block' : 'none';\n",
              "\n",
              "        async function convertToInteractive(key) {\n",
              "          const element = document.querySelector('#df-42eed793-22d6-4345-8a7b-b718c58fb20d');\n",
              "          const dataTable =\n",
              "            await google.colab.kernel.invokeFunction('convertToInteractive',\n",
              "                                                     [key], {});\n",
              "          if (!dataTable) return;\n",
              "\n",
              "          const docLinkHtml = 'Like what you see? Visit the ' +\n",
              "            '<a target=\"_blank\" href=https://colab.research.google.com/notebooks/data_table.ipynb>data table notebook</a>'\n",
              "            + ' to learn more about interactive tables.';\n",
              "          element.innerHTML = '';\n",
              "          dataTable['output_type'] = 'display_data';\n",
              "          await google.colab.output.renderOutput(dataTable, element);\n",
              "          const docLink = document.createElement('div');\n",
              "          docLink.innerHTML = docLinkHtml;\n",
              "          element.appendChild(docLink);\n",
              "        }\n",
              "      </script>\n",
              "    </div>\n",
              "  </div>\n",
              "  "
            ]
          },
          "metadata": {},
          "execution_count": 72
        }
      ],
      "source": [
        "# Sigleing out rows with negative values for number of employees\n",
        "data.loc[data['no_of_employees']<= 0]"
      ],
      "id": "0hhcPruoHD-d"
    },
    {
      "cell_type": "markdown",
      "source": [
        "* These negative values seem to be a mistake; let's change them to positive values."
      ],
      "metadata": {
        "id": "XHsm8Dun7L1C"
      },
      "id": "XHsm8Dun7L1C"
    },
    {
      "cell_type": "code",
      "execution_count": null,
      "metadata": {
        "colab": {
          "base_uri": "https://localhost:8080/",
          "height": 113
        },
        "id": "RM5LTILhKfDZ",
        "outputId": "1df652a8-8632-4fd3-ebcd-5d9a08106383"
      },
      "outputs": [
        {
          "output_type": "execute_result",
          "data": {
            "text/plain": [
              "Empty DataFrame\n",
              "Columns: [case_id, continent, education_of_employee, has_job_experience, requires_job_training, no_of_employees, yr_of_estab, region_of_employment, prevailing_wage, unit_of_wage, full_time_position, case_status]\n",
              "Index: []"
            ],
            "text/html": [
              "\n",
              "  <div id=\"df-ce981de0-502d-4202-828f-37bef26f8740\">\n",
              "    <div class=\"colab-df-container\">\n",
              "      <div>\n",
              "<style scoped>\n",
              "    .dataframe tbody tr th:only-of-type {\n",
              "        vertical-align: middle;\n",
              "    }\n",
              "\n",
              "    .dataframe tbody tr th {\n",
              "        vertical-align: top;\n",
              "    }\n",
              "\n",
              "    .dataframe thead th {\n",
              "        text-align: right;\n",
              "    }\n",
              "</style>\n",
              "<table border=\"1\" class=\"dataframe\">\n",
              "  <thead>\n",
              "    <tr style=\"text-align: right;\">\n",
              "      <th></th>\n",
              "      <th>case_id</th>\n",
              "      <th>continent</th>\n",
              "      <th>education_of_employee</th>\n",
              "      <th>has_job_experience</th>\n",
              "      <th>requires_job_training</th>\n",
              "      <th>no_of_employees</th>\n",
              "      <th>yr_of_estab</th>\n",
              "      <th>region_of_employment</th>\n",
              "      <th>prevailing_wage</th>\n",
              "      <th>unit_of_wage</th>\n",
              "      <th>full_time_position</th>\n",
              "      <th>case_status</th>\n",
              "    </tr>\n",
              "  </thead>\n",
              "  <tbody>\n",
              "  </tbody>\n",
              "</table>\n",
              "</div>\n",
              "      <button class=\"colab-df-convert\" onclick=\"convertToInteractive('df-ce981de0-502d-4202-828f-37bef26f8740')\"\n",
              "              title=\"Convert this dataframe to an interactive table.\"\n",
              "              style=\"display:none;\">\n",
              "        \n",
              "  <svg xmlns=\"http://www.w3.org/2000/svg\" height=\"24px\"viewBox=\"0 0 24 24\"\n",
              "       width=\"24px\">\n",
              "    <path d=\"M0 0h24v24H0V0z\" fill=\"none\"/>\n",
              "    <path d=\"M18.56 5.44l.94 2.06.94-2.06 2.06-.94-2.06-.94-.94-2.06-.94 2.06-2.06.94zm-11 1L8.5 8.5l.94-2.06 2.06-.94-2.06-.94L8.5 2.5l-.94 2.06-2.06.94zm10 10l.94 2.06.94-2.06 2.06-.94-2.06-.94-.94-2.06-.94 2.06-2.06.94z\"/><path d=\"M17.41 7.96l-1.37-1.37c-.4-.4-.92-.59-1.43-.59-.52 0-1.04.2-1.43.59L10.3 9.45l-7.72 7.72c-.78.78-.78 2.05 0 2.83L4 21.41c.39.39.9.59 1.41.59.51 0 1.02-.2 1.41-.59l7.78-7.78 2.81-2.81c.8-.78.8-2.07 0-2.86zM5.41 20L4 18.59l7.72-7.72 1.47 1.35L5.41 20z\"/>\n",
              "  </svg>\n",
              "      </button>\n",
              "      \n",
              "  <style>\n",
              "    .colab-df-container {\n",
              "      display:flex;\n",
              "      flex-wrap:wrap;\n",
              "      gap: 12px;\n",
              "    }\n",
              "\n",
              "    .colab-df-convert {\n",
              "      background-color: #E8F0FE;\n",
              "      border: none;\n",
              "      border-radius: 50%;\n",
              "      cursor: pointer;\n",
              "      display: none;\n",
              "      fill: #1967D2;\n",
              "      height: 32px;\n",
              "      padding: 0 0 0 0;\n",
              "      width: 32px;\n",
              "    }\n",
              "\n",
              "    .colab-df-convert:hover {\n",
              "      background-color: #E2EBFA;\n",
              "      box-shadow: 0px 1px 2px rgba(60, 64, 67, 0.3), 0px 1px 3px 1px rgba(60, 64, 67, 0.15);\n",
              "      fill: #174EA6;\n",
              "    }\n",
              "\n",
              "    [theme=dark] .colab-df-convert {\n",
              "      background-color: #3B4455;\n",
              "      fill: #D2E3FC;\n",
              "    }\n",
              "\n",
              "    [theme=dark] .colab-df-convert:hover {\n",
              "      background-color: #434B5C;\n",
              "      box-shadow: 0px 1px 3px 1px rgba(0, 0, 0, 0.15);\n",
              "      filter: drop-shadow(0px 1px 2px rgba(0, 0, 0, 0.3));\n",
              "      fill: #FFFFFF;\n",
              "    }\n",
              "  </style>\n",
              "\n",
              "      <script>\n",
              "        const buttonEl =\n",
              "          document.querySelector('#df-ce981de0-502d-4202-828f-37bef26f8740 button.colab-df-convert');\n",
              "        buttonEl.style.display =\n",
              "          google.colab.kernel.accessAllowed ? 'block' : 'none';\n",
              "\n",
              "        async function convertToInteractive(key) {\n",
              "          const element = document.querySelector('#df-ce981de0-502d-4202-828f-37bef26f8740');\n",
              "          const dataTable =\n",
              "            await google.colab.kernel.invokeFunction('convertToInteractive',\n",
              "                                                     [key], {});\n",
              "          if (!dataTable) return;\n",
              "\n",
              "          const docLinkHtml = 'Like what you see? Visit the ' +\n",
              "            '<a target=\"_blank\" href=https://colab.research.google.com/notebooks/data_table.ipynb>data table notebook</a>'\n",
              "            + ' to learn more about interactive tables.';\n",
              "          element.innerHTML = '';\n",
              "          dataTable['output_type'] = 'display_data';\n",
              "          await google.colab.output.renderOutput(dataTable, element);\n",
              "          const docLink = document.createElement('div');\n",
              "          docLink.innerHTML = docLinkHtml;\n",
              "          element.appendChild(docLink);\n",
              "        }\n",
              "      </script>\n",
              "    </div>\n",
              "  </div>\n",
              "  "
            ]
          },
          "metadata": {},
          "execution_count": 73
        }
      ],
      "source": [
        "# Changing negative to positive values in column\n",
        "data['no_of_employees'] = data['no_of_employees'].abs()\n",
        "# Checking there are no negative values left\n",
        "data.loc[data['no_of_employees']<= 0]"
      ],
      "id": "RM5LTILhKfDZ"
    },
    {
      "cell_type": "markdown",
      "metadata": {
        "id": "seasonal-calibration"
      },
      "source": [
        "## Exploratory Data Analysis (EDA)"
      ],
      "id": "seasonal-calibration"
    },
    {
      "cell_type": "markdown",
      "metadata": {
        "id": "LreyCKP7Hy24"
      },
      "source": [
        "## Functions for EDA"
      ],
      "id": "LreyCKP7Hy24"
    },
    {
      "cell_type": "code",
      "execution_count": null,
      "metadata": {
        "id": "jhpfgqSS22sr"
      },
      "outputs": [],
      "source": [
        "#This function creates two subplots: a boxplot and a histogram plot\n",
        "def histogram_boxplot(data, feature, figsize=(15, 10), kde=False, bins=None):\n",
        "    \"\"\"\n",
        "    Boxplot and histogram combined\n",
        "\n",
        "    data: dataframe\n",
        "    feature: dataframe column\n",
        "    figsize: size of figure (default (15,10))\n",
        "    kde: whether to show the density curve (default False)\n",
        "    bins: number of bins for histogram (default None)\n",
        "    \"\"\"\n",
        "    f2, (ax_box2, ax_hist2) = plt.subplots(\n",
        "        nrows=2,  # Number of rows of the subplot grid= 2\n",
        "        sharex=True,  # x-axis will be shared among all subplots\n",
        "        gridspec_kw={\"height_ratios\": (0.25, 0.75)},\n",
        "        figsize=figsize,\n",
        "    )  # creating the 2 subplots\n",
        "    sns.boxplot(\n",
        "        data=data, x=feature, ax=ax_box2, showmeans=True, color=\"violet\"\n",
        "    )  # boxplot will be created and a triangle will indicate the mean value of the column\n",
        "    sns.histplot(\n",
        "        data=data, x=feature, kde=kde, ax=ax_hist2, bins=bins\n",
        "    ) if bins else sns.histplot(\n",
        "        data=data, x=feature, kde=kde, ax=ax_hist2\n",
        "    )  # For histogram\n",
        "    ax_hist2.axvline(\n",
        "        data[feature].mean(), color=\"green\", linestyle=\"--\"\n",
        "    )  # Add mean to the histogram\n",
        "    ax_hist2.axvline(\n",
        "        data[feature].median(), color=\"black\", linestyle=\"-\"\n",
        "    )  # Add median to the histogram"
      ],
      "id": "jhpfgqSS22sr"
    },
    {
      "cell_type": "code",
      "execution_count": null,
      "metadata": {
        "id": "U7JobPxmQ7Yt"
      },
      "outputs": [],
      "source": [
        "# This function creates labeled barplots\n",
        "\n",
        "\n",
        "def labeled_barplot(data, feature, perc=False, n=None):\n",
        "    \"\"\"\n",
        "    Barplot with percentage at the top\n",
        "\n",
        "    data: dataframe\n",
        "    feature: dataframe column\n",
        "    perc: whether to display percentages instead of count (default is False)\n",
        "    n: displays the top n category levels (default is None, i.e., display all levels)\n",
        "    \"\"\"\n",
        "\n",
        "    total = len(data[feature])  # length of the column\n",
        "    count = data[feature].nunique()\n",
        "    if n is None:\n",
        "        plt.figure(figsize=(count + 2, 6))\n",
        "    else:\n",
        "        plt.figure(figsize=(n + 2, 6))\n",
        "\n",
        "    plt.xticks(rotation=90, fontsize=15)\n",
        "    ax = sns.countplot(\n",
        "        data=data,\n",
        "        x=feature,\n",
        "        palette=\"Paired\",\n",
        "        order=data[feature].value_counts().index[:n],\n",
        "    )\n",
        "\n",
        "    for p in ax.patches:\n",
        "        if perc == True:\n",
        "            label = \"{:.1f}%\".format(\n",
        "                100 * p.get_height() / total\n",
        "            )  # percentage of each class of the category\n",
        "        else:\n",
        "            label = p.get_height()  # count of each level of the category\n",
        "\n",
        "        x = p.get_x() + p.get_width() / 2  # width of the plot\n",
        "        y = p.get_height()  # height of the plot\n",
        "\n",
        "        ax.annotate(\n",
        "            label,\n",
        "            (x, y),\n",
        "            ha=\"center\",\n",
        "            va=\"center\",\n",
        "            size=12,\n",
        "            xytext=(0, 5),\n",
        "            textcoords=\"offset points\",\n",
        "        )  # annotate the percentage\n",
        "\n",
        "    plt.show()  # show the plot"
      ],
      "id": "U7JobPxmQ7Yt"
    },
    {
      "cell_type": "code",
      "execution_count": null,
      "metadata": {
        "id": "CfvRY8ZdTA8d"
      },
      "outputs": [],
      "source": [
        "# This function plots distributions wrt target\n",
        "\n",
        "\n",
        "def distribution_plot_wrt_target(data, predictor, target):\n",
        "\n",
        "    fig, axs = plt.subplots(2, 2, figsize=(12, 10))\n",
        "\n",
        "    target_uniq = data[target].unique()\n",
        "\n",
        "    axs[0, 0].set_title(\"Distribution of target for target=\" + str(target_uniq[0]))\n",
        "    sns.histplot(\n",
        "        data=data[data[target] == target_uniq[0]],\n",
        "        x=predictor,\n",
        "        kde=True,\n",
        "        ax=axs[0, 0],\n",
        "        color=\"teal\",\n",
        "        stat=\"density\",\n",
        "    )\n",
        "\n",
        "    axs[0, 1].set_title(\"Distribution of target for target=\" + str(target_uniq[1]))\n",
        "    sns.histplot(\n",
        "        data=data[data[target] == target_uniq[1]],\n",
        "        x=predictor,\n",
        "        kde=True,\n",
        "        ax=axs[0, 1],\n",
        "        color=\"orange\",\n",
        "        stat=\"density\",\n",
        "    )\n",
        "\n",
        "    axs[1, 0].set_title(\"Boxplot w.r.t target\")\n",
        "    sns.boxplot(data=data, x=target, y=predictor, ax=axs[1, 0], palette=\"gist_rainbow\")\n",
        "\n",
        "    axs[1, 1].set_title(\"Boxplot (without outliers) w.r.t target\")\n",
        "    sns.boxplot(\n",
        "        data=data,\n",
        "        x=target,\n",
        "        y=predictor,\n",
        "        ax=axs[1, 1],\n",
        "        showfliers=False,\n",
        "        palette=\"gist_rainbow\",\n",
        "    )\n",
        "\n",
        "    plt.tight_layout()\n",
        "    plt.show()"
      ],
      "id": "CfvRY8ZdTA8d"
    },
    {
      "cell_type": "code",
      "execution_count": null,
      "metadata": {
        "id": "imObfNaIUQzx"
      },
      "outputs": [],
      "source": [
        "# This function plots a stacked bar chart\n",
        "\n",
        "\n",
        "def stacked_barplot(data, predictor, target):\n",
        "    \"\"\"\n",
        "    Print the category counts and plot a stacked bar chart\n",
        "\n",
        "    data: dataframe\n",
        "    predictor: independent variable\n",
        "    target: target variable\n",
        "    \"\"\"\n",
        "    count = data[predictor].nunique()\n",
        "    sorter = data[target].value_counts().index[-1]\n",
        "    tab1 = pd.crosstab(data[predictor], data[target], margins=True).sort_values(\n",
        "        by=sorter, ascending=False\n",
        "    )\n",
        "    print(tab1)\n",
        "    print(\"-\" * 120)\n",
        "    tab = pd.crosstab(data[predictor], data[target], normalize=\"index\").sort_values(\n",
        "        by=sorter, ascending=False\n",
        "    )\n",
        "    tab.plot(kind=\"bar\", stacked=True, figsize=(count + 5, 6))\n",
        "    plt.legend(\n",
        "        loc=\"lower left\", frameon=False,\n",
        "    )\n",
        "    plt.legend(loc=\"upper left\", bbox_to_anchor=(1, 1))\n",
        "    plt.show()"
      ],
      "id": "imObfNaIUQzx"
    },
    {
      "cell_type": "markdown",
      "metadata": {
        "id": "icRtg5IRF7av"
      },
      "source": [
        "## Univariate analysis"
      ],
      "id": "icRtg5IRF7av"
    },
    {
      "cell_type": "code",
      "execution_count": null,
      "metadata": {
        "colab": {
          "base_uri": "https://localhost:8080/",
          "height": 606
        },
        "id": "_jaIMK3hGFde",
        "outputId": "71032341-d2fc-4bfa-9aa2-7859a3b3a3a1"
      },
      "outputs": [
        {
          "output_type": "display_data",
          "data": {
            "text/plain": [
              "<Figure size 1080x720 with 2 Axes>"
            ],
            "image/png": "[encoded data removed]"
          },
          "metadata": {
            "needs_background": "light"
          }
        }
      ],
      "source": [
        "histogram_boxplot(data, 'no_of_employees')"
      ],
      "id": "_jaIMK3hGFde"
    },
    {
      "cell_type": "markdown",
      "source": [
        "* 'Number of employees' has a heavily right-skewed distribution.\n",
        "* There are applicant companies with more than 600,000 employees. \n",
        "* Let's see how these data look without all those outliers."
      ],
      "metadata": {
        "id": "_Aw3aZxe78uk"
      },
      "id": "_Aw3aZxe78uk"
    },
    {
      "cell_type": "code",
      "source": [
        "# Plotting a single boxplot\n",
        "sns.boxplot(\n",
        "        data=data, x='no_of_employees', showmeans=True, showfliers=False, color=\"violet\"\n",
        "    )"
      ],
      "metadata": {
        "colab": {
          "base_uri": "https://localhost:8080/",
          "height": 298
        },
        "id": "a_8iyJDg8UyL",
        "outputId": "51438f15-d71b-487c-f1ea-8d8c637c5988"
      },
      "id": "a_8iyJDg8UyL",
      "execution_count": null,
      "outputs": [
        {
          "output_type": "execute_result",
          "data": {
            "text/plain": [
              "<matplotlib.axes._subplots.AxesSubplot at 0x7feff5732750>"
            ]
          },
          "metadata": {},
          "execution_count": 79
        },
        {
          "output_type": "display_data",
          "data": {
            "text/plain": [
              "<Figure size 432x288 with 1 Axes>"
            ],
            "image/png": "[encoded data removed]"
          },
          "metadata": {
            "needs_background": "light"
          }
        }
      ]
    },
    {
      "cell_type": "markdown",
      "source": [
        "* Excluding the outliers, the number of employees in applicant companies ranges from 0 to little more than 7,000.\n",
        "* As we saw in the data description, the mean value is 5,667. "
      ],
      "metadata": {
        "id": "0kbWKkOV9KpI"
      },
      "id": "0kbWKkOV9KpI"
    },
    {
      "cell_type": "code",
      "execution_count": null,
      "metadata": {
        "colab": {
          "base_uri": "https://localhost:8080/",
          "height": 489
        },
        "id": "kYnxbszkLvq4",
        "outputId": "46887a32-f7fa-4414-ac10-13bd3d783a47"
      },
      "outputs": [
        {
          "output_type": "display_data",
          "data": {
            "text/plain": [
              "<Figure size 576x432 with 1 Axes>"
            ],
            "image/png": "[encoded data removed]"
          },
          "metadata": {
            "needs_background": "light"
          }
        }
      ],
      "source": [
        "labeled_barplot(data, 'continent', perc=True, n=None)"
      ],
      "id": "kYnxbszkLvq4"
    },
    {
      "cell_type": "markdown",
      "source": [
        "* Most applications come from Asia (~66%).\n",
        "* Europe (15%) and North America (~13%) are far behind. "
      ],
      "metadata": {
        "id": "ixtpqgcO9_-m"
      },
      "id": "ixtpqgcO9_-m"
    },
    {
      "cell_type": "code",
      "execution_count": null,
      "metadata": {
        "colab": {
          "base_uri": "https://localhost:8080/",
          "height": 469
        },
        "id": "_MZiJTTDL9FG",
        "outputId": "9bfec5be-1924-4af6-ca6d-09f6647fe4e9"
      },
      "outputs": [
        {
          "output_type": "display_data",
          "data": {
            "text/plain": [
              "<Figure size 432x432 with 1 Axes>"
            ],
            "image/png": "[encoded data removed]"
          },
          "metadata": {
            "needs_background": "light"
          }
        }
      ],
      "source": [
        "labeled_barplot(data, 'education_of_employee', perc=True, n=None)"
      ],
      "id": "_MZiJTTDL9FG"
    },
    {
      "cell_type": "markdown",
      "source": [
        "* Most applicants have Bachelor's or Master's degrees (~40%)."
      ],
      "metadata": {
        "id": "iVQZnDoH_fos"
      },
      "id": "iVQZnDoH_fos"
    },
    {
      "cell_type": "code",
      "execution_count": null,
      "metadata": {
        "colab": {
          "base_uri": "https://localhost:8080/",
          "height": 390
        },
        "id": "hibz3UibMAHe",
        "outputId": "2220045b-16e1-4f62-e73a-884171ed037e"
      },
      "outputs": [
        {
          "output_type": "display_data",
          "data": {
            "text/plain": [
              "<Figure size 288x432 with 1 Axes>"
            ],
            "image/png": "[encoded data removed]"
          },
          "metadata": {
            "needs_background": "light"
          }
        }
      ],
      "source": [
        "labeled_barplot(data, 'has_job_experience', perc=True, n=None)"
      ],
      "id": "hibz3UibMAHe"
    },
    {
      "cell_type": "markdown",
      "source": [
        "* Almost 40% of applicants do not have job experience."
      ],
      "metadata": {
        "id": "WXOpO6v7_7bC"
      },
      "id": "WXOpO6v7_7bC"
    },
    {
      "cell_type": "code",
      "execution_count": null,
      "metadata": {
        "colab": {
          "base_uri": "https://localhost:8080/",
          "height": 390
        },
        "id": "MKYgBbvkMAq9",
        "outputId": "56c1a272-aa8e-424e-deac-f614719249c6"
      },
      "outputs": [
        {
          "output_type": "display_data",
          "data": {
            "text/plain": [
              "<Figure size 288x432 with 1 Axes>"
            ],
            "image/png": "[encoded data removed]"
          },
          "metadata": {
            "needs_background": "light"
          }
        }
      ],
      "source": [
        "labeled_barplot(data, 'requires_job_training', perc=True, n=None)"
      ],
      "id": "MKYgBbvkMAq9"
    },
    {
      "cell_type": "markdown",
      "source": [
        "* Only a few applicants require training (~12%)."
      ],
      "metadata": {
        "id": "EIDn31HpAB-s"
      },
      "id": "EIDn31HpAB-s"
    },
    {
      "cell_type": "code",
      "execution_count": null,
      "metadata": {
        "colab": {
          "base_uri": "https://localhost:8080/",
          "height": 453
        },
        "id": "OBQIj5nDMBhx",
        "outputId": "ceb4fe24-0b34-4077-dccc-12b069abce1b"
      },
      "outputs": [
        {
          "output_type": "display_data",
          "data": {
            "text/plain": [
              "<Figure size 504x432 with 1 Axes>"
            ],
            "image/png": "[encoded data removed]"
          },
          "metadata": {
            "needs_background": "light"
          }
        }
      ],
      "source": [
        "labeled_barplot(data, 'region_of_employment', perc=True, n=None)"
      ],
      "id": "OBQIj5nDMBhx"
    },
    {
      "cell_type": "markdown",
      "source": [
        "* Region of employment is evenly distributed between Northeast, South and West. "
      ],
      "metadata": {
        "id": "_JDYID5KAeiw"
      },
      "id": "_JDYID5KAeiw"
    },
    {
      "cell_type": "code",
      "execution_count": null,
      "metadata": {
        "colab": {
          "base_uri": "https://localhost:8080/",
          "height": 390
        },
        "id": "8GPz_c6kMBQn",
        "outputId": "60b70641-d996-47b3-f6cd-768cfad91c6d"
      },
      "outputs": [
        {
          "output_type": "display_data",
          "data": {
            "text/plain": [
              "<Figure size 288x432 with 1 Axes>"
            ],
            "image/png": "[encoded data removed]"
          },
          "metadata": {
            "needs_background": "light"
          }
        }
      ],
      "source": [
        "labeled_barplot(data, 'full_time_position', perc=True, n=None)"
      ],
      "id": "8GPz_c6kMBQn"
    },
    {
      "cell_type": "markdown",
      "source": [
        "* Nine out of ten applications are for a full-time position. "
      ],
      "metadata": {
        "id": "jLukBt3DAtLH"
      },
      "id": "jLukBt3DAtLH"
    },
    {
      "cell_type": "code",
      "execution_count": null,
      "metadata": {
        "colab": {
          "base_uri": "https://localhost:8080/",
          "height": 443
        },
        "id": "zrX_W9m_MCrQ",
        "outputId": "8cdff3b0-267e-48eb-ddcc-e8f225ce1721"
      },
      "outputs": [
        {
          "output_type": "display_data",
          "data": {
            "text/plain": [
              "<Figure size 288x432 with 1 Axes>"
            ],
            "image/png": "[encoded data removed]"
          },
          "metadata": {
            "needs_background": "light"
          }
        }
      ],
      "source": [
        "labeled_barplot(data, 'case_status', perc=True, n=None)"
      ],
      "id": "zrX_W9m_MCrQ"
    },
    {
      "cell_type": "markdown",
      "source": [
        "* One third of applications are denied. "
      ],
      "metadata": {
        "id": "5BP9jESvBAYB"
      },
      "id": "5BP9jESvBAYB"
    },
    {
      "cell_type": "markdown",
      "metadata": {
        "id": "dX94WZ1xLhuO"
      },
      "source": [
        "## Bivariate analysis"
      ],
      "id": "dX94WZ1xLhuO"
    },
    {
      "cell_type": "code",
      "execution_count": null,
      "metadata": {
        "colab": {
          "base_uri": "https://localhost:8080/",
          "height": 433
        },
        "id": "aKdfDLDILbeG",
        "outputId": "103032f7-d97a-4bf0-efa9-db15827fbc3a"
      },
      "outputs": [
        {
          "output_type": "display_data",
          "data": {
            "text/plain": [
              "<Figure size 1080x504 with 2 Axes>"
            ],
            "image/png": "[encoded data removed]"
          },
          "metadata": {
            "needs_background": "light"
          }
        }
      ],
      "source": [
        "#Plotting correlations between numerical variables \n",
        "plt.figure(figsize=(15, 7))\n",
        "sns.heatmap(data.corr(), annot=True, vmin=-1, vmax=1, fmt=\".2f\", cmap=\"Spectral\")\n",
        "plt.show()"
      ],
      "id": "aKdfDLDILbeG"
    },
    {
      "cell_type": "markdown",
      "source": [
        "* There is no correlations between numerical variables."
      ],
      "metadata": {
        "id": "P15z8qUpBXWB"
      },
      "id": "P15z8qUpBXWB"
    },
    {
      "cell_type": "code",
      "execution_count": null,
      "metadata": {
        "colab": {
          "base_uri": "https://localhost:8080/",
          "height": 580
        },
        "id": "KjTX8GMheIIF",
        "outputId": "0070db0d-8422-4d0b-d26a-0e0a3fdddaf9"
      },
      "outputs": [
        {
          "output_type": "stream",
          "name": "stdout",
          "text": [
            "case_status            Certified  Denied    All\n",
            "education_of_employee                          \n",
            "All                        17018    8462  25480\n",
            "Bachelor's                  6367    3867  10234\n",
            "High School                 1164    2256   3420\n",
            "Master's                    7575    2059   9634\n",
            "Doctorate                   1912     280   2192\n",
            "------------------------------------------------------------------------------------------------------------------------\n"
          ]
        },
        {
          "output_type": "display_data",
          "data": {
            "text/plain": [
              "<Figure size 648x432 with 1 Axes>"
            ],
            "image/png": "[encoded data removed]"
          },
          "metadata": {
            "needs_background": "light"
          }
        }
      ],
      "source": [
        "stacked_barplot(data, 'education_of_employee', 'case_status')"
      ],
      "id": "KjTX8GMheIIF"
    },
    {
      "cell_type": "markdown",
      "source": [
        "* Applicants with a higher education status are certified more often. \n",
        "* ~90% of applicants with doctorate degrees were certified. "
      ],
      "metadata": {
        "id": "TZvAvbTwBmgw"
      },
      "id": "TZvAvbTwBmgw"
    },
    {
      "cell_type": "code",
      "execution_count": null,
      "metadata": {
        "colab": {
          "base_uri": "https://localhost:8080/",
          "height": 629
        },
        "id": "Pc6jciRjfTCa",
        "outputId": "4424005e-1604-4329-8a0f-a08ed84363dd"
      },
      "outputs": [
        {
          "output_type": "stream",
          "name": "stdout",
          "text": [
            "case_status    Certified  Denied    All\n",
            "continent                              \n",
            "All                17018    8462  25480\n",
            "Asia               11012    5849  16861\n",
            "North America       2037    1255   3292\n",
            "Europe              2957     775   3732\n",
            "South America        493     359    852\n",
            "Africa               397     154    551\n",
            "Oceania              122      70    192\n",
            "------------------------------------------------------------------------------------------------------------------------\n"
          ]
        },
        {
          "output_type": "display_data",
          "data": {
            "text/plain": [
              "<Figure size 792x432 with 1 Axes>"
            ],
            "image/png": "[encoded data removed]"
          },
          "metadata": {
            "needs_background": "light"
          }
        }
      ],
      "source": [
        "stacked_barplot(data, 'continent', 'case_status')"
      ],
      "id": "Pc6jciRjfTCa"
    },
    {
      "cell_type": "markdown",
      "source": [
        "* Applications from Europe were certified more often: ~80%.\n",
        "* South America is the continent with the lowest rate of certifications: less than 60%."
      ],
      "metadata": {
        "id": "Ev4ROamLCU0P"
      },
      "id": "Ev4ROamLCU0P"
    },
    {
      "cell_type": "code",
      "execution_count": null,
      "metadata": {
        "colab": {
          "base_uri": "https://localhost:8080/",
          "height": 493
        },
        "id": "jvVjhsDZfnmc",
        "outputId": "a7d07859-2dea-4db0-e8fe-f65296f75ae3"
      },
      "outputs": [
        {
          "output_type": "stream",
          "name": "stdout",
          "text": [
            "case_status         Certified  Denied    All\n",
            "has_job_experience                          \n",
            "All                     17018    8462  25480\n",
            "N                        5994    4684  10678\n",
            "Y                       11024    3778  14802\n",
            "------------------------------------------------------------------------------------------------------------------------\n"
          ]
        },
        {
          "output_type": "display_data",
          "data": {
            "text/plain": [
              "<Figure size 504x432 with 1 Axes>"
            ],
            "image/png": "[encoded data removed]"
          },
          "metadata": {
            "needs_background": "light"
          }
        }
      ],
      "source": [
        "stacked_barplot(data, 'has_job_experience', 'case_status')"
      ],
      "id": "jvVjhsDZfnmc"
    },
    {
      "cell_type": "markdown",
      "source": [
        "* Applicants with job experience had a more significant rate of certification. "
      ],
      "metadata": {
        "id": "71jV-J-yC97f"
      },
      "id": "71jV-J-yC97f"
    },
    {
      "cell_type": "code",
      "execution_count": null,
      "metadata": {
        "colab": {
          "base_uri": "https://localhost:8080/",
          "height": 552
        },
        "id": "xgjS4w24gBH4",
        "outputId": "8bbc7473-b286-4a22-f15e-28102676f661"
      },
      "outputs": [
        {
          "output_type": "stream",
          "name": "stdout",
          "text": [
            "case_status   Certified  Denied    All\n",
            "unit_of_wage                          \n",
            "All               17018    8462  25480\n",
            "Year              16047    6915  22962\n",
            "Hour                747    1410   2157\n",
            "Week                169     103    272\n",
            "Month                55      34     89\n",
            "------------------------------------------------------------------------------------------------------------------------\n"
          ]
        },
        {
          "output_type": "display_data",
          "data": {
            "text/plain": [
              "<Figure size 648x432 with 1 Axes>"
            ],
            "image/png": "[encoded data removed]"
          },
          "metadata": {
            "needs_background": "light"
          }
        }
      ],
      "source": [
        "stacked_barplot(data, 'unit_of_wage', 'case_status')"
      ],
      "id": "xgjS4w24gBH4"
    },
    {
      "cell_type": "markdown",
      "source": [
        "* A yearly salary is the pay unit most likely to be certified for a visa.\n",
        "* On the other hand, applicants with an hourly pay unit were denied a visa at a significantly higher rate.   "
      ],
      "metadata": {
        "id": "2Rh3W29wDgAr"
      },
      "id": "2Rh3W29wDgAr"
    },
    {
      "cell_type": "code",
      "execution_count": null,
      "metadata": {
        "colab": {
          "base_uri": "https://localhost:8080/",
          "height": 729
        },
        "id": "0JgPZ-bpgUmp",
        "outputId": "5945e2d7-6a14-42d7-f8be-18c2eef2d3c0"
      },
      "outputs": [
        {
          "output_type": "display_data",
          "data": {
            "text/plain": [
              "<Figure size 864x720 with 4 Axes>"
            ],
            "image/png": "[encoded data removed]"
          },
          "metadata": {
            "needs_background": "light"
          }
        }
      ],
      "source": [
        "distribution_plot_wrt_target(data, 'prevailing_wage', 'case_status')"
      ],
      "id": "0JgPZ-bpgUmp"
    },
    {
      "cell_type": "markdown",
      "source": [
        "* Wage distributions are similar for certified and denied applications. "
      ],
      "metadata": {
        "id": "XttjwtKZEkYs"
      },
      "id": "XttjwtKZEkYs"
    },
    {
      "cell_type": "markdown",
      "source": [
        "### **EDA Insights**:\n",
        "\n",
        "1. Education plays a significant role in Visa certification. Applicants with a higher education status are certified more often. For example, 9 out of 10 applicants with doctorate degrees got their Visas, while only 3 out of 10 with only high school education did.\n",
        "\n",
        "2. Europe applications got a higher certification rate than other continents: close to 80%. South America is the continent with the lowest rate of certifications: less than 60%.\n",
        " \n",
        "3. Having job experience significantly influence visa status. More than 75% of applicants with job experience were certified, while only 60% of inexperienced applicants got their Visas.  \n",
        " \n",
        "4. Candidates whose prospective employers reported annual pay units were more successful in obtaining a Visa (about 70%) than those whose prospective employers reported hourly pay (<40%).\n",
        " \n",
        "5. The visa status does not seem to change with the prevailing wage. Wage distributions are similar for certified and denied applications."
      ],
      "metadata": {
        "id": "jCN3DeTg0C9C"
      },
      "id": "jCN3DeTg0C9C"
    },
    {
      "cell_type": "markdown",
      "metadata": {
        "id": "alleged-spirituality"
      },
      "source": [
        "## Data Preprocessing"
      ],
      "id": "alleged-spirituality"
    },
    {
      "cell_type": "code",
      "execution_count": null,
      "metadata": {
        "colab": {
          "base_uri": "https://localhost:8080/"
        },
        "id": "EDEtK6h3iqFm",
        "outputId": "adf64b09-0b42-42ee-9c9b-e457384cfae7"
      },
      "outputs": [
        {
          "output_type": "execute_result",
          "data": {
            "text/plain": [
              "Index(['case_id', 'continent', 'education_of_employee', 'has_job_experience',\n",
              "       'requires_job_training', 'no_of_employees', 'yr_of_estab',\n",
              "       'region_of_employment', 'prevailing_wage', 'unit_of_wage',\n",
              "       'full_time_position', 'case_status'],\n",
              "      dtype='object')"
            ]
          },
          "metadata": {},
          "execution_count": 93
        }
      ],
      "source": [
        "data.columns"
      ],
      "id": "EDEtK6h3iqFm"
    },
    {
      "cell_type": "markdown",
      "metadata": {
        "id": "dV-hryipikE8"
      },
      "source": [
        "### Feature engeneering"
      ],
      "id": "dV-hryipikE8"
    },
    {
      "cell_type": "code",
      "execution_count": null,
      "metadata": {
        "colab": {
          "base_uri": "https://localhost:8080/"
        },
        "id": "DB5_im-nmyv-",
        "outputId": "7e8b3fc0-09e7-47a5-e93d-48472290e8f9"
      },
      "outputs": [
        {
          "output_type": "execute_result",
          "data": {
            "text/plain": [
              "25480"
            ]
          },
          "metadata": {},
          "execution_count": 94
        }
      ],
      "source": [
        "# checking for unique values in ID column\n",
        "data[\"case_id\"].nunique()"
      ],
      "id": "DB5_im-nmyv-"
    },
    {
      "cell_type": "markdown",
      "source": [
        "* Case ID shows unique applications.\n",
        "* This column does not add any value to a prediction model, and we should drop it."
      ],
      "metadata": {
        "id": "JcYhCP8NUffe"
      },
      "id": "JcYhCP8NUffe"
    },
    {
      "cell_type": "code",
      "execution_count": null,
      "metadata": {
        "id": "suOdpFXgnGMr"
      },
      "outputs": [],
      "source": [
        "# Dropping case_id\n",
        "data.drop([\"case_id\"], axis=1, inplace=True)"
      ],
      "id": "suOdpFXgnGMr"
    },
    {
      "cell_type": "code",
      "execution_count": null,
      "metadata": {
        "id": "Dbkv5xmWim2A"
      },
      "outputs": [],
      "source": [
        "# Creating a dictionary to replace object-type values with numerical values\n",
        "replaceStruct = {\n",
        "                \"education_of_employee\":     {\"High School\": 1, \"Bachelor's\": 2 ,\"Master's\": 3 ,\"Doctorate\":4},\n",
        "                \"unit_of_wage\": {\"Hour\": 1, \"Week\":2 , \"Month\": 3, \"Year\": 4},\n",
        "                 \"has_job_experience\": {\"N\": 0, \"Y\": 1 },\n",
        "                 \"requires_job_training\": {\"N\": 0, \"Y\": 1 },\n",
        "                \"full_time_position\": {\"N\": 0, \"Y\": 1 },\n",
        "                \"case_status\":     {\"Denied\": 0, \"Certified\": 1 } \n",
        "                    }\n",
        "\n",
        "#Creating a list for other categorical variables\n",
        "oneHotCols=[\"continent\",\"region_of_employment\"]"
      ],
      "id": "Dbkv5xmWim2A"
    },
    {
      "cell_type": "code",
      "execution_count": null,
      "metadata": {
        "colab": {
          "base_uri": "https://localhost:8080/",
          "height": 444
        },
        "id": "increasing-louisiana",
        "outputId": "e32841e0-f5e7-44ac-f137-0d878716e442"
      },
      "outputs": [
        {
          "output_type": "execute_result",
          "data": {
            "text/plain": [
              "   education_of_employee  has_job_experience  requires_job_training  \\\n",
              "0                      1                   0                      0   \n",
              "1                      3                   1                      0   \n",
              "2                      2                   0                      1   \n",
              "3                      2                   0                      0   \n",
              "4                      3                   1                      0   \n",
              "5                      3                   1                      0   \n",
              "6                      2                   0                      0   \n",
              "7                      2                   1                      0   \n",
              "8                      2                   0                      0   \n",
              "9                      4                   1                      0   \n",
              "\n",
              "   no_of_employees  yr_of_estab  prevailing_wage  unit_of_wage  \\\n",
              "0            14513         2007         592.2029             1   \n",
              "1             2412         2002       83425.6500             4   \n",
              "2            44444         2008      122996.8600             4   \n",
              "3               98         1897       83434.0300             4   \n",
              "4             1082         2005      149907.3900             4   \n",
              "5             2339         2012       78252.1400             4   \n",
              "6             4985         1994       53635.3900             4   \n",
              "7             3035         1924         418.2298             1   \n",
              "8             4810         2012       74362.1900             4   \n",
              "9             2251         1995       67514.7600             4   \n",
              "\n",
              "   full_time_position  case_status  continent_Asia  continent_Europe  \\\n",
              "0                   1            0               1                 0   \n",
              "1                   1            1               1                 0   \n",
              "2                   1            0               1                 0   \n",
              "3                   1            0               1                 0   \n",
              "4                   1            1               0                 0   \n",
              "5                   1            1               1                 0   \n",
              "6                   1            1               1                 0   \n",
              "7                   1            0               0                 0   \n",
              "8                   1            1               1                 0   \n",
              "9                   1            1               0                 1   \n",
              "\n",
              "   continent_North America  continent_Oceania  continent_South America  \\\n",
              "0                        0                  0                        0   \n",
              "1                        0                  0                        0   \n",
              "2                        0                  0                        0   \n",
              "3                        0                  0                        0   \n",
              "4                        0                  0                        0   \n",
              "5                        0                  0                        0   \n",
              "6                        0                  0                        0   \n",
              "7                        1                  0                        0   \n",
              "8                        0                  0                        0   \n",
              "9                        0                  0                        0   \n",
              "\n",
              "   region_of_employment_Midwest  region_of_employment_Northeast  \\\n",
              "0                             0                               0   \n",
              "1                             0                               1   \n",
              "2                             0                               0   \n",
              "3                             0                               0   \n",
              "4                             0                               0   \n",
              "5                             0                               0   \n",
              "6                             0                               0   \n",
              "7                             0                               0   \n",
              "8                             1                               0   \n",
              "9                             0                               0   \n",
              "\n",
              "   region_of_employment_South  region_of_employment_West  \n",
              "0                           0                          1  \n",
              "1                           0                          0  \n",
              "2                           0                          1  \n",
              "3                           0                          1  \n",
              "4                           1                          0  \n",
              "5                           1                          0  \n",
              "6                           1                          0  \n",
              "7                           0                          1  \n",
              "8                           0                          0  \n",
              "9                           1                          0  "
            ],
            "text/html": [
              "\n",
              "  <div id=\"df-428a0b43-b6bf-44a2-9065-130e5df913f6\">\n",
              "    <div class=\"colab-df-container\">\n",
              "      <div>\n",
              "<style scoped>\n",
              "    .dataframe tbody tr th:only-of-type {\n",
              "        vertical-align: middle;\n",
              "    }\n",
              "\n",
              "    .dataframe tbody tr th {\n",
              "        vertical-align: top;\n",
              "    }\n",
              "\n",
              "    .dataframe thead th {\n",
              "        text-align: right;\n",
              "    }\n",
              "</style>\n",
              "<table border=\"1\" class=\"dataframe\">\n",
              "  <thead>\n",
              "    <tr style=\"text-align: right;\">\n",
              "      <th></th>\n",
              "      <th>education_of_employee</th>\n",
              "      <th>has_job_experience</th>\n",
              "      <th>requires_job_training</th>\n",
              "      <th>no_of_employees</th>\n",
              "      <th>yr_of_estab</th>\n",
              "      <th>prevailing_wage</th>\n",
              "      <th>unit_of_wage</th>\n",
              "      <th>full_time_position</th>\n",
              "      <th>case_status</th>\n",
              "      <th>continent_Asia</th>\n",
              "      <th>continent_Europe</th>\n",
              "      <th>continent_North America</th>\n",
              "      <th>continent_Oceania</th>\n",
              "      <th>continent_South America</th>\n",
              "      <th>region_of_employment_Midwest</th>\n",
              "      <th>region_of_employment_Northeast</th>\n",
              "      <th>region_of_employment_South</th>\n",
              "      <th>region_of_employment_West</th>\n",
              "    </tr>\n",
              "  </thead>\n",
              "  <tbody>\n",
              "    <tr>\n",
              "      <th>0</th>\n",
              "      <td>1</td>\n",
              "      <td>0</td>\n",
              "      <td>0</td>\n",
              "      <td>14513</td>\n",
              "      <td>2007</td>\n",
              "      <td>592.2029</td>\n",
              "      <td>1</td>\n",
              "      <td>1</td>\n",
              "      <td>0</td>\n",
              "      <td>1</td>\n",
              "      <td>0</td>\n",
              "      <td>0</td>\n",
              "      <td>0</td>\n",
              "      <td>0</td>\n",
              "      <td>0</td>\n",
              "      <td>0</td>\n",
              "      <td>0</td>\n",
              "      <td>1</td>\n",
              "    </tr>\n",
              "    <tr>\n",
              "      <th>1</th>\n",
              "      <td>3</td>\n",
              "      <td>1</td>\n",
              "      <td>0</td>\n",
              "      <td>2412</td>\n",
              "      <td>2002</td>\n",
              "      <td>83425.6500</td>\n",
              "      <td>4</td>\n",
              "      <td>1</td>\n",
              "      <td>1</td>\n",
              "      <td>1</td>\n",
              "      <td>0</td>\n",
              "      <td>0</td>\n",
              "      <td>0</td>\n",
              "      <td>0</td>\n",
              "      <td>0</td>\n",
              "      <td>1</td>\n",
              "      <td>0</td>\n",
              "      <td>0</td>\n",
              "    </tr>\n",
              "    <tr>\n",
              "      <th>2</th>\n",
              "      <td>2</td>\n",
              "      <td>0</td>\n",
              "      <td>1</td>\n",
              "      <td>44444</td>\n",
              "      <td>2008</td>\n",
              "      <td>122996.8600</td>\n",
              "      <td>4</td>\n",
              "      <td>1</td>\n",
              "      <td>0</td>\n",
              "      <td>1</td>\n",
              "      <td>0</td>\n",
              "      <td>0</td>\n",
              "      <td>0</td>\n",
              "      <td>0</td>\n",
              "      <td>0</td>\n",
              "      <td>0</td>\n",
              "      <td>0</td>\n",
              "      <td>1</td>\n",
              "    </tr>\n",
              "    <tr>\n",
              "      <th>3</th>\n",
              "      <td>2</td>\n",
              "      <td>0</td>\n",
              "      <td>0</td>\n",
              "      <td>98</td>\n",
              "      <td>1897</td>\n",
              "      <td>83434.0300</td>\n",
              "      <td>4</td>\n",
              "      <td>1</td>\n",
              "      <td>0</td>\n",
              "      <td>1</td>\n",
              "      <td>0</td>\n",
              "      <td>0</td>\n",
              "      <td>0</td>\n",
              "      <td>0</td>\n",
              "      <td>0</td>\n",
              "      <td>0</td>\n",
              "      <td>0</td>\n",
              "      <td>1</td>\n",
              "    </tr>\n",
              "    <tr>\n",
              "      <th>4</th>\n",
              "      <td>3</td>\n",
              "      <td>1</td>\n",
              "      <td>0</td>\n",
              "      <td>1082</td>\n",
              "      <td>2005</td>\n",
              "      <td>149907.3900</td>\n",
              "      <td>4</td>\n",
              "      <td>1</td>\n",
              "      <td>1</td>\n",
              "      <td>0</td>\n",
              "      <td>0</td>\n",
              "      <td>0</td>\n",
              "      <td>0</td>\n",
              "      <td>0</td>\n",
              "      <td>0</td>\n",
              "      <td>0</td>\n",
              "      <td>1</td>\n",
              "      <td>0</td>\n",
              "    </tr>\n",
              "    <tr>\n",
              "      <th>5</th>\n",
              "      <td>3</td>\n",
              "      <td>1</td>\n",
              "      <td>0</td>\n",
              "      <td>2339</td>\n",
              "      <td>2012</td>\n",
              "      <td>78252.1400</td>\n",
              "      <td>4</td>\n",
              "      <td>1</td>\n",
              "      <td>1</td>\n",
              "      <td>1</td>\n",
              "      <td>0</td>\n",
              "      <td>0</td>\n",
              "      <td>0</td>\n",
              "      <td>0</td>\n",
              "      <td>0</td>\n",
              "      <td>0</td>\n",
              "      <td>1</td>\n",
              "      <td>0</td>\n",
              "    </tr>\n",
              "    <tr>\n",
              "      <th>6</th>\n",
              "      <td>2</td>\n",
              "      <td>0</td>\n",
              "      <td>0</td>\n",
              "      <td>4985</td>\n",
              "      <td>1994</td>\n",
              "      <td>53635.3900</td>\n",
              "      <td>4</td>\n",
              "      <td>1</td>\n",
              "      <td>1</td>\n",
              "      <td>1</td>\n",
              "      <td>0</td>\n",
              "      <td>0</td>\n",
              "      <td>0</td>\n",
              "      <td>0</td>\n",
              "      <td>0</td>\n",
              "      <td>0</td>\n",
              "      <td>1</td>\n",
              "      <td>0</td>\n",
              "    </tr>\n",
              "    <tr>\n",
              "      <th>7</th>\n",
              "      <td>2</td>\n",
              "      <td>1</td>\n",
              "      <td>0</td>\n",
              "      <td>3035</td>\n",
              "      <td>1924</td>\n",
              "      <td>418.2298</td>\n",
              "      <td>1</td>\n",
              "      <td>1</td>\n",
              "      <td>0</td>\n",
              "      <td>0</td>\n",
              "      <td>0</td>\n",
              "      <td>1</td>\n",
              "      <td>0</td>\n",
              "      <td>0</td>\n",
              "      <td>0</td>\n",
              "      <td>0</td>\n",
              "      <td>0</td>\n",
              "      <td>1</td>\n",
              "    </tr>\n",
              "    <tr>\n",
              "      <th>8</th>\n",
              "      <td>2</td>\n",
              "      <td>0</td>\n",
              "      <td>0</td>\n",
              "      <td>4810</td>\n",
              "      <td>2012</td>\n",
              "      <td>74362.1900</td>\n",
              "      <td>4</td>\n",
              "      <td>1</td>\n",
              "      <td>1</td>\n",
              "      <td>1</td>\n",
              "      <td>0</td>\n",
              "      <td>0</td>\n",
              "      <td>0</td>\n",
              "      <td>0</td>\n",
              "      <td>1</td>\n",
              "      <td>0</td>\n",
              "      <td>0</td>\n",
              "      <td>0</td>\n",
              "    </tr>\n",
              "    <tr>\n",
              "      <th>9</th>\n",
              "      <td>4</td>\n",
              "      <td>1</td>\n",
              "      <td>0</td>\n",
              "      <td>2251</td>\n",
              "      <td>1995</td>\n",
              "      <td>67514.7600</td>\n",
              "      <td>4</td>\n",
              "      <td>1</td>\n",
              "      <td>1</td>\n",
              "      <td>0</td>\n",
              "      <td>1</td>\n",
              "      <td>0</td>\n",
              "      <td>0</td>\n",
              "      <td>0</td>\n",
              "      <td>0</td>\n",
              "      <td>0</td>\n",
              "      <td>1</td>\n",
              "      <td>0</td>\n",
              "    </tr>\n",
              "  </tbody>\n",
              "</table>\n",
              "</div>\n",
              "      <button class=\"colab-df-convert\" onclick=\"convertToInteractive('df-428a0b43-b6bf-44a2-9065-130e5df913f6')\"\n",
              "              title=\"Convert this dataframe to an interactive table.\"\n",
              "              style=\"display:none;\">\n",
              "        \n",
              "  <svg xmlns=\"http://www.w3.org/2000/svg\" height=\"24px\"viewBox=\"0 0 24 24\"\n",
              "       width=\"24px\">\n",
              "    <path d=\"M0 0h24v24H0V0z\" fill=\"none\"/>\n",
              "    <path d=\"M18.56 5.44l.94 2.06.94-2.06 2.06-.94-2.06-.94-.94-2.06-.94 2.06-2.06.94zm-11 1L8.5 8.5l.94-2.06 2.06-.94-2.06-.94L8.5 2.5l-.94 2.06-2.06.94zm10 10l.94 2.06.94-2.06 2.06-.94-2.06-.94-.94-2.06-.94 2.06-2.06.94z\"/><path d=\"M17.41 7.96l-1.37-1.37c-.4-.4-.92-.59-1.43-.59-.52 0-1.04.2-1.43.59L10.3 9.45l-7.72 7.72c-.78.78-.78 2.05 0 2.83L4 21.41c.39.39.9.59 1.41.59.51 0 1.02-.2 1.41-.59l7.78-7.78 2.81-2.81c.8-.78.8-2.07 0-2.86zM5.41 20L4 18.59l7.72-7.72 1.47 1.35L5.41 20z\"/>\n",
              "  </svg>\n",
              "      </button>\n",
              "      \n",
              "  <style>\n",
              "    .colab-df-container {\n",
              "      display:flex;\n",
              "      flex-wrap:wrap;\n",
              "      gap: 12px;\n",
              "    }\n",
              "\n",
              "    .colab-df-convert {\n",
              "      background-color: #E8F0FE;\n",
              "      border: none;\n",
              "      border-radius: 50%;\n",
              "      cursor: pointer;\n",
              "      display: none;\n",
              "      fill: #1967D2;\n",
              "      height: 32px;\n",
              "      padding: 0 0 0 0;\n",
              "      width: 32px;\n",
              "    }\n",
              "\n",
              "    .colab-df-convert:hover {\n",
              "      background-color: #E2EBFA;\n",
              "      box-shadow: 0px 1px 2px rgba(60, 64, 67, 0.3), 0px 1px 3px 1px rgba(60, 64, 67, 0.15);\n",
              "      fill: #174EA6;\n",
              "    }\n",
              "\n",
              "    [theme=dark] .colab-df-convert {\n",
              "      background-color: #3B4455;\n",
              "      fill: #D2E3FC;\n",
              "    }\n",
              "\n",
              "    [theme=dark] .colab-df-convert:hover {\n",
              "      background-color: #434B5C;\n",
              "      box-shadow: 0px 1px 3px 1px rgba(0, 0, 0, 0.15);\n",
              "      filter: drop-shadow(0px 1px 2px rgba(0, 0, 0, 0.3));\n",
              "      fill: #FFFFFF;\n",
              "    }\n",
              "  </style>\n",
              "\n",
              "      <script>\n",
              "        const buttonEl =\n",
              "          document.querySelector('#df-428a0b43-b6bf-44a2-9065-130e5df913f6 button.colab-df-convert');\n",
              "        buttonEl.style.display =\n",
              "          google.colab.kernel.accessAllowed ? 'block' : 'none';\n",
              "\n",
              "        async function convertToInteractive(key) {\n",
              "          const element = document.querySelector('#df-428a0b43-b6bf-44a2-9065-130e5df913f6');\n",
              "          const dataTable =\n",
              "            await google.colab.kernel.invokeFunction('convertToInteractive',\n",
              "                                                     [key], {});\n",
              "          if (!dataTable) return;\n",
              "\n",
              "          const docLinkHtml = 'Like what you see? Visit the ' +\n",
              "            '<a target=\"_blank\" href=https://colab.research.google.com/notebooks/data_table.ipynb>data table notebook</a>'\n",
              "            + ' to learn more about interactive tables.';\n",
              "          element.innerHTML = '';\n",
              "          dataTable['output_type'] = 'display_data';\n",
              "          await google.colab.output.renderOutput(dataTable, element);\n",
              "          const docLink = document.createElement('div');\n",
              "          docLink.innerHTML = docLinkHtml;\n",
              "          element.appendChild(docLink);\n",
              "        }\n",
              "      </script>\n",
              "    </div>\n",
              "  </div>\n",
              "  "
            ]
          },
          "metadata": {},
          "execution_count": 97
        }
      ],
      "source": [
        "# Replacing object-type values with numerical values\n",
        "data1=data.replace(replaceStruct)\n",
        "\n",
        "# Creating dummy variables and dropping first to avoid multicollinearity\n",
        "data1=pd.get_dummies(data1, columns=oneHotCols, drop_first=True)\n",
        "data1.head(10)"
      ],
      "id": "increasing-louisiana"
    },
    {
      "cell_type": "code",
      "execution_count": null,
      "metadata": {
        "colab": {
          "base_uri": "https://localhost:8080/"
        },
        "id": "ZEeABMOWuX5R",
        "outputId": "1ca1ed33-d8b3-4594-a0b4-bc690d981864"
      },
      "outputs": [
        {
          "output_type": "stream",
          "name": "stdout",
          "text": [
            "<class 'pandas.core.frame.DataFrame'>\n",
            "RangeIndex: 25480 entries, 0 to 25479\n",
            "Data columns (total 18 columns):\n",
            " #   Column                          Non-Null Count  Dtype  \n",
            "---  ------                          --------------  -----  \n",
            " 0   education_of_employee           25480 non-null  int64  \n",
            " 1   has_job_experience              25480 non-null  int64  \n",
            " 2   requires_job_training           25480 non-null  int64  \n",
            " 3   no_of_employees                 25480 non-null  int64  \n",
            " 4   yr_of_estab                     25480 non-null  int64  \n",
            " 5   prevailing_wage                 25480 non-null  float64\n",
            " 6   unit_of_wage                    25480 non-null  int64  \n",
            " 7   full_time_position              25480 non-null  int64  \n",
            " 8   case_status                     25480 non-null  int64  \n",
            " 9   continent_Asia                  25480 non-null  uint8  \n",
            " 10  continent_Europe                25480 non-null  uint8  \n",
            " 11  continent_North America         25480 non-null  uint8  \n",
            " 12  continent_Oceania               25480 non-null  uint8  \n",
            " 13  continent_South America         25480 non-null  uint8  \n",
            " 14  region_of_employment_Midwest    25480 non-null  uint8  \n",
            " 15  region_of_employment_Northeast  25480 non-null  uint8  \n",
            " 16  region_of_employment_South      25480 non-null  uint8  \n",
            " 17  region_of_employment_West       25480 non-null  uint8  \n",
            "dtypes: float64(1), int64(8), uint8(9)\n",
            "memory usage: 2.0 MB\n"
          ]
        }
      ],
      "source": [
        "# Checking we only have numerical data\n",
        "data1.info()"
      ],
      "id": "ZEeABMOWuX5R"
    },
    {
      "cell_type": "markdown",
      "source": [
        "* We only have numerical data now."
      ],
      "metadata": {
        "id": "dIpXSMTMZ4J8"
      },
      "id": "dIpXSMTMZ4J8"
    },
    {
      "cell_type": "markdown",
      "metadata": {
        "id": "batElNLIuwSr"
      },
      "source": [
        "### Outlier detection and treatment"
      ],
      "id": "batElNLIuwSr"
    },
    {
      "cell_type": "code",
      "execution_count": null,
      "metadata": {
        "colab": {
          "base_uri": "https://localhost:8080/",
          "height": 178
        },
        "id": "srPA3dqLuzRk",
        "outputId": "f9909b4b-1e85-46f6-85ae-b250697b90b6"
      },
      "outputs": [
        {
          "output_type": "display_data",
          "data": {
            "text/plain": [
              "<Figure size 1080x864 with 3 Axes>"
            ],
            "image/png": "[encoded data removed]"
          },
          "metadata": {
            "needs_background": "light"
          }
        }
      ],
      "source": [
        "# outlier detection using boxplot\n",
        "numeric_columns = data.select_dtypes(include=np.number).columns.tolist()\n",
        "\n",
        "\n",
        "plt.figure(figsize=(15, 12))\n",
        "\n",
        "for i, variable in enumerate(numeric_columns):\n",
        "    plt.subplot(6, 4, i + 1)\n",
        "    plt.boxplot(data[variable], whis=1.5)\n",
        "    plt.tight_layout()\n",
        "    plt.title(variable)\n",
        "\n",
        "plt.show()"
      ],
      "id": "srPA3dqLuzRk"
    },
    {
      "cell_type": "markdown",
      "metadata": {
        "id": "YQSsapzFvCty"
      },
      "source": [
        "*   All the outliers seem like fair values.\n",
        "\n"
      ],
      "id": "YQSsapzFvCty"
    },
    {
      "cell_type": "markdown",
      "metadata": {
        "id": "wMDJmCKovucZ"
      },
      "source": [
        "### Data preparation for modeling"
      ],
      "id": "wMDJmCKovucZ"
    },
    {
      "cell_type": "code",
      "execution_count": null,
      "metadata": {
        "id": "eRHOmsMYv8mP"
      },
      "outputs": [],
      "source": [
        "# Splitting data in dependent and independent variables\n",
        "X = data1.drop(['case_status'],axis=1)\n",
        "y = data1['case_status']"
      ],
      "id": "eRHOmsMYv8mP"
    },
    {
      "cell_type": "code",
      "execution_count": null,
      "metadata": {
        "colab": {
          "base_uri": "https://localhost:8080/"
        },
        "id": "dNCv0_6RvtQC",
        "outputId": "9ba777ba-4244-4bd0-b199-02194d7c86c4"
      },
      "outputs": [
        {
          "output_type": "stream",
          "name": "stdout",
          "text": [
            "(17836, 17) (7644, 17)\n"
          ]
        }
      ],
      "source": [
        "# Splitting data into training and test set:\n",
        "X_train, X_test, y_train, y_test =train_test_split(X, y, test_size=0.3, random_state=1,stratify=y)\n",
        "print(X_train.shape, X_test.shape)"
      ],
      "id": "dNCv0_6RvtQC"
    },
    {
      "cell_type": "code",
      "execution_count": null,
      "metadata": {
        "colab": {
          "base_uri": "https://localhost:8080/"
        },
        "id": "rJKEfyJ3wU_z",
        "outputId": "4da5c858-5feb-4b5d-e344-d5e845e96a34"
      },
      "outputs": [
        {
          "output_type": "execute_result",
          "data": {
            "text/plain": [
              "1    0.667896\n",
              "0    0.332104\n",
              "Name: case_status, dtype: float64"
            ]
          },
          "metadata": {},
          "execution_count": 102
        }
      ],
      "source": [
        "# Checking proportions in the dependent variable\n",
        "y.value_counts(1)"
      ],
      "id": "rJKEfyJ3wU_z"
    },
    {
      "cell_type": "code",
      "execution_count": null,
      "metadata": {
        "colab": {
          "base_uri": "https://localhost:8080/"
        },
        "id": "e5pLSy1BwZYL",
        "outputId": "658445a9-6c22-42f9-fcea-41c41739b386"
      },
      "outputs": [
        {
          "output_type": "execute_result",
          "data": {
            "text/plain": [
              "1    0.667844\n",
              "0    0.332156\n",
              "Name: case_status, dtype: float64"
            ]
          },
          "metadata": {},
          "execution_count": 103
        }
      ],
      "source": [
        "# Checking proportions in the test set\n",
        "y_test.value_counts(1)"
      ],
      "id": "e5pLSy1BwZYL"
    },
    {
      "cell_type": "markdown",
      "source": [
        "* Proportions in the test set are correct."
      ],
      "metadata": {
        "id": "SW43Ln7Yfv0z"
      },
      "id": "SW43Ln7Yfv0z"
    },
    {
      "cell_type": "markdown",
      "metadata": {
        "id": "z1P8MYUTwjBi"
      },
      "source": [
        "### Functions to check model performance"
      ],
      "id": "z1P8MYUTwjBi"
    },
    {
      "cell_type": "code",
      "execution_count": null,
      "metadata": {
        "id": "WbUMMqZ-wpVf"
      },
      "outputs": [],
      "source": [
        "# defining a function to compute different metrics to check performance of a classification model built using sklearn\n",
        "def model_performance_classification_sklearn(model, predictors, target):\n",
        "    \"\"\"\n",
        "    Function to compute different metrics to check classification model performance\n",
        "\n",
        "    model: classifier\n",
        "    predictors: independent variables\n",
        "    target: dependent variable\n",
        "    \"\"\"\n",
        "\n",
        "    # predicting using the independent variables\n",
        "    pred = model.predict(predictors)\n",
        "\n",
        "    acc = accuracy_score(target, pred)  # to compute Accuracy\n",
        "    recall = recall_score(target, pred)  # to compute Recall\n",
        "    precision = precision_score(target, pred)  # to compute Precision\n",
        "    f1 = f1_score(target, pred)  # to compute F1-score\n",
        "\n",
        "    # creating a dataframe of metrics\n",
        "    df_perf = pd.DataFrame(\n",
        "        {\n",
        "            \"Accuracy\": acc,\n",
        "            \"Recall\": recall,\n",
        "            \"Precision\": precision,\n",
        "            \"F1\": f1,\n",
        "        },\n",
        "        index=[0],\n",
        "    )\n",
        "\n",
        "    return df_perf"
      ],
      "id": "WbUMMqZ-wpVf"
    },
    {
      "cell_type": "code",
      "execution_count": null,
      "metadata": {
        "id": "fOZ9Oy6PwvTQ"
      },
      "outputs": [],
      "source": [
        "def confusion_matrix_sklearn(model, predictors, target):\n",
        "    \"\"\"\n",
        "    To plot the confusion_matrix with percentages\n",
        "\n",
        "    model: classifier\n",
        "    predictors: independent variables\n",
        "    target: dependent variable\n",
        "    \"\"\"\n",
        "    y_pred = model.predict(predictors)\n",
        "    cm = confusion_matrix(target, y_pred)\n",
        "    labels = np.asarray(\n",
        "        [\n",
        "            [\"{0:0.0f}\".format(item) + \"\\n{0:.2%}\".format(item / cm.flatten().sum())]\n",
        "            for item in cm.flatten()\n",
        "        ]\n",
        "    ).reshape(2, 2)\n",
        "\n",
        "    plt.figure(figsize=(6, 4))\n",
        "    sns.heatmap(cm, annot=labels, fmt=\"\")\n",
        "    plt.ylabel(\"True label\")\n",
        "    plt.xlabel(\"Predicted label\")"
      ],
      "id": "fOZ9Oy6PwvTQ"
    },
    {
      "cell_type": "markdown",
      "metadata": {
        "id": "domestic-iceland"
      },
      "source": [
        "#Building bagging and boosting models\n"
      ],
      "id": "domestic-iceland"
    },
    {
      "cell_type": "markdown",
      "metadata": {
        "id": "QW7sPgUgyDul"
      },
      "source": [
        "### The model can make wrong predictions as:\n",
        "* Predicting an applicant will be denied and the applicant is certified.\n",
        "* Indicating an applicant will be approved and the applicant is denied.\n",
        "\n",
        "Which case is more important? Both are. Predicting a candidate will be denied but certified will result in losing a valuable prospect. On the other hand, shortlisting a candidate who should have been relegated would be a waste of resources for the OFLC. In an extreme case, a candidate without the appropriate qualifications could even fill a position better suited for a local candidate.\n",
        "How to reduce False Negatives and False Positives? OFLC needs the F1 Score to be maximized.\n",
        "\n",
        "### Decision Tree Model\n",
        "We will build multiple models based on decision trees to find the best predictor for our classification problem.\n",
        "We will pass a dictionary **{0:0.67,1:0.33}** to specify the weight of each class, and the decision tree will give more weightage to class 0. Why? For our decision tree classifier, we will try to balance the proportional weights for our dependent variable (case_status)."
      ],
      "id": "QW7sPgUgyDul"
    },
    {
      "cell_type": "code",
      "execution_count": null,
      "metadata": {
        "id": "unknown-institution"
      },
      "outputs": [],
      "source": [
        "# Creating our first model\n",
        "dtree = DecisionTreeClassifier(criterion='gini',class_weight={0:0.67,1:0.33},random_state=1)"
      ],
      "id": "unknown-institution"
    },
    {
      "cell_type": "code",
      "execution_count": null,
      "metadata": {
        "colab": {
          "base_uri": "https://localhost:8080/"
        },
        "id": "itNHL3hG1QbN",
        "outputId": "5b30c86f-1233-4213-da63-889f4e53d35f"
      },
      "outputs": [
        {
          "output_type": "execute_result",
          "data": {
            "text/plain": [
              "DecisionTreeClassifier(class_weight={0: 0.67, 1: 0.33}, random_state=1)"
            ]
          },
          "metadata": {},
          "execution_count": 47
        }
      ],
      "source": [
        "# Fitting our train model\n",
        "dtree.fit(X_train, y_train)"
      ],
      "id": "itNHL3hG1QbN"
    },
    {
      "cell_type": "code",
      "execution_count": null,
      "metadata": {
        "colab": {
          "base_uri": "https://localhost:8080/",
          "height": 279
        },
        "id": "9_rzKfL-1ZjB",
        "outputId": "5d705270-011f-43d6-bc30-84d9f081b01a"
      },
      "outputs": [
        {
          "output_type": "display_data",
          "data": {
            "text/plain": [
              "<Figure size 432x288 with 2 Axes>"
            ],
            "image/png": "[encoded data removed]"
          },
          "metadata": {
            "needs_background": "light"
          }
        }
      ],
      "source": [
        "# Visualizing the performance in the train set\n",
        "confusion_matrix_sklearn(dtree, X_train, y_train)"
      ],
      "id": "9_rzKfL-1ZjB"
    },
    {
      "cell_type": "code",
      "execution_count": null,
      "metadata": {
        "colab": {
          "base_uri": "https://localhost:8080/"
        },
        "id": "iOOULQEu1nWs",
        "outputId": "52f25639-fd90-425d-8007-470e4e6570ef"
      },
      "outputs": [
        {
          "output_type": "stream",
          "name": "stdout",
          "text": [
            "Training performance \n",
            "    Accuracy  Recall  Precision   F1\n",
            "0       1.0     1.0        1.0  1.0\n"
          ]
        }
      ],
      "source": [
        "# Looking at the scores\n",
        "dtree_model_train_perf=model_performance_classification_sklearn(dtree, X_train, y_train)\n",
        "print(\"Training performance \\n\",dtree_model_train_perf)"
      ],
      "id": "iOOULQEu1nWs"
    },
    {
      "cell_type": "code",
      "execution_count": null,
      "metadata": {
        "colab": {
          "base_uri": "https://localhost:8080/",
          "height": 279
        },
        "id": "I7S9CS4P1ufi",
        "outputId": "8d07a142-37e4-4fe6-882f-9fc9e986ef63"
      },
      "outputs": [
        {
          "output_type": "display_data",
          "data": {
            "text/plain": [
              "<Figure size 432x288 with 2 Axes>"
            ],
            "image/png": "[encoded data removed]"
          },
          "metadata": {
            "needs_background": "light"
          }
        }
      ],
      "source": [
        "# Visualizing the performance in the test set\n",
        "confusion_matrix_sklearn(dtree, X_test, y_test)"
      ],
      "id": "I7S9CS4P1ufi"
    },
    {
      "cell_type": "code",
      "execution_count": null,
      "metadata": {
        "colab": {
          "base_uri": "https://localhost:8080/"
        },
        "id": "iP21wJaP18sB",
        "outputId": "6ca03dce-97f8-45c2-f968-2185265fc992"
      },
      "outputs": [
        {
          "output_type": "stream",
          "name": "stdout",
          "text": [
            "Testing performance \n",
            "    Accuracy    Recall  Precision        F1\n",
            "0  0.650576  0.746327    0.73467  0.740453\n"
          ]
        }
      ],
      "source": [
        "# Looking at the scores for our test set\n",
        "dtree_model_test_perf=model_performance_classification_sklearn(dtree, X_test, y_test)\n",
        "print(\"Testing performance \\n\",dtree_model_test_perf)"
      ],
      "id": "iP21wJaP18sB"
    },
    {
      "cell_type": "markdown",
      "source": [
        "* Our first tree is obviously overfitted. \n",
        "* We will use some ensemble learning methods to improve our predictions."
      ],
      "metadata": {
        "id": "aDfmgb0GPNkP"
      },
      "id": "aDfmgb0GPNkP"
    },
    {
      "cell_type": "markdown",
      "source": [
        "# Bagging Classifier and Random Forest - Model Building and Hyperparameter Tuning"
      ],
      "metadata": {
        "id": "m3Z9bGsoRQ-u"
      },
      "id": "m3Z9bGsoRQ-u"
    },
    {
      "cell_type": "markdown",
      "metadata": {
        "id": "zp571I9g2KnP"
      },
      "source": [
        "### Bagging Classifier"
      ],
      "id": "zp571I9g2KnP"
    },
    {
      "cell_type": "code",
      "execution_count": null,
      "metadata": {
        "colab": {
          "base_uri": "https://localhost:8080/"
        },
        "id": "J4Ugagwj2KTL",
        "outputId": "6157f04f-57fd-4dc3-c598-0a7af93b46a5"
      },
      "outputs": [
        {
          "output_type": "execute_result",
          "data": {
            "text/plain": [
              "BaggingClassifier(random_state=1)"
            ]
          },
          "metadata": {},
          "execution_count": 52
        }
      ],
      "source": [
        "#Fitting the model\n",
        "bagging = BaggingClassifier(random_state=1)\n",
        "bagging.fit(X_train,y_train)"
      ],
      "id": "J4Ugagwj2KTL"
    },
    {
      "cell_type": "code",
      "execution_count": null,
      "metadata": {
        "colab": {
          "base_uri": "https://localhost:8080/",
          "height": 279
        },
        "id": "nLJ95Ti1238z",
        "outputId": "bc80024c-0bc1-4568-8be2-6a77e5601c09"
      },
      "outputs": [
        {
          "output_type": "display_data",
          "data": {
            "text/plain": [
              "<Figure size 432x288 with 2 Axes>"
            ],
            "image/png": "[encoded data removed]"
          },
          "metadata": {
            "needs_background": "light"
          }
        }
      ],
      "source": [
        "#Creating confusion matrix\n",
        "confusion_matrix_sklearn(bagging, X_train, y_train)"
      ],
      "id": "nLJ95Ti1238z"
    },
    {
      "cell_type": "code",
      "execution_count": null,
      "metadata": {
        "colab": {
          "base_uri": "https://localhost:8080/"
        },
        "id": "FHd07nyJ2_9r",
        "outputId": "c29d4d11-f6ad-4157-c5b2-0e50a7cde899"
      },
      "outputs": [
        {
          "output_type": "stream",
          "name": "stdout",
          "text": [
            "Training performance \n",
            "    Accuracy    Recall  Precision        F1\n",
            "0  0.983685  0.985142    0.99038  0.987754\n"
          ]
        }
      ],
      "source": [
        "#Calculating different metrics\n",
        "bagging_model_train_perf=model_performance_classification_sklearn(bagging, X_train, y_train)\n",
        "print(\"Training performance \\n\",bagging_model_train_perf)"
      ],
      "id": "FHd07nyJ2_9r"
    },
    {
      "cell_type": "code",
      "execution_count": null,
      "metadata": {
        "colab": {
          "base_uri": "https://localhost:8080/",
          "height": 279
        },
        "id": "HaYcwONR3FAj",
        "outputId": "dba5ca04-6d8f-4eb1-ba6d-d744dd8988ec"
      },
      "outputs": [
        {
          "output_type": "display_data",
          "data": {
            "text/plain": [
              "<Figure size 432x288 with 2 Axes>"
            ],
            "image/png": "[encoded data removed]"
          },
          "metadata": {
            "needs_background": "light"
          }
        }
      ],
      "source": [
        "#Creating confusion matrix\n",
        "confusion_matrix_sklearn(bagging, X_test, y_test)"
      ],
      "id": "HaYcwONR3FAj"
    },
    {
      "cell_type": "code",
      "execution_count": null,
      "metadata": {
        "colab": {
          "base_uri": "https://localhost:8080/"
        },
        "id": "MUc9ZKGZ3JwL",
        "outputId": "06a722ed-fd8f-43d8-f27f-b74d9a05fb35"
      },
      "outputs": [
        {
          "output_type": "stream",
          "name": "stdout",
          "text": [
            "Testing performance \n",
            "    Accuracy    Recall  Precision        F1\n",
            "0  0.694793  0.767679   0.773589  0.770622\n"
          ]
        }
      ],
      "source": [
        "#Calculating different metrics\n",
        "bagging_model_test_perf=model_performance_classification_sklearn(bagging, X_test, y_test)\n",
        "print(\"Testing performance \\n\",bagging_model_test_perf)"
      ],
      "id": "MUc9ZKGZ3JwL"
    },
    {
      "cell_type": "markdown",
      "source": [
        "* Bagging Classifier is giving a higher test f1-score than our first decision tree but it is overfitting the training data.\n",
        "* Let's try to balance the class weight."
      ],
      "metadata": {
        "id": "dvagvLraFlER"
      },
      "id": "dvagvLraFlER"
    },
    {
      "cell_type": "markdown",
      "metadata": {
        "id": "zuEHTWT-3ahE"
      },
      "source": [
        "### Bagging classifier with weighted decision tree"
      ],
      "id": "zuEHTWT-3ahE"
    },
    {
      "cell_type": "code",
      "execution_count": null,
      "metadata": {
        "colab": {
          "base_uri": "https://localhost:8080/"
        },
        "id": "QVEH52J33aJG",
        "outputId": "abb21a4a-c840-432c-ed06-2a7d7d5606c5"
      },
      "outputs": [
        {
          "output_type": "execute_result",
          "data": {
            "text/plain": [
              "BaggingClassifier(base_estimator=DecisionTreeClassifier(class_weight={0: 0.67,\n",
              "                                                                      1: 0.33},\n",
              "                                                        random_state=1),\n",
              "                  random_state=1)"
            ]
          },
          "metadata": {},
          "execution_count": 57
        }
      ],
      "source": [
        "#Fitting the model\n",
        "bagging_wt = BaggingClassifier(base_estimator=DecisionTreeClassifier(criterion='gini',class_weight={0:0.67,1:0.33},random_state=1),random_state=1)\n",
        "bagging_wt.fit(X_train,y_train)"
      ],
      "id": "QVEH52J33aJG"
    },
    {
      "cell_type": "code",
      "execution_count": null,
      "metadata": {
        "colab": {
          "base_uri": "https://localhost:8080/",
          "height": 279
        },
        "id": "kId2WXqK3q2V",
        "outputId": "305062d7-9398-4aa3-c1d4-47612bf10487"
      },
      "outputs": [
        {
          "output_type": "display_data",
          "data": {
            "text/plain": [
              "<Figure size 432x288 with 2 Axes>"
            ],
            "image/png": "[encoded data removed]"
          },
          "metadata": {
            "needs_background": "light"
          }
        }
      ],
      "source": [
        "#Creating confusion matrix\n",
        "confusion_matrix_sklearn(bagging_wt,X_train,y_train)"
      ],
      "id": "kId2WXqK3q2V"
    },
    {
      "cell_type": "code",
      "execution_count": null,
      "metadata": {
        "colab": {
          "base_uri": "https://localhost:8080/"
        },
        "id": "lDYApxDi3vYI",
        "outputId": "4c402e42-ea1a-436b-a65a-e241b9671717"
      },
      "outputs": [
        {
          "output_type": "stream",
          "name": "stdout",
          "text": [
            "Training performance \n",
            "    Accuracy    Recall  Precision        F1\n",
            "0  0.985198  0.986821    0.99098  0.988896\n"
          ]
        }
      ],
      "source": [
        "#Calculating different metrics\n",
        "bagging_wt_model_train_perf=model_performance_classification_sklearn(bagging_wt,X_train,y_train)\n",
        "print(\"Training performance \\n\",bagging_wt_model_train_perf)"
      ],
      "id": "lDYApxDi3vYI"
    },
    {
      "cell_type": "code",
      "execution_count": null,
      "metadata": {
        "colab": {
          "base_uri": "https://localhost:8080/",
          "height": 279
        },
        "id": "xrrWAwgC3zDt",
        "outputId": "f98ba4a1-0179-40a2-c3cd-8c4046373465"
      },
      "outputs": [
        {
          "output_type": "display_data",
          "data": {
            "text/plain": [
              "<Figure size 432x288 with 2 Axes>"
            ],
            "image/png": "[encoded data removed]"
          },
          "metadata": {
            "needs_background": "light"
          }
        }
      ],
      "source": [
        "#Creating confusion matrix\n",
        "confusion_matrix_sklearn(bagging_wt,X_test,y_test)"
      ],
      "id": "xrrWAwgC3zDt"
    },
    {
      "cell_type": "code",
      "execution_count": null,
      "metadata": {
        "colab": {
          "base_uri": "https://localhost:8080/"
        },
        "id": "eX8PAYS_3364",
        "outputId": "6f00a5a5-ed92-4e50-c434-3d52be81613d"
      },
      "outputs": [
        {
          "output_type": "stream",
          "name": "stdout",
          "text": [
            "Testing performance \n",
            "    Accuracy    Recall  Precision        F1\n",
            "0  0.697148  0.781587   0.768786  0.775134\n"
          ]
        }
      ],
      "source": [
        "#Calculating different metrics\n",
        "bagging_wt_model_test_perf=model_performance_classification_sklearn(bagging_wt, X_test, y_test)\n",
        "print(\"Testing performance \\n\",bagging_wt_model_test_perf)"
      ],
      "id": "eX8PAYS_3364"
    },
    {
      "cell_type": "markdown",
      "source": [
        "* Our F1 Score improved a little, but this model is also overfitting the training data. "
      ],
      "metadata": {
        "id": "iON0kcWjJNzi"
      },
      "id": "iON0kcWjJNzi"
    },
    {
      "cell_type": "markdown",
      "metadata": {
        "id": "Dk28KUtP4Igk"
      },
      "source": [
        "### Random forest"
      ],
      "id": "Dk28KUtP4Igk"
    },
    {
      "cell_type": "code",
      "execution_count": null,
      "metadata": {
        "colab": {
          "base_uri": "https://localhost:8080/"
        },
        "id": "aeaZk8-64ILp",
        "outputId": "acacb0f3-3d9b-4e3a-d999-ea4fde593f6a"
      },
      "outputs": [
        {
          "output_type": "execute_result",
          "data": {
            "text/plain": [
              "RandomForestClassifier(random_state=1)"
            ]
          },
          "metadata": {},
          "execution_count": 53
        }
      ],
      "source": [
        "#Fitting the model\n",
        "rf = RandomForestClassifier(random_state=1)\n",
        "rf.fit(X_train,y_train)"
      ],
      "id": "aeaZk8-64ILp"
    },
    {
      "cell_type": "code",
      "execution_count": null,
      "metadata": {
        "colab": {
          "base_uri": "https://localhost:8080/",
          "height": 279
        },
        "id": "aQFdjOCg4Sts",
        "outputId": "b510fb66-068a-4dc1-a954-df5326b4b5dc"
      },
      "outputs": [
        {
          "output_type": "display_data",
          "data": {
            "text/plain": [
              "<Figure size 432x288 with 2 Axes>"
            ],
            "image/png": "[encoded data removed]"
          },
          "metadata": {
            "needs_background": "light"
          }
        }
      ],
      "source": [
        "#Creating confusion matrix\n",
        "confusion_matrix_sklearn(rf,X_train,y_train)"
      ],
      "id": "aQFdjOCg4Sts"
    },
    {
      "cell_type": "code",
      "execution_count": null,
      "metadata": {
        "colab": {
          "base_uri": "https://localhost:8080/"
        },
        "id": "8818u9mO4U2c",
        "outputId": "4fa4dff4-3c8f-476c-ff38-94f49f252a9e"
      },
      "outputs": [
        {
          "output_type": "stream",
          "name": "stdout",
          "text": [
            "Training performance \n",
            "    Accuracy  Recall  Precision   F1\n",
            "0       1.0     1.0        1.0  1.0\n"
          ]
        }
      ],
      "source": [
        "#Calculating different metrics\n",
        "rf_model_train_perf=model_performance_classification_sklearn(rf,X_train,y_train)\n",
        "print(\"Training performance \\n\",rf_model_train_perf)"
      ],
      "id": "8818u9mO4U2c"
    },
    {
      "cell_type": "code",
      "execution_count": null,
      "metadata": {
        "colab": {
          "base_uri": "https://localhost:8080/"
        },
        "id": "C3kbaJlz4bJE",
        "outputId": "8aeb5074-980e-4a8e-d6be-665a280a3ac6"
      },
      "outputs": [
        {
          "output_type": "stream",
          "name": "stdout",
          "text": [
            "Testing performance \n",
            "    Accuracy    Recall  Precision        F1\n",
            "0  0.722266  0.837806   0.767588  0.801161\n"
          ]
        }
      ],
      "source": [
        "#Calculating different metrics\n",
        "rf_model_test_perf=model_performance_classification_sklearn(rf,X_test,y_test)\n",
        "print(\"Testing performance \\n\",rf_model_test_perf)"
      ],
      "id": "C3kbaJlz4bJE"
    },
    {
      "cell_type": "markdown",
      "source": [
        "* Our F1 Score keeps improving, but this model is overfitting the training data.\n",
        "* Let's rerun the Random Forest Classifier with a balanced class weight."
      ],
      "metadata": {
        "id": "u-w3rE4SJiPe"
      },
      "id": "u-w3rE4SJiPe"
    },
    {
      "cell_type": "markdown",
      "metadata": {
        "id": "E51224824i9t"
      },
      "source": [
        "### Random forest with class weights"
      ],
      "id": "E51224824i9t"
    },
    {
      "cell_type": "code",
      "execution_count": null,
      "metadata": {
        "colab": {
          "base_uri": "https://localhost:8080/"
        },
        "id": "zJf8N-ko4mDO",
        "outputId": "401eca5a-a32c-44fc-f964-9f7f66557717"
      },
      "outputs": [
        {
          "output_type": "execute_result",
          "data": {
            "text/plain": [
              "RandomForestClassifier(class_weight={0: 0.67, 1: 0.33}, random_state=1)"
            ]
          },
          "metadata": {},
          "execution_count": 66
        }
      ],
      "source": [
        "#Fitting the model\n",
        "rf_wt = RandomForestClassifier(class_weight={0:0.67,1:0.33}, random_state=1)\n",
        "rf_wt.fit(X_train,y_train)"
      ],
      "id": "zJf8N-ko4mDO"
    },
    {
      "cell_type": "code",
      "execution_count": null,
      "metadata": {
        "colab": {
          "base_uri": "https://localhost:8080/",
          "height": 279
        },
        "id": "BQlFNJVb4urc",
        "outputId": "0c0443db-4ee8-4554-b4be-7d8fbbd71ce6"
      },
      "outputs": [
        {
          "output_type": "display_data",
          "data": {
            "text/plain": [
              "<Figure size 432x288 with 2 Axes>"
            ],
            "image/png": "[encoded data removed]"
          },
          "metadata": {
            "needs_background": "light"
          }
        }
      ],
      "source": [
        "#Creating confusion matrix\n",
        "confusion_matrix_sklearn(rf_wt, X_train,y_train)"
      ],
      "id": "BQlFNJVb4urc"
    },
    {
      "cell_type": "code",
      "execution_count": null,
      "metadata": {
        "colab": {
          "base_uri": "https://localhost:8080/"
        },
        "id": "wb8Khn2F44Me",
        "outputId": "d19b9626-56c9-410b-bbdb-6df0d27bafc6"
      },
      "outputs": [
        {
          "output_type": "stream",
          "name": "stdout",
          "text": [
            "Training performance \n",
            "    Accuracy  Recall  Precision   F1\n",
            "0       1.0     1.0        1.0  1.0\n"
          ]
        }
      ],
      "source": [
        "#Calculating different metrics\n",
        "rf_wt_model_train_perf=model_performance_classification_sklearn(rf_wt, X_train,y_train)\n",
        "print(\"Training performance \\n\",rf_wt_model_train_perf)"
      ],
      "id": "wb8Khn2F44Me"
    },
    {
      "cell_type": "code",
      "execution_count": null,
      "metadata": {
        "colab": {
          "base_uri": "https://localhost:8080/",
          "height": 279
        },
        "id": "0im0IbIh452B",
        "outputId": "0050d400-c899-4cd7-c557-bad776cff387"
      },
      "outputs": [
        {
          "output_type": "display_data",
          "data": {
            "text/plain": [
              "<Figure size 432x288 with 2 Axes>"
            ],
            "image/png": "[encoded data removed]"
          },
          "metadata": {
            "needs_background": "light"
          }
        }
      ],
      "source": [
        "#Creating confusion matrix\n",
        "confusion_matrix_sklearn(rf_wt, X_test,y_test)"
      ],
      "id": "0im0IbIh452B"
    },
    {
      "cell_type": "code",
      "execution_count": null,
      "metadata": {
        "colab": {
          "base_uri": "https://localhost:8080/"
        },
        "id": "nImvOuy85Ave",
        "outputId": "6681054d-0068-4a28-8dae-9e0d388cf526"
      },
      "outputs": [
        {
          "output_type": "stream",
          "name": "stdout",
          "text": [
            "Testing performance \n",
            "    Accuracy    Recall  Precision        F1\n",
            "0  0.722789  0.843095   0.765564  0.802461\n"
          ]
        }
      ],
      "source": [
        "#Calculating different metrics\n",
        "rf_wt_model_test_perf=model_performance_classification_sklearn(rf_wt, X_test,y_test)\n",
        "print(\"Testing performance \\n\",rf_wt_model_test_perf)"
      ],
      "id": "nImvOuy85Ave"
    },
    {
      "cell_type": "markdown",
      "source": [
        "* This model also overfits our training data. \n",
        "* Our F1 Score improved marginally.\n",
        "* Let's tune all the models we have created this far. "
      ],
      "metadata": {
        "id": "sjpRiP2uKmJU"
      },
      "id": "sjpRiP2uKmJU"
    },
    {
      "cell_type": "markdown",
      "metadata": {
        "id": "IkBHBIFG57lO"
      },
      "source": [
        "### Tuning decision tree"
      ],
      "id": "IkBHBIFG57lO"
    },
    {
      "cell_type": "code",
      "execution_count": null,
      "metadata": {
        "colab": {
          "base_uri": "https://localhost:8080/"
        },
        "id": "edz53a4Q57R8",
        "outputId": "18d6bccf-9a17-4a7b-d68e-64c2c0b2f097"
      },
      "outputs": [
        {
          "output_type": "execute_result",
          "data": {
            "text/plain": [
              "DecisionTreeClassifier(class_weight={0: 0.67, 1: 0.33}, max_depth=4,\n",
              "                       max_leaf_nodes=6, min_impurity_decrease=0.001,\n",
              "                       random_state=1)"
            ]
          },
          "metadata": {},
          "execution_count": 71
        }
      ],
      "source": [
        "# Choose the type of classifier. \n",
        "dtree_estimator = DecisionTreeClassifier(class_weight={0:0.67,1:0.33},random_state=1)\n",
        "\n",
        "# Grid of parameters to choose from\n",
        "parameters = {'max_depth': np.arange(2,6), \n",
        "              'min_samples_leaf': [1, 5, 10],\n",
        "              'max_leaf_nodes' : [5, 6, 7],\n",
        "              'min_impurity_decrease': [0.001,0.01, 0.1]\n",
        "             }\n",
        "\n",
        "# Type of scoring used to compare parameter combinations\n",
        "scorer = metrics.make_scorer(metrics.recall_score)\n",
        "\n",
        "# Run the grid search\n",
        "grid_obj = GridSearchCV(dtree_estimator, parameters, scoring=scorer)\n",
        "grid_obj = grid_obj.fit(X_train, y_train)\n",
        "\n",
        "# Set the clf to the best combination of parameters\n",
        "dtree_estimator = grid_obj.best_estimator_\n",
        "\n",
        "# Fit the best algorithm to the data. \n",
        "dtree_estimator.fit(X_train, y_train)"
      ],
      "id": "edz53a4Q57R8"
    },
    {
      "cell_type": "code",
      "execution_count": null,
      "metadata": {
        "colab": {
          "base_uri": "https://localhost:8080/",
          "height": 279
        },
        "id": "KTRkDobx-f5f",
        "outputId": "d0995680-accd-4e3f-bb49-38b4880e2760"
      },
      "outputs": [
        {
          "output_type": "display_data",
          "data": {
            "text/plain": [
              "<Figure size 432x288 with 2 Axes>"
            ],
            "image/png": "[encoded data removed]"
          },
          "metadata": {
            "needs_background": "light"
          }
        }
      ],
      "source": [
        "#Creating confusion matrix\n",
        "confusion_matrix_sklearn(dtree_estimator, X_train,y_train)"
      ],
      "id": "KTRkDobx-f5f"
    },
    {
      "cell_type": "code",
      "execution_count": null,
      "metadata": {
        "colab": {
          "base_uri": "https://localhost:8080/"
        },
        "id": "wVmS0GHK-txD",
        "outputId": "fc9f6fb1-f8e6-4981-b960-e9c78d227073"
      },
      "outputs": [
        {
          "output_type": "stream",
          "name": "stdout",
          "text": [
            "Training performance \n",
            "    Accuracy    Recall  Precision        F1\n",
            "0  0.712548  0.792999   0.780228  0.786562\n"
          ]
        }
      ],
      "source": [
        "#Calculating different metrics\n",
        "dtree_estimator_model_train_perf=model_performance_classification_sklearn(dtree_estimator, X_train,y_train)\n",
        "print(\"Training performance \\n\",dtree_estimator_model_train_perf)"
      ],
      "id": "wVmS0GHK-txD"
    },
    {
      "cell_type": "code",
      "execution_count": null,
      "metadata": {
        "colab": {
          "base_uri": "https://localhost:8080/",
          "height": 280
        },
        "id": "0a3EiAL5-z24",
        "outputId": "19f44b9f-8950-4b42-9494-7fbd5a9ed2f5"
      },
      "outputs": [
        {
          "output_type": "display_data",
          "data": {
            "text/plain": [
              "<Figure size 432x288 with 2 Axes>"
            ],
            "image/png": "[encoded data removed]"
          },
          "metadata": {
            "needs_background": "light"
          }
        }
      ],
      "source": [
        "#Creating confusion matrix\n",
        "confusion_matrix_sklearn(dtree_estimator, X_test,y_test)"
      ],
      "id": "0a3EiAL5-z24"
    },
    {
      "cell_type": "code",
      "execution_count": null,
      "metadata": {
        "colab": {
          "base_uri": "https://localhost:8080/"
        },
        "id": "iXrFV0F2-6gq",
        "outputId": "263e0197-db61-4848-f60d-188f9ae22f99"
      },
      "outputs": [
        {
          "output_type": "stream",
          "name": "stdout",
          "text": [
            "Testing performance \n",
            "    Accuracy    Recall  Precision        F1\n",
            "0  0.708006  0.793732   0.774613  0.784056\n"
          ]
        }
      ],
      "source": [
        "#Calculating different metrics\n",
        "dtree_estimator_model_test_perf=model_performance_classification_sklearn(dtree_estimator, X_test, y_test)\n",
        "print(\"Testing performance \\n\",dtree_estimator_model_test_perf)"
      ],
      "id": "iXrFV0F2-6gq"
    },
    {
      "cell_type": "markdown",
      "source": [
        "* Good news! This is the first model that doesn't seem to overfit the training data. \n",
        "* The F1 Score for the training data is somewhat low."
      ],
      "metadata": {
        "id": "fEbWnK0JLoyI"
      },
      "id": "fEbWnK0JLoyI"
    },
    {
      "cell_type": "markdown",
      "metadata": {
        "id": "i4lcjcNb_HFs"
      },
      "source": [
        "### Tuning bagging classifier"
      ],
      "id": "i4lcjcNb_HFs"
    },
    {
      "cell_type": "code",
      "execution_count": null,
      "metadata": {
        "colab": {
          "base_uri": "https://localhost:8080/"
        },
        "id": "6zOwyzvO_JrK",
        "outputId": "ba119158-90f4-4996-c6e6-f20ea515c212"
      },
      "outputs": [
        {
          "output_type": "execute_result",
          "data": {
            "text/plain": [
              "BaggingClassifier(base_estimator=DecisionTreeClassifier(class_weight={0: 0.67,\n",
              "                                                                      1: 0.33},\n",
              "                                                        random_state=1),\n",
              "                  max_features=0.8, n_estimators=125, random_state=1)"
            ]
          },
          "metadata": {},
          "execution_count": 76
        }
      ],
      "source": [
        "# grid search for bagging classifier\n",
        "cl1 = DecisionTreeClassifier(class_weight={0:0.67,1:0.33},random_state=1)\n",
        "param_grid = {'base_estimator':[cl1],\n",
        "              'n_estimators':[75, 101,125],\n",
        "              'max_features': [0.7,0.8,0.9,1]\n",
        "             }\n",
        "\n",
        "grid = GridSearchCV(BaggingClassifier(random_state=1,bootstrap=True), param_grid=param_grid, scoring = 'f1', cv = 5)\n",
        "grid.fit(X_train, y_train)\n",
        "\n",
        "## getting the best estimator\n",
        "bagging_estimator  = grid.best_estimator_\n",
        "bagging_estimator.fit(X_train,y_train)"
      ],
      "id": "6zOwyzvO_JrK"
    },
    {
      "cell_type": "code",
      "execution_count": null,
      "metadata": {
        "colab": {
          "base_uri": "https://localhost:8080/",
          "height": 279
        },
        "id": "JmDI6al-CY-n",
        "outputId": "3538b68d-1008-4e1c-b1e2-29a8155f8361"
      },
      "outputs": [
        {
          "output_type": "display_data",
          "data": {
            "text/plain": [
              "<Figure size 432x288 with 2 Axes>"
            ],
            "image/png": "[encoded data removed]"
          },
          "metadata": {
            "needs_background": "light"
          }
        }
      ],
      "source": [
        "#Creating confusion matrix\n",
        "confusion_matrix_sklearn(bagging_estimator, X_train,y_train)"
      ],
      "id": "JmDI6al-CY-n"
    },
    {
      "cell_type": "code",
      "execution_count": null,
      "metadata": {
        "colab": {
          "base_uri": "https://localhost:8080/"
        },
        "id": "zMeEWnkGCd-H",
        "outputId": "1bc0c006-7e98-4248-d6df-1b94dc21ab98"
      },
      "outputs": [
        {
          "output_type": "stream",
          "name": "stdout",
          "text": [
            "Training performance \n",
            "    Accuracy  Recall  Precision   F1\n",
            "0       1.0     1.0        1.0  1.0\n"
          ]
        }
      ],
      "source": [
        "#Calculating different metrics\n",
        "bagging_estimator_model_train_perf=model_performance_classification_sklearn(bagging_estimator, X_train,y_train)\n",
        "print(\"Training performance \\n\",bagging_estimator_model_train_perf)"
      ],
      "id": "zMeEWnkGCd-H"
    },
    {
      "cell_type": "code",
      "execution_count": null,
      "metadata": {
        "colab": {
          "base_uri": "https://localhost:8080/",
          "height": 279
        },
        "id": "pgv3I1IjCjim",
        "outputId": "6b1a9365-d2c1-4e06-fd25-e62e027b1984"
      },
      "outputs": [
        {
          "output_type": "display_data",
          "data": {
            "text/plain": [
              "<Figure size 432x288 with 2 Axes>"
            ],
            "image/png": "[encoded data removed]"
          },
          "metadata": {
            "needs_background": "light"
          }
        }
      ],
      "source": [
        "#Creating confusion matrix\n",
        "confusion_matrix_sklearn(bagging_estimator, X_test,y_test)"
      ],
      "id": "pgv3I1IjCjim"
    },
    {
      "cell_type": "code",
      "execution_count": null,
      "metadata": {
        "colab": {
          "base_uri": "https://localhost:8080/"
        },
        "id": "R-BLSfsRCwpf",
        "outputId": "29d25f73-9d67-4f7f-c0ad-f1082e4614f7"
      },
      "outputs": [
        {
          "output_type": "stream",
          "name": "stdout",
          "text": [
            "Testing performance \n",
            "    Accuracy    Recall  Precision        F1\n",
            "0   0.72619  0.878746   0.752685  0.810845\n"
          ]
        }
      ],
      "source": [
        "#Calculating different metrics\n",
        "bagging_estimator_model_test_perf=model_performance_classification_sklearn(bagging_estimator, X_test, y_test)\n",
        "print(\"Testing performance \\n\",bagging_estimator_model_test_perf)"
      ],
      "id": "R-BLSfsRCwpf"
    },
    {
      "cell_type": "markdown",
      "source": [
        "* We got a better performance for the F1 Score.\n",
        "* Nevertheless, this model overfits the training data. "
      ],
      "metadata": {
        "id": "Lfaem5BlMPMX"
      },
      "id": "Lfaem5BlMPMX"
    },
    {
      "cell_type": "markdown",
      "metadata": {
        "id": "_dQ5oST9C3pd"
      },
      "source": [
        "### Tuning Random Forest"
      ],
      "id": "_dQ5oST9C3pd"
    },
    {
      "cell_type": "code",
      "execution_count": null,
      "metadata": {
        "colab": {
          "base_uri": "https://localhost:8080/"
        },
        "id": "qO3LhdlKC3Vp",
        "outputId": "1d28da5c-4fe5-4a8c-9cf8-33fd5143ff73"
      },
      "outputs": [
        {
          "output_type": "execute_result",
          "data": {
            "text/plain": [
              "RandomForestClassifier(max_features='log2', max_samples=0.7, min_samples_leaf=5,\n",
              "                       n_estimators=1000, random_state=1)"
            ]
          },
          "metadata": {},
          "execution_count": 81
        }
      ],
      "source": [
        "# Choose the type of classifier. \n",
        "rf_estimator = RandomForestClassifier(random_state=1)\n",
        "\n",
        "# Grid of parameters to choose from\n",
        "parameters = {  \n",
        "        \"n_estimators\": [1000],\n",
        "        \"min_samples_leaf\": np.arange(1, 6,1),\n",
        "        \"max_features\": [0.7,0.9,'log2','auto'],\n",
        "        \"max_samples\": [0.7,0.9,None],\n",
        "}\n",
        "\n",
        "# Run the grid search\n",
        "grid_obj = GridSearchCV(rf_estimator, parameters, scoring='f1',cv=5)\n",
        "grid_obj = grid_obj.fit(X_train, y_train)\n",
        "\n",
        "# Set the clf to the best combination of parameters\n",
        "rf_estimator = grid_obj.best_estimator_\n",
        "\n",
        "# Fit the best algorithm to the data. \n",
        "rf_estimator.fit(X_train, y_train)"
      ],
      "id": "qO3LhdlKC3Vp"
    },
    {
      "cell_type": "code",
      "execution_count": null,
      "metadata": {
        "colab": {
          "base_uri": "https://localhost:8080/",
          "height": 279
        },
        "id": "wR6kcKcF8Gfu",
        "outputId": "9bea1d1d-dc31-4368-a64a-f0284203520c"
      },
      "outputs": [
        {
          "output_type": "display_data",
          "data": {
            "text/plain": [
              "<Figure size 432x288 with 2 Axes>"
            ],
            "image/png": "[encoded data removed]"
          },
          "metadata": {
            "needs_background": "light"
          }
        }
      ],
      "source": [
        "#Creating confusion matrix\n",
        "confusion_matrix_sklearn(rf_estimator, X_train,y_train)"
      ],
      "id": "wR6kcKcF8Gfu"
    },
    {
      "cell_type": "code",
      "execution_count": null,
      "metadata": {
        "colab": {
          "base_uri": "https://localhost:8080/"
        },
        "id": "fl_AfSqu8kn3",
        "outputId": "50cd473d-8bca-44b2-e2e6-dddeccf20c1f"
      },
      "outputs": [
        {
          "output_type": "stream",
          "name": "stdout",
          "text": [
            "Training performance \n",
            "    Accuracy    Recall  Precision        F1\n",
            "0  0.794741  0.905649    0.80962  0.854947\n"
          ]
        }
      ],
      "source": [
        "#Calculating different metrics\n",
        "rf_estimator_model_train_perf=model_performance_classification_sklearn(rf_estimator, X_train,y_train)\n",
        "print(\"Training performance \\n\",rf_estimator_model_train_perf)"
      ],
      "id": "fl_AfSqu8kn3"
    },
    {
      "cell_type": "code",
      "execution_count": null,
      "metadata": {
        "colab": {
          "base_uri": "https://localhost:8080/",
          "height": 279
        },
        "id": "8tV7Oc2CId9c",
        "outputId": "0a442db7-7e35-4894-9fa9-e9270aacf004"
      },
      "outputs": [
        {
          "output_type": "display_data",
          "data": {
            "text/plain": [
              "<Figure size 432x288 with 2 Axes>"
            ],
            "image/png": "[encoded data removed]"
          },
          "metadata": {
            "needs_background": "light"
          }
        }
      ],
      "source": [
        "#Creating confusion matrix\n",
        "confusion_matrix_sklearn(rf_estimator, X_test,y_test)"
      ],
      "id": "8tV7Oc2CId9c"
    },
    {
      "cell_type": "code",
      "execution_count": null,
      "metadata": {
        "colab": {
          "base_uri": "https://localhost:8080/"
        },
        "id": "7NROuepTIkTf",
        "outputId": "8414adc9-e6be-4a68-fcf8-6e9718ce6e87"
      },
      "outputs": [
        {
          "output_type": "stream",
          "name": "stdout",
          "text": [
            "Testing performance \n",
            "    Accuracy    Recall  Precision        F1\n",
            "0   0.74359  0.870519   0.773812  0.819322\n"
          ]
        }
      ],
      "source": [
        "#Calculating different metrics\n",
        "rf_estimator_model_test_perf=model_performance_classification_sklearn(rf_estimator, X_test, y_test)\n",
        "print(\"Testing performance \\n\",rf_estimator_model_test_perf)"
      ],
      "id": "7NROuepTIkTf"
    },
    {
      "cell_type": "markdown",
      "source": [
        "* This is our best model yet. \n",
        "* The model seems to be fitting the training data properly.\n",
        "* Our F1 Score is noticeably improved after tuning the model."
      ],
      "metadata": {
        "id": "Cs3l-YY0MuXi"
      },
      "id": "Cs3l-YY0MuXi"
    },
    {
      "cell_type": "markdown",
      "metadata": {
        "id": "dgFHqfTMDZ8R"
      },
      "source": [
        "### Comparing the models"
      ],
      "id": "dgFHqfTMDZ8R"
    },
    {
      "cell_type": "code",
      "execution_count": null,
      "metadata": {
        "colab": {
          "base_uri": "https://localhost:8080/",
          "height": 254
        },
        "id": "56Mims9uDNx1",
        "outputId": "b026d39d-b4ed-421a-9e46-b6810a063fe2"
      },
      "outputs": [
        {
          "output_type": "stream",
          "name": "stdout",
          "text": [
            "Training performance comparison:\n"
          ]
        },
        {
          "output_type": "execute_result",
          "data": {
            "text/plain": [
              "           Decision Tree  Bagging Classifier  Weighted Bagging Classifier  \\\n",
              "Accuracy             1.0            0.983685                     0.985198   \n",
              "Recall               1.0            0.985142                     0.986821   \n",
              "Precision            1.0            0.990380                     0.990980   \n",
              "F1                   1.0            0.987754                     0.988896   \n",
              "\n",
              "           Random Forest Classifier  Weighted Random Forest Classifier  \\\n",
              "Accuracy                        1.0                                1.0   \n",
              "Recall                          1.0                                1.0   \n",
              "Precision                       1.0                                1.0   \n",
              "F1                              1.0                                1.0   \n",
              "\n",
              "           Decision Tree Estimator  Bagging Estimator  Random Forest Estimator  \n",
              "Accuracy                  0.712548                1.0                 0.794741  \n",
              "Recall                    0.792999                1.0                 0.905649  \n",
              "Precision                 0.780228                1.0                 0.809620  \n",
              "F1                        0.786562                1.0                 0.854947  "
            ],
            "text/html": [
              "\n",
              "  <div id=\"df-c8605537-e2e3-4b66-81e8-5bdd74514cd9\">\n",
              "    <div class=\"colab-df-container\">\n",
              "      <div>\n",
              "<style scoped>\n",
              "    .dataframe tbody tr th:only-of-type {\n",
              "        vertical-align: middle;\n",
              "    }\n",
              "\n",
              "    .dataframe tbody tr th {\n",
              "        vertical-align: top;\n",
              "    }\n",
              "\n",
              "    .dataframe thead th {\n",
              "        text-align: right;\n",
              "    }\n",
              "</style>\n",
              "<table border=\"1\" class=\"dataframe\">\n",
              "  <thead>\n",
              "    <tr style=\"text-align: right;\">\n",
              "      <th></th>\n",
              "      <th>Decision Tree</th>\n",
              "      <th>Bagging Classifier</th>\n",
              "      <th>Weighted Bagging Classifier</th>\n",
              "      <th>Random Forest Classifier</th>\n",
              "      <th>Weighted Random Forest Classifier</th>\n",
              "      <th>Decision Tree Estimator</th>\n",
              "      <th>Bagging Estimator</th>\n",
              "      <th>Random Forest Estimator</th>\n",
              "    </tr>\n",
              "  </thead>\n",
              "  <tbody>\n",
              "    <tr>\n",
              "      <th>Accuracy</th>\n",
              "      <td>1.0</td>\n",
              "      <td>0.983685</td>\n",
              "      <td>0.985198</td>\n",
              "      <td>1.0</td>\n",
              "      <td>1.0</td>\n",
              "      <td>0.712548</td>\n",
              "      <td>1.0</td>\n",
              "      <td>0.794741</td>\n",
              "    </tr>\n",
              "    <tr>\n",
              "      <th>Recall</th>\n",
              "      <td>1.0</td>\n",
              "      <td>0.985142</td>\n",
              "      <td>0.986821</td>\n",
              "      <td>1.0</td>\n",
              "      <td>1.0</td>\n",
              "      <td>0.792999</td>\n",
              "      <td>1.0</td>\n",
              "      <td>0.905649</td>\n",
              "    </tr>\n",
              "    <tr>\n",
              "      <th>Precision</th>\n",
              "      <td>1.0</td>\n",
              "      <td>0.990380</td>\n",
              "      <td>0.990980</td>\n",
              "      <td>1.0</td>\n",
              "      <td>1.0</td>\n",
              "      <td>0.780228</td>\n",
              "      <td>1.0</td>\n",
              "      <td>0.809620</td>\n",
              "    </tr>\n",
              "    <tr>\n",
              "      <th>F1</th>\n",
              "      <td>1.0</td>\n",
              "      <td>0.987754</td>\n",
              "      <td>0.988896</td>\n",
              "      <td>1.0</td>\n",
              "      <td>1.0</td>\n",
              "      <td>0.786562</td>\n",
              "      <td>1.0</td>\n",
              "      <td>0.854947</td>\n",
              "    </tr>\n",
              "  </tbody>\n",
              "</table>\n",
              "</div>\n",
              "      <button class=\"colab-df-convert\" onclick=\"convertToInteractive('df-c8605537-e2e3-4b66-81e8-5bdd74514cd9')\"\n",
              "              title=\"Convert this dataframe to an interactive table.\"\n",
              "              style=\"display:none;\">\n",
              "        \n",
              "  <svg xmlns=\"http://www.w3.org/2000/svg\" height=\"24px\"viewBox=\"0 0 24 24\"\n",
              "       width=\"24px\">\n",
              "    <path d=\"M0 0h24v24H0V0z\" fill=\"none\"/>\n",
              "    <path d=\"M18.56 5.44l.94 2.06.94-2.06 2.06-.94-2.06-.94-.94-2.06-.94 2.06-2.06.94zm-11 1L8.5 8.5l.94-2.06 2.06-.94-2.06-.94L8.5 2.5l-.94 2.06-2.06.94zm10 10l.94 2.06.94-2.06 2.06-.94-2.06-.94-.94-2.06-.94 2.06-2.06.94z\"/><path d=\"M17.41 7.96l-1.37-1.37c-.4-.4-.92-.59-1.43-.59-.52 0-1.04.2-1.43.59L10.3 9.45l-7.72 7.72c-.78.78-.78 2.05 0 2.83L4 21.41c.39.39.9.59 1.41.59.51 0 1.02-.2 1.41-.59l7.78-7.78 2.81-2.81c.8-.78.8-2.07 0-2.86zM5.41 20L4 18.59l7.72-7.72 1.47 1.35L5.41 20z\"/>\n",
              "  </svg>\n",
              "      </button>\n",
              "      \n",
              "  <style>\n",
              "    .colab-df-container {\n",
              "      display:flex;\n",
              "      flex-wrap:wrap;\n",
              "      gap: 12px;\n",
              "    }\n",
              "\n",
              "    .colab-df-convert {\n",
              "      background-color: #E8F0FE;\n",
              "      border: none;\n",
              "      border-radius: 50%;\n",
              "      cursor: pointer;\n",
              "      display: none;\n",
              "      fill: #1967D2;\n",
              "      height: 32px;\n",
              "      padding: 0 0 0 0;\n",
              "      width: 32px;\n",
              "    }\n",
              "\n",
              "    .colab-df-convert:hover {\n",
              "      background-color: #E2EBFA;\n",
              "      box-shadow: 0px 1px 2px rgba(60, 64, 67, 0.3), 0px 1px 3px 1px rgba(60, 64, 67, 0.15);\n",
              "      fill: #174EA6;\n",
              "    }\n",
              "\n",
              "    [theme=dark] .colab-df-convert {\n",
              "      background-color: #3B4455;\n",
              "      fill: #D2E3FC;\n",
              "    }\n",
              "\n",
              "    [theme=dark] .colab-df-convert:hover {\n",
              "      background-color: #434B5C;\n",
              "      box-shadow: 0px 1px 3px 1px rgba(0, 0, 0, 0.15);\n",
              "      filter: drop-shadow(0px 1px 2px rgba(0, 0, 0, 0.3));\n",
              "      fill: #FFFFFF;\n",
              "    }\n",
              "  </style>\n",
              "\n",
              "      <script>\n",
              "        const buttonEl =\n",
              "          document.querySelector('#df-c8605537-e2e3-4b66-81e8-5bdd74514cd9 button.colab-df-convert');\n",
              "        buttonEl.style.display =\n",
              "          google.colab.kernel.accessAllowed ? 'block' : 'none';\n",
              "\n",
              "        async function convertToInteractive(key) {\n",
              "          const element = document.querySelector('#df-c8605537-e2e3-4b66-81e8-5bdd74514cd9');\n",
              "          const dataTable =\n",
              "            await google.colab.kernel.invokeFunction('convertToInteractive',\n",
              "                                                     [key], {});\n",
              "          if (!dataTable) return;\n",
              "\n",
              "          const docLinkHtml = 'Like what you see? Visit the ' +\n",
              "            '<a target=\"_blank\" href=https://colab.research.google.com/notebooks/data_table.ipynb>data table notebook</a>'\n",
              "            + ' to learn more about interactive tables.';\n",
              "          element.innerHTML = '';\n",
              "          dataTable['output_type'] = 'display_data';\n",
              "          await google.colab.output.renderOutput(dataTable, element);\n",
              "          const docLink = document.createElement('div');\n",
              "          docLink.innerHTML = docLinkHtml;\n",
              "          element.appendChild(docLink);\n",
              "        }\n",
              "      </script>\n",
              "    </div>\n",
              "  </div>\n",
              "  "
            ]
          },
          "metadata": {},
          "execution_count": 86
        }
      ],
      "source": [
        "# training performance comparison\n",
        "\n",
        "models_train_comp_df = pd.concat(\n",
        "    [dtree_model_train_perf.T,bagging_model_train_perf.T, bagging_wt_model_train_perf.T,rf_model_train_perf.T,\n",
        "    rf_wt_model_train_perf.T,dtree_estimator_model_train_perf.T, bagging_estimator_model_train_perf.T,\n",
        "     rf_estimator_model_train_perf.T],\n",
        "    axis=1,\n",
        ")\n",
        "models_train_comp_df.columns = [\n",
        "    \"Decision Tree\",\n",
        "    \"Bagging Classifier\",\n",
        "    \"Weighted Bagging Classifier\",\n",
        "    \"Random Forest Classifier\",\n",
        "    \"Weighted Random Forest Classifier\",\n",
        "    \"Decision Tree Estimator\",\n",
        "    \"Bagging Estimator\",\n",
        "    \"Random Forest Estimator\"]\n",
        "print(\"Training performance comparison:\")\n",
        "models_train_comp_df"
      ],
      "id": "56Mims9uDNx1"
    },
    {
      "cell_type": "code",
      "execution_count": null,
      "metadata": {
        "colab": {
          "base_uri": "https://localhost:8080/",
          "height": 254
        },
        "id": "NENbme-oDmK3",
        "outputId": "bd441c00-6258-4e49-8278-dabbd74a67e2"
      },
      "outputs": [
        {
          "output_type": "stream",
          "name": "stdout",
          "text": [
            "Testing performance comparison:\n"
          ]
        },
        {
          "output_type": "execute_result",
          "data": {
            "text/plain": [
              "           Decision Tree  Bagging Classifier  Weighted Bagging Classifier  \\\n",
              "Accuracy        0.650576            0.694793                     0.697148   \n",
              "Recall          0.746327            0.767679                     0.781587   \n",
              "Precision       0.734670            0.773589                     0.768786   \n",
              "F1              0.740453            0.770622                     0.775134   \n",
              "\n",
              "           Random Forest Classifier  Weighted Random Forest Classifier  \\\n",
              "Accuracy                   0.722266                           0.722789   \n",
              "Recall                     0.837806                           0.843095   \n",
              "Precision                  0.767588                           0.765564   \n",
              "F1                         0.801161                           0.802461   \n",
              "\n",
              "           Decision Tree Estimator  Bagging Estimator  Random Forest Estimator  \n",
              "Accuracy                  0.708006           0.726190                 0.743590  \n",
              "Recall                    0.793732           0.878746                 0.870519  \n",
              "Precision                 0.774613           0.752685                 0.773812  \n",
              "F1                        0.784056           0.810845                 0.819322  "
            ],
            "text/html": [
              "\n",
              "  <div id=\"df-e909faab-1e72-4d27-9aa2-ee60dc40346a\">\n",
              "    <div class=\"colab-df-container\">\n",
              "      <div>\n",
              "<style scoped>\n",
              "    .dataframe tbody tr th:only-of-type {\n",
              "        vertical-align: middle;\n",
              "    }\n",
              "\n",
              "    .dataframe tbody tr th {\n",
              "        vertical-align: top;\n",
              "    }\n",
              "\n",
              "    .dataframe thead th {\n",
              "        text-align: right;\n",
              "    }\n",
              "</style>\n",
              "<table border=\"1\" class=\"dataframe\">\n",
              "  <thead>\n",
              "    <tr style=\"text-align: right;\">\n",
              "      <th></th>\n",
              "      <th>Decision Tree</th>\n",
              "      <th>Bagging Classifier</th>\n",
              "      <th>Weighted Bagging Classifier</th>\n",
              "      <th>Random Forest Classifier</th>\n",
              "      <th>Weighted Random Forest Classifier</th>\n",
              "      <th>Decision Tree Estimator</th>\n",
              "      <th>Bagging Estimator</th>\n",
              "      <th>Random Forest Estimator</th>\n",
              "    </tr>\n",
              "  </thead>\n",
              "  <tbody>\n",
              "    <tr>\n",
              "      <th>Accuracy</th>\n",
              "      <td>0.650576</td>\n",
              "      <td>0.694793</td>\n",
              "      <td>0.697148</td>\n",
              "      <td>0.722266</td>\n",
              "      <td>0.722789</td>\n",
              "      <td>0.708006</td>\n",
              "      <td>0.726190</td>\n",
              "      <td>0.743590</td>\n",
              "    </tr>\n",
              "    <tr>\n",
              "      <th>Recall</th>\n",
              "      <td>0.746327</td>\n",
              "      <td>0.767679</td>\n",
              "      <td>0.781587</td>\n",
              "      <td>0.837806</td>\n",
              "      <td>0.843095</td>\n",
              "      <td>0.793732</td>\n",
              "      <td>0.878746</td>\n",
              "      <td>0.870519</td>\n",
              "    </tr>\n",
              "    <tr>\n",
              "      <th>Precision</th>\n",
              "      <td>0.734670</td>\n",
              "      <td>0.773589</td>\n",
              "      <td>0.768786</td>\n",
              "      <td>0.767588</td>\n",
              "      <td>0.765564</td>\n",
              "      <td>0.774613</td>\n",
              "      <td>0.752685</td>\n",
              "      <td>0.773812</td>\n",
              "    </tr>\n",
              "    <tr>\n",
              "      <th>F1</th>\n",
              "      <td>0.740453</td>\n",
              "      <td>0.770622</td>\n",
              "      <td>0.775134</td>\n",
              "      <td>0.801161</td>\n",
              "      <td>0.802461</td>\n",
              "      <td>0.784056</td>\n",
              "      <td>0.810845</td>\n",
              "      <td>0.819322</td>\n",
              "    </tr>\n",
              "  </tbody>\n",
              "</table>\n",
              "</div>\n",
              "      <button class=\"colab-df-convert\" onclick=\"convertToInteractive('df-e909faab-1e72-4d27-9aa2-ee60dc40346a')\"\n",
              "              title=\"Convert this dataframe to an interactive table.\"\n",
              "              style=\"display:none;\">\n",
              "        \n",
              "  <svg xmlns=\"http://www.w3.org/2000/svg\" height=\"24px\"viewBox=\"0 0 24 24\"\n",
              "       width=\"24px\">\n",
              "    <path d=\"M0 0h24v24H0V0z\" fill=\"none\"/>\n",
              "    <path d=\"M18.56 5.44l.94 2.06.94-2.06 2.06-.94-2.06-.94-.94-2.06-.94 2.06-2.06.94zm-11 1L8.5 8.5l.94-2.06 2.06-.94-2.06-.94L8.5 2.5l-.94 2.06-2.06.94zm10 10l.94 2.06.94-2.06 2.06-.94-2.06-.94-.94-2.06-.94 2.06-2.06.94z\"/><path d=\"M17.41 7.96l-1.37-1.37c-.4-.4-.92-.59-1.43-.59-.52 0-1.04.2-1.43.59L10.3 9.45l-7.72 7.72c-.78.78-.78 2.05 0 2.83L4 21.41c.39.39.9.59 1.41.59.51 0 1.02-.2 1.41-.59l7.78-7.78 2.81-2.81c.8-.78.8-2.07 0-2.86zM5.41 20L4 18.59l7.72-7.72 1.47 1.35L5.41 20z\"/>\n",
              "  </svg>\n",
              "      </button>\n",
              "      \n",
              "  <style>\n",
              "    .colab-df-container {\n",
              "      display:flex;\n",
              "      flex-wrap:wrap;\n",
              "      gap: 12px;\n",
              "    }\n",
              "\n",
              "    .colab-df-convert {\n",
              "      background-color: #E8F0FE;\n",
              "      border: none;\n",
              "      border-radius: 50%;\n",
              "      cursor: pointer;\n",
              "      display: none;\n",
              "      fill: #1967D2;\n",
              "      height: 32px;\n",
              "      padding: 0 0 0 0;\n",
              "      width: 32px;\n",
              "    }\n",
              "\n",
              "    .colab-df-convert:hover {\n",
              "      background-color: #E2EBFA;\n",
              "      box-shadow: 0px 1px 2px rgba(60, 64, 67, 0.3), 0px 1px 3px 1px rgba(60, 64, 67, 0.15);\n",
              "      fill: #174EA6;\n",
              "    }\n",
              "\n",
              "    [theme=dark] .colab-df-convert {\n",
              "      background-color: #3B4455;\n",
              "      fill: #D2E3FC;\n",
              "    }\n",
              "\n",
              "    [theme=dark] .colab-df-convert:hover {\n",
              "      background-color: #434B5C;\n",
              "      box-shadow: 0px 1px 3px 1px rgba(0, 0, 0, 0.15);\n",
              "      filter: drop-shadow(0px 1px 2px rgba(0, 0, 0, 0.3));\n",
              "      fill: #FFFFFF;\n",
              "    }\n",
              "  </style>\n",
              "\n",
              "      <script>\n",
              "        const buttonEl =\n",
              "          document.querySelector('#df-e909faab-1e72-4d27-9aa2-ee60dc40346a button.colab-df-convert');\n",
              "        buttonEl.style.display =\n",
              "          google.colab.kernel.accessAllowed ? 'block' : 'none';\n",
              "\n",
              "        async function convertToInteractive(key) {\n",
              "          const element = document.querySelector('#df-e909faab-1e72-4d27-9aa2-ee60dc40346a');\n",
              "          const dataTable =\n",
              "            await google.colab.kernel.invokeFunction('convertToInteractive',\n",
              "                                                     [key], {});\n",
              "          if (!dataTable) return;\n",
              "\n",
              "          const docLinkHtml = 'Like what you see? Visit the ' +\n",
              "            '<a target=\"_blank\" href=https://colab.research.google.com/notebooks/data_table.ipynb>data table notebook</a>'\n",
              "            + ' to learn more about interactive tables.';\n",
              "          element.innerHTML = '';\n",
              "          dataTable['output_type'] = 'display_data';\n",
              "          await google.colab.output.renderOutput(dataTable, element);\n",
              "          const docLink = document.createElement('div');\n",
              "          docLink.innerHTML = docLinkHtml;\n",
              "          element.appendChild(docLink);\n",
              "        }\n",
              "      </script>\n",
              "    </div>\n",
              "  </div>\n",
              "  "
            ]
          },
          "metadata": {},
          "execution_count": 87
        }
      ],
      "source": [
        "# training performance comparison\n",
        "\n",
        "models_test_comp_df = pd.concat(\n",
        "    [dtree_model_test_perf.T,bagging_model_test_perf.T, bagging_wt_model_test_perf.T,rf_model_test_perf.T,\n",
        "    rf_wt_model_test_perf.T,dtree_estimator_model_test_perf.T, bagging_estimator_model_test_perf.T,\n",
        "     rf_estimator_model_test_perf.T],\n",
        "    axis=1,\n",
        ")\n",
        "models_test_comp_df.columns = [\n",
        "    \"Decision Tree\",\n",
        "    \"Bagging Classifier\",\n",
        "    \"Weighted Bagging Classifier\",\n",
        "    \"Random Forest Classifier\",\n",
        "    \"Weighted Random Forest Classifier\",\n",
        "    \"Decision Tree Estimator\",\n",
        "    \"Bagging Estimator\",\n",
        "    \"Random Forest Estimator\"]\n",
        "print(\"Testing performance comparison:\")\n",
        "models_test_comp_df"
      ],
      "id": "NENbme-oDmK3"
    },
    {
      "cell_type": "markdown",
      "metadata": {
        "id": "JJf8uPjMEE2Q"
      },
      "source": [
        "* Except for the tuned iterations of Decision Tree and Random Forest, all models tend to overfit the training data. \n",
        "* Bagging classifier overfitted the data before and after tuning.\n",
        "* Our tuned Random Forest is our best model, with **0.8193** F1 Score.\n",
        "* Let's try some Boosting techniques."
      ],
      "id": "JJf8uPjMEE2Q"
    },
    {
      "cell_type": "markdown",
      "metadata": {
        "id": "xsDapWlt6WI6"
      },
      "source": [
        "# Boosting - Model Building and Hyperparameter Tuning"
      ],
      "id": "xsDapWlt6WI6"
    },
    {
      "cell_type": "markdown",
      "metadata": {
        "id": "hT-ETGty6b20"
      },
      "source": [
        "### AdaBoost Classifier\n",
        "\n"
      ],
      "id": "hT-ETGty6b20"
    },
    {
      "cell_type": "code",
      "execution_count": null,
      "metadata": {
        "colab": {
          "base_uri": "https://localhost:8080/"
        },
        "id": "banned-difficulty",
        "outputId": "7ed8293b-09a6-4d7c-e4b8-8f6e83373a84"
      },
      "outputs": [
        {
          "output_type": "execute_result",
          "data": {
            "text/plain": [
              "AdaBoostClassifier(random_state=1)"
            ]
          },
          "metadata": {},
          "execution_count": 91
        }
      ],
      "source": [
        "#Fitting the model\n",
        "ab_classifier = AdaBoostClassifier(random_state=1)\n",
        "ab_classifier.fit(X_train,y_train)"
      ],
      "id": "banned-difficulty"
    },
    {
      "cell_type": "code",
      "execution_count": null,
      "metadata": {
        "colab": {
          "base_uri": "https://localhost:8080/"
        },
        "id": "qAhYZsIwhvbx",
        "outputId": "3838e4e6-32d5-4828-fa41-dfd79d6ba06a"
      },
      "outputs": [
        {
          "output_type": "stream",
          "name": "stdout",
          "text": [
            "   Accuracy    Recall  Precision        F1\n",
            "0  0.738002  0.887686   0.760244  0.819037\n"
          ]
        }
      ],
      "source": [
        "#Calculating different metrics\n",
        "ab_classifier_model_train_perf=model_performance_classification_sklearn(ab_classifier,X_train,y_train)\n",
        "print(ab_classifier_model_train_perf)"
      ],
      "id": "qAhYZsIwhvbx"
    },
    {
      "cell_type": "code",
      "execution_count": null,
      "metadata": {
        "colab": {
          "base_uri": "https://localhost:8080/",
          "height": 279
        },
        "id": "DzxfA-WHh_hX",
        "outputId": "387df963-00c6-429b-97e9-ebc29ecd72fb"
      },
      "outputs": [
        {
          "output_type": "display_data",
          "data": {
            "text/plain": [
              "<Figure size 432x288 with 2 Axes>"
            ],
            "image/png": "[encoded data removed]"
          },
          "metadata": {
            "needs_background": "light"
          }
        }
      ],
      "source": [
        "#Creating confusion matrix\n",
        "confusion_matrix_sklearn(ab_classifier,X_train,y_train)"
      ],
      "id": "DzxfA-WHh_hX"
    },
    {
      "cell_type": "code",
      "execution_count": null,
      "metadata": {
        "colab": {
          "base_uri": "https://localhost:8080/"
        },
        "id": "fmpMO99-i1QL",
        "outputId": "0fd27862-c283-4625-bd64-665a85742357"
      },
      "outputs": [
        {
          "output_type": "stream",
          "name": "stdout",
          "text": [
            "   Accuracy    Recall  Precision        F1\n",
            "0  0.732339  0.884427   0.756155  0.815276\n"
          ]
        }
      ],
      "source": [
        "#Calculating different metrics\n",
        "ab_classifier_model_test_perf=model_performance_classification_sklearn(ab_classifier,X_test,y_test)\n",
        "print(ab_classifier_model_test_perf)"
      ],
      "id": "fmpMO99-i1QL"
    },
    {
      "cell_type": "code",
      "execution_count": null,
      "metadata": {
        "colab": {
          "base_uri": "https://localhost:8080/",
          "height": 283
        },
        "id": "uxejQuz0hy8J",
        "outputId": "5022a23d-e678-4fb0-eb54-cec1216441a6"
      },
      "outputs": [
        {
          "output_type": "display_data",
          "data": {
            "text/plain": [
              "<Figure size 432x288 with 2 Axes>"
            ],
            "image/png": "[encoded data removed]"
          },
          "metadata": {
            "needs_background": "light"
          }
        }
      ],
      "source": [
        "#Creating confusion matrix\n",
        "confusion_matrix_sklearn(ab_classifier,X_test,y_test)"
      ],
      "id": "uxejQuz0hy8J"
    },
    {
      "cell_type": "markdown",
      "source": [
        "* The training and test data metrics are pretty close, indicating our model is not overfitting the data. \n",
        "* The model performed very well for the F1 Score."
      ],
      "metadata": {
        "id": "YYuJ91UBSIow"
      },
      "id": "YYuJ91UBSIow"
    },
    {
      "cell_type": "markdown",
      "metadata": {
        "id": "QJX4yKJ36we_"
      },
      "source": [
        "### Tuning AdaBoost Classifier"
      ],
      "id": "QJX4yKJ36we_"
    },
    {
      "cell_type": "code",
      "execution_count": null,
      "metadata": {
        "colab": {
          "base_uri": "https://localhost:8080/"
        },
        "id": "Dok_QhPR6qOc",
        "outputId": "ecb79c23-e665-4c20-f9a0-8e3a8f4fbd61"
      },
      "outputs": [
        {
          "output_type": "execute_result",
          "data": {
            "text/plain": [
              "AdaBoostClassifier(base_estimator=DecisionTreeClassifier(max_depth=3),\n",
              "                   learning_rate=0.30000000000000004, n_estimators=20,\n",
              "                   random_state=1)"
            ]
          },
          "metadata": {},
          "execution_count": 96
        }
      ],
      "source": [
        "# Choose the type of classifier. \n",
        "abc_tuned = AdaBoostClassifier(random_state=1)\n",
        "\n",
        "# Grid of parameters to choose from\n",
        "parameters = {\n",
        "    #Let's try different max_depth for base_estimator\n",
        "    \"base_estimator\":[DecisionTreeClassifier(max_depth=1),DecisionTreeClassifier(max_depth=2),\n",
        "                      DecisionTreeClassifier(max_depth=3)],\n",
        "    \"n_estimators\": np.arange(10,110,10),\n",
        "    \"learning_rate\":np.arange(0.1,2,0.1)\n",
        "}\n",
        "\n",
        "# Type of scoring used to compare parameter  combinations\n",
        "scorer = metrics.make_scorer(metrics.f1_score)\n",
        "\n",
        "# Run the grid search\n",
        "grid_obj = GridSearchCV(abc_tuned, parameters, scoring=scorer,cv=5)\n",
        "grid_obj = grid_obj.fit(X_train, y_train)\n",
        "\n",
        "# Set the clf to the best combination of parameters\n",
        "abc_tuned = grid_obj.best_estimator_\n",
        "\n",
        "# Fit the best algorithm to the data.\n",
        "abc_tuned.fit(X_train, y_train)"
      ],
      "id": "Dok_QhPR6qOc"
    },
    {
      "cell_type": "code",
      "execution_count": null,
      "metadata": {
        "colab": {
          "base_uri": "https://localhost:8080/"
        },
        "id": "HXjSFz3i69N5",
        "outputId": "d7641b2d-da89-4328-cccd-149eac441726"
      },
      "outputs": [
        {
          "output_type": "stream",
          "name": "stdout",
          "text": [
            "   Accuracy    Recall  Precision        F1\n",
            "0  0.754205  0.884328   0.778008  0.827768\n"
          ]
        }
      ],
      "source": [
        "#Calculating different metrics\n",
        "abc_tuned_model_train_perf=model_performance_classification_sklearn(abc_tuned,X_train,y_train)\n",
        "print(abc_tuned_model_train_perf)"
      ],
      "id": "HXjSFz3i69N5"
    },
    {
      "cell_type": "code",
      "execution_count": null,
      "metadata": {
        "colab": {
          "base_uri": "https://localhost:8080/",
          "height": 279
        },
        "id": "N9mkDQQgnHRa",
        "outputId": "52a54da9-8aa5-46dc-caf1-e8a249c77fd3"
      },
      "outputs": [
        {
          "output_type": "display_data",
          "data": {
            "text/plain": [
              "<Figure size 432x288 with 2 Axes>"
            ],
            "image/png": "[encoded data removed]"
          },
          "metadata": {
            "needs_background": "light"
          }
        }
      ],
      "source": [
        "#Creating confusion matrix\n",
        "confusion_matrix_sklearn(abc_tuned,X_train,y_train)"
      ],
      "id": "N9mkDQQgnHRa"
    },
    {
      "cell_type": "code",
      "execution_count": null,
      "metadata": {
        "colab": {
          "base_uri": "https://localhost:8080/"
        },
        "id": "V4NeRTYAnCYc",
        "outputId": "3d1c41de-c5c4-4b38-e0f2-06dbe15cb4cc"
      },
      "outputs": [
        {
          "output_type": "stream",
          "name": "stdout",
          "text": [
            "   Accuracy   Recall  Precision        F1\n",
            "0  0.743066  0.87855   0.769429  0.820377\n"
          ]
        }
      ],
      "source": [
        "#Calculating different metrics\n",
        "abc_tuned_model_test_perf=model_performance_classification_sklearn(abc_tuned,X_test,y_test)\n",
        "print(abc_tuned_model_test_perf)"
      ],
      "id": "V4NeRTYAnCYc"
    },
    {
      "cell_type": "code",
      "execution_count": null,
      "metadata": {
        "colab": {
          "base_uri": "https://localhost:8080/",
          "height": 279
        },
        "id": "2PeXYeKtnEdV",
        "outputId": "6eb47a22-931c-4b23-eca4-956c9cdac643"
      },
      "outputs": [
        {
          "output_type": "display_data",
          "data": {
            "text/plain": [
              "<Figure size 432x288 with 2 Axes>"
            ],
            "image/png": "[encoded data removed]"
          },
          "metadata": {
            "needs_background": "light"
          }
        }
      ],
      "source": [
        "#Creating confusion matrix\n",
        "confusion_matrix_sklearn(abc_tuned,X_test,y_test)"
      ],
      "id": "2PeXYeKtnEdV"
    },
    {
      "cell_type": "markdown",
      "source": [
        "* Tuning resulted in a noticeable improvement in our model performance. \n",
        "* No overfitting detected. "
      ],
      "metadata": {
        "id": "oCg_SM9oTDSF"
      },
      "id": "oCg_SM9oTDSF"
    },
    {
      "cell_type": "markdown",
      "metadata": {
        "id": "3Mmk7KWa694H"
      },
      "source": [
        "### Gradient Boosting Classifier"
      ],
      "id": "3Mmk7KWa694H"
    },
    {
      "cell_type": "code",
      "execution_count": null,
      "metadata": {
        "colab": {
          "base_uri": "https://localhost:8080/"
        },
        "id": "cIsGeYCH7BwM",
        "outputId": "f7c6d471-32b3-4ceb-868f-d31fc9c91434"
      },
      "outputs": [
        {
          "output_type": "execute_result",
          "data": {
            "text/plain": [
              "GradientBoostingClassifier(random_state=1)"
            ]
          },
          "metadata": {},
          "execution_count": 101
        }
      ],
      "source": [
        "#Fitting the model\n",
        "gb_classifier = GradientBoostingClassifier(random_state=1)\n",
        "gb_classifier.fit(X_train,y_train)"
      ],
      "id": "cIsGeYCH7BwM"
    },
    {
      "cell_type": "code",
      "execution_count": null,
      "metadata": {
        "colab": {
          "base_uri": "https://localhost:8080/"
        },
        "id": "n0AK93gnncF2",
        "outputId": "a9ce40ac-cfa8-4d9a-a595-cbc79ffed1ea"
      },
      "outputs": [
        {
          "output_type": "stream",
          "name": "stdout",
          "text": [
            "Training performance:\n",
            "    Accuracy    Recall  Precision        F1\n",
            "0  0.757793  0.882649   0.782541  0.829586\n"
          ]
        }
      ],
      "source": [
        "#Calculating different metrics\n",
        "gb_classifier_model_train_perf=model_performance_classification_sklearn(gb_classifier,X_train,y_train)\n",
        "print(\"Training performance:\\n\",gb_classifier_model_train_perf)"
      ],
      "id": "n0AK93gnncF2"
    },
    {
      "cell_type": "code",
      "execution_count": null,
      "metadata": {
        "colab": {
          "base_uri": "https://localhost:8080/",
          "height": 279
        },
        "id": "58u_J_QNnkw4",
        "outputId": "c960f083-0943-4927-9d94-09559384ac6c"
      },
      "outputs": [
        {
          "output_type": "display_data",
          "data": {
            "text/plain": [
              "<Figure size 432x288 with 2 Axes>"
            ],
            "image/png": "[encoded data removed]"
          },
          "metadata": {
            "needs_background": "light"
          }
        }
      ],
      "source": [
        "#Creating confusion matrix\n",
        "confusion_matrix_sklearn(gb_classifier,X_train,y_train)"
      ],
      "id": "58u_J_QNnkw4"
    },
    {
      "cell_type": "code",
      "execution_count": null,
      "metadata": {
        "colab": {
          "base_uri": "https://localhost:8080/"
        },
        "id": "t5balbTXnfG8",
        "outputId": "c6a6695e-bad7-411e-acb1-fbc7e72654d0"
      },
      "outputs": [
        {
          "output_type": "stream",
          "name": "stdout",
          "text": [
            "Testing performance:\n",
            "    Accuracy    Recall  Precision        F1\n",
            "0  0.745814  0.877767   0.772586  0.821825\n"
          ]
        }
      ],
      "source": [
        "#Calculating different metrics\n",
        "gb_classifier_model_test_perf=model_performance_classification_sklearn(gb_classifier,X_test,y_test)\n",
        "print(\"Testing performance:\\n\",gb_classifier_model_test_perf)"
      ],
      "id": "t5balbTXnfG8"
    },
    {
      "cell_type": "code",
      "execution_count": null,
      "metadata": {
        "colab": {
          "base_uri": "https://localhost:8080/",
          "height": 279
        },
        "id": "WUHNzZKGnhyI",
        "outputId": "4e9c5101-83e4-4e7d-a407-79f50bf93836"
      },
      "outputs": [
        {
          "output_type": "display_data",
          "data": {
            "text/plain": [
              "<Figure size 432x288 with 2 Axes>"
            ],
            "image/png": "[encoded data removed]"
          },
          "metadata": {
            "needs_background": "light"
          }
        }
      ],
      "source": [
        "#Creating confusion matrix\n",
        "confusion_matrix_sklearn(gb_classifier,X_test,y_test)"
      ],
      "id": "WUHNzZKGnhyI"
    },
    {
      "cell_type": "markdown",
      "source": [
        "* Gradient Boosting gave us a robust model. \n",
        "* No overfitting and our best F1 Score yet. "
      ],
      "metadata": {
        "id": "zoLqQbmJTh09"
      },
      "id": "zoLqQbmJTh09"
    },
    {
      "cell_type": "markdown",
      "metadata": {
        "id": "kJw2Derv7K4y"
      },
      "source": [
        "### Tuning Gradient Boosting Classifier\n",
        "\n"
      ],
      "id": "kJw2Derv7K4y"
    },
    {
      "cell_type": "code",
      "execution_count": null,
      "metadata": {
        "colab": {
          "base_uri": "https://localhost:8080/"
        },
        "id": "43Ndp8aC7MEj",
        "outputId": "410ce9b6-5cfa-4ba2-e724-ddcc2c38b040"
      },
      "outputs": [
        {
          "output_type": "execute_result",
          "data": {
            "text/plain": [
              "GradientBoostingClassifier(init=AdaBoostClassifier(random_state=1),\n",
              "                           max_features=0.8, n_estimators=50, random_state=1,\n",
              "                           subsample=0.9)"
            ]
          },
          "metadata": {},
          "execution_count": 106
        }
      ],
      "source": [
        "# Choose the type of classifier. \n",
        "gbc_tuned = GradientBoostingClassifier(init=AdaBoostClassifier(random_state=1),random_state=1)\n",
        "\n",
        "# Grid of parameters to choose from\n",
        "parameters = {\n",
        "    \"n_estimators\": [50, 100, 200],\n",
        "    \"subsample\":[0.8,0.9,1],\n",
        "    \"max_features\":[0.7,0.8,0.9,1]\n",
        "}\n",
        "\n",
        "# Type of scoring used to compare parameter combinations\n",
        "scorer = metrics.make_scorer(metrics.f1_score)\n",
        "\n",
        "# Run the grid search\n",
        "grid_obj = GridSearchCV(gbc_tuned, parameters, scoring=scorer,cv=5)\n",
        "grid_obj = grid_obj.fit(X_train, y_train)\n",
        "\n",
        "# Set the clf to the best combination of parameters\n",
        "gbc_tuned = grid_obj.best_estimator_\n",
        "\n",
        "# Fit the best algorithm to the data.\n",
        "gbc_tuned.fit(X_train, y_train)"
      ],
      "id": "43Ndp8aC7MEj"
    },
    {
      "cell_type": "code",
      "execution_count": null,
      "metadata": {
        "colab": {
          "base_uri": "https://localhost:8080/"
        },
        "id": "H8GoVDKw7Sxy",
        "outputId": "de3e49cf-c824-46fc-c238-00f205857ea8"
      },
      "outputs": [
        {
          "output_type": "stream",
          "name": "stdout",
          "text": [
            "Training performance:\n",
            "    Accuracy    Recall  Precision       F1\n",
            "0    0.7537  0.880719   0.779263  0.82689\n"
          ]
        }
      ],
      "source": [
        "#Calculating different metrics\n",
        "gbc_tuned_model_train_perf=model_performance_classification_sklearn(gbc_tuned,X_train,y_train)\n",
        "print(\"Training performance:\\n\",gbc_tuned_model_train_perf)"
      ],
      "id": "H8GoVDKw7Sxy"
    },
    {
      "cell_type": "code",
      "execution_count": null,
      "metadata": {
        "colab": {
          "base_uri": "https://localhost:8080/",
          "height": 279
        },
        "id": "jVoxejnMoGWl",
        "outputId": "39870f18-f676-48e1-b0ae-ca31190996b8"
      },
      "outputs": [
        {
          "output_type": "display_data",
          "data": {
            "text/plain": [
              "<Figure size 432x288 with 2 Axes>"
            ],
            "image/png": "[encoded data removed]"
          },
          "metadata": {
            "needs_background": "light"
          }
        }
      ],
      "source": [
        "#Creating confusion matrix\n",
        "confusion_matrix_sklearn(gbc_tuned,X_train,y_train)"
      ],
      "id": "jVoxejnMoGWl"
    },
    {
      "cell_type": "code",
      "execution_count": null,
      "metadata": {
        "colab": {
          "base_uri": "https://localhost:8080/"
        },
        "id": "35gMI5eqoB0h",
        "outputId": "6f7d410c-a55e-41d4-b314-b66887c49e65"
      },
      "outputs": [
        {
          "output_type": "stream",
          "name": "stdout",
          "text": [
            "Testing performance:\n",
            "    Accuracy    Recall  Precision       F1\n",
            "0  0.744898  0.875808   0.772594  0.82097\n"
          ]
        }
      ],
      "source": [
        "#Calculating different metrics\n",
        "gbc_tuned_model_test_perf=model_performance_classification_sklearn(gbc_tuned,X_test,y_test)\n",
        "print(\"Testing performance:\\n\",gbc_tuned_model_test_perf)"
      ],
      "id": "35gMI5eqoB0h"
    },
    {
      "cell_type": "code",
      "execution_count": null,
      "metadata": {
        "colab": {
          "base_uri": "https://localhost:8080/",
          "height": 279
        },
        "id": "xkSB1ACsoDog",
        "outputId": "25465c77-c31a-4794-9a3b-43d9477c7594"
      },
      "outputs": [
        {
          "output_type": "display_data",
          "data": {
            "text/plain": [
              "<Figure size 432x288 with 2 Axes>"
            ],
            "image/png": "[encoded data removed]"
          },
          "metadata": {
            "needs_background": "light"
          }
        }
      ],
      "source": [
        "#Creating confusion matrix\n",
        "confusion_matrix_sklearn(gbc_tuned,X_test,y_test)"
      ],
      "id": "xkSB1ACsoDog"
    },
    {
      "cell_type": "markdown",
      "source": [
        "* This is still an excellent model, but we could not identify any improvement in metrics after tuning it. "
      ],
      "metadata": {
        "id": "0HHawwKQUZxp"
      },
      "id": "0HHawwKQUZxp"
    },
    {
      "cell_type": "markdown",
      "metadata": {
        "id": "nzSfRSop7Pet"
      },
      "source": [
        "### XGBoost Classifier"
      ],
      "id": "nzSfRSop7Pet"
    },
    {
      "cell_type": "code",
      "execution_count": null,
      "metadata": {
        "colab": {
          "base_uri": "https://localhost:8080/"
        },
        "id": "4eP91GQo7ZWI",
        "outputId": "111f0d89-66f8-4d62-a99b-44f74119b9ed"
      },
      "outputs": [
        {
          "output_type": "execute_result",
          "data": {
            "text/plain": [
              "XGBClassifier(eval_metric='logloss', random_state=1)"
            ]
          },
          "metadata": {},
          "execution_count": 44
        }
      ],
      "source": [
        "#Fitting the model\n",
        "xgb_classifier = XGBClassifier(random_state=1, eval_metric='logloss')\n",
        "xgb_classifier.fit(X_train,y_train)"
      ],
      "id": "4eP91GQo7ZWI"
    },
    {
      "cell_type": "code",
      "execution_count": null,
      "metadata": {
        "colab": {
          "base_uri": "https://localhost:8080/"
        },
        "id": "6I-V7mYeoXD0",
        "outputId": "76347ba1-dbc7-4591-9e84-6be63521727e"
      },
      "outputs": [
        {
          "output_type": "stream",
          "name": "stdout",
          "text": [
            "Training performance:\n",
            "    Accuracy    Recall  Precision        F1\n",
            "0  0.756055  0.881558   0.781283  0.828397\n"
          ]
        }
      ],
      "source": [
        "#Calculating different metrics\n",
        "xgb_classifier_model_train_perf=model_performance_classification_sklearn(xgb_classifier,X_train,y_train)\n",
        "print(\"Training performance:\\n\",xgb_classifier_model_train_perf)"
      ],
      "id": "6I-V7mYeoXD0"
    },
    {
      "cell_type": "code",
      "execution_count": null,
      "metadata": {
        "colab": {
          "base_uri": "https://localhost:8080/",
          "height": 279
        },
        "id": "iMnVgyqwoeCu",
        "outputId": "fa57ed63-11c4-49f0-95fa-ede15e1a6731"
      },
      "outputs": [
        {
          "output_type": "display_data",
          "data": {
            "text/plain": [
              "<Figure size 432x288 with 2 Axes>"
            ],
            "image/png": "[encoded data removed]"
          },
          "metadata": {
            "needs_background": "light"
          }
        }
      ],
      "source": [
        "#Creating confusion matrix\n",
        "confusion_matrix_sklearn(xgb_classifier,X_train,y_train)"
      ],
      "id": "iMnVgyqwoeCu"
    },
    {
      "cell_type": "code",
      "execution_count": null,
      "metadata": {
        "colab": {
          "base_uri": "https://localhost:8080/"
        },
        "id": "YBWsrD1coZ3G",
        "outputId": "9ffdb9ad-58ee-4b94-ad23-6fd9dc1fe0bc"
      },
      "outputs": [
        {
          "output_type": "stream",
          "name": "stdout",
          "text": [
            "Testing performance:\n",
            "    Accuracy    Recall  Precision        F1\n",
            "0  0.746599  0.877571   0.773481  0.822245\n"
          ]
        }
      ],
      "source": [
        "#Calculating different metrics\n",
        "xgb_classifier_model_test_perf=model_performance_classification_sklearn(xgb_classifier,X_test,y_test)\n",
        "print(\"Testing performance:\\n\",xgb_classifier_model_test_perf)"
      ],
      "id": "YBWsrD1coZ3G"
    },
    {
      "cell_type": "code",
      "execution_count": null,
      "metadata": {
        "colab": {
          "base_uri": "https://localhost:8080/",
          "height": 279
        },
        "id": "5BAr1ZZRobtp",
        "outputId": "c297d377-fb58-4cbf-9d69-d81b8e4b894c"
      },
      "outputs": [
        {
          "output_type": "display_data",
          "data": {
            "text/plain": [
              "<Figure size 432x288 with 2 Axes>"
            ],
            "image/png": "[encoded data removed]"
          },
          "metadata": {
            "needs_background": "light"
          }
        }
      ],
      "source": [
        "#Creating confusion matrix\n",
        "confusion_matrix_sklearn(xgb_classifier,X_test,y_test)"
      ],
      "id": "5BAr1ZZRobtp"
    },
    {
      "cell_type": "markdown",
      "source": [
        "* XGBoost improved our metrics. Let's see what hyperparameter tuning can do."
      ],
      "metadata": {
        "id": "x6xjPk0MVFYc"
      },
      "id": "x6xjPk0MVFYc"
    },
    {
      "cell_type": "markdown",
      "metadata": {
        "id": "yifV0hTG7hJO"
      },
      "source": [
        "### Tuning XGBoost Classifier"
      ],
      "id": "yifV0hTG7hJO"
    },
    {
      "cell_type": "code",
      "execution_count": null,
      "metadata": {
        "colab": {
          "base_uri": "https://localhost:8080/"
        },
        "id": "8rYJfgOp7mBp",
        "outputId": "4d22e70a-2459-48ae-b752-9ea29b09aa82"
      },
      "outputs": [
        {
          "output_type": "execute_result",
          "data": {
            "text/plain": [
              "XGBClassifier(colsample_bytree=0.7, eval_metric='logloss', n_estimators=50,\n",
              "              random_state=1, subsample=0.7)"
            ]
          },
          "metadata": {},
          "execution_count": 116
        }
      ],
      "source": [
        "# Choose the type of classifier. \n",
        "xgb_tuned = XGBClassifier(random_state=1, eval_metric='logloss')\n",
        "\n",
        "# Grid of parameters to choose from\n",
        "parameters = {\n",
        "    \"n_estimators\": [10,30,50],\n",
        "    \"scale_pos_weight\":[1,2,5],\n",
        "    \"subsample\":[0.7,0.9,1],\n",
        "    \"learning_rate\":[0.05, 0.1,0.2],\n",
        "    \"colsample_bytree\":[0.7,0.9,1],\n",
        "    \"colsample_bylevel\":[0.5,0.7,1]\n",
        "}\n",
        "\n",
        "# Type of scoring used to compare parameter combinations\n",
        "scorer = metrics.make_scorer(metrics.f1_score)\n",
        "\n",
        "# Run the grid search\n",
        "grid_obj = GridSearchCV(xgb_tuned, parameters,scoring=scorer,cv=5)\n",
        "grid_obj = grid_obj.fit(X_train, y_train)\n",
        "\n",
        "# Set the clf to the best combination of parameters\n",
        "xgb_tuned = grid_obj.best_estimator_\n",
        "\n",
        "# Fit the best algorithm to the data.\n",
        "xgb_tuned.fit(X_train, y_train)"
      ],
      "id": "8rYJfgOp7mBp"
    },
    {
      "cell_type": "code",
      "execution_count": null,
      "metadata": {
        "colab": {
          "base_uri": "https://localhost:8080/"
        },
        "id": "i2xBm-pX7qVo",
        "outputId": "a81551b7-9043-4c30-f37b-9aac19bffb7a"
      },
      "outputs": [
        {
          "output_type": "stream",
          "name": "stdout",
          "text": [
            "Training performance:\n",
            "    Accuracy   Recall  Precision        F1\n",
            "0  0.752859  0.88693   0.775372  0.827408\n"
          ]
        }
      ],
      "source": [
        "#Calculating different metrics\n",
        "xgb_tuned_model_train_perf=model_performance_classification_sklearn(xgb_tuned,X_train,y_train)\n",
        "print(\"Training performance:\\n\",xgb_tuned_model_train_perf)"
      ],
      "id": "i2xBm-pX7qVo"
    },
    {
      "cell_type": "code",
      "execution_count": null,
      "metadata": {
        "colab": {
          "base_uri": "https://localhost:8080/",
          "height": 279
        },
        "id": "Ry3zyievMTw4",
        "outputId": "95833b61-5d1e-4c1a-c04d-b8db8b717941"
      },
      "outputs": [
        {
          "output_type": "display_data",
          "data": {
            "text/plain": [
              "<Figure size 432x288 with 2 Axes>"
            ],
            "image/png": "[encoded data removed]"
          },
          "metadata": {
            "needs_background": "light"
          }
        }
      ],
      "source": [
        "#Creating confusion matrix\n",
        "confusion_matrix_sklearn(xgb_tuned,X_test,y_test)"
      ],
      "id": "Ry3zyievMTw4"
    },
    {
      "cell_type": "code",
      "execution_count": null,
      "metadata": {
        "colab": {
          "base_uri": "https://localhost:8080/"
        },
        "id": "62nAVLIqMOuB",
        "outputId": "73514838-7682-4a9e-c182-c9f6e3c87e95"
      },
      "outputs": [
        {
          "output_type": "stream",
          "name": "stdout",
          "text": [
            "Testing performance:\n",
            "    Accuracy    Recall  Precision        F1\n",
            "0  0.741758  0.880313   0.767287  0.819923\n"
          ]
        }
      ],
      "source": [
        "#Calculating different metrics\n",
        "xgb_tuned_model_test_perf=model_performance_classification_sklearn(xgb_tuned,X_test,y_test)\n",
        "print(\"Testing performance:\\n\",xgb_tuned_model_test_perf)"
      ],
      "id": "62nAVLIqMOuB"
    },
    {
      "cell_type": "code",
      "execution_count": null,
      "metadata": {
        "colab": {
          "base_uri": "https://localhost:8080/",
          "height": 279
        },
        "id": "y8L6zkcUMQwG",
        "outputId": "97f7def3-3bd9-497b-acf6-4f73e227b414"
      },
      "outputs": [
        {
          "output_type": "display_data",
          "data": {
            "text/plain": [
              "<Figure size 432x288 with 2 Axes>"
            ],
            "image/png": "[encoded data removed]"
          },
          "metadata": {
            "needs_background": "light"
          }
        }
      ],
      "source": [
        "#Creating confusion matrix\n",
        "confusion_matrix_sklearn(xgb_tuned,X_test,y_test)"
      ],
      "id": "y8L6zkcUMQwG"
    },
    {
      "cell_type": "markdown",
      "metadata": {
        "id": "icpNDG2C7y0e"
      },
      "source": [
        "# Stacking Model"
      ],
      "id": "icpNDG2C7y0e"
    },
    {
      "cell_type": "code",
      "execution_count": null,
      "metadata": {
        "colab": {
          "base_uri": "https://localhost:8080/"
        },
        "id": "JppzEV_O721K",
        "outputId": "02b6ded9-c68f-4d94-87a0-2892d698f2b9"
      },
      "outputs": [
        {
          "output_type": "execute_result",
          "data": {
            "text/plain": [
              "StackingClassifier(estimators=[('Random Forest',\n",
              "                                RandomForestClassifier(max_features='log2',\n",
              "                                                       max_samples=0.7,\n",
              "                                                       min_samples_leaf=5,\n",
              "                                                       n_estimators=1000,\n",
              "                                                       random_state=1)),\n",
              "                               ('Gradient Boosting',\n",
              "                                GradientBoostingClassifier(init=AdaBoostClassifier(random_state=1),\n",
              "                                                           max_features=0.8,\n",
              "                                                           n_estimators=50,\n",
              "                                                           random_state=1,\n",
              "                                                           subsample=0.9)),\n",
              "                               ('Decision Tree',\n",
              "                                DecisionTreeClassifier(class_weight={0: 0.67,\n",
              "                                                                     1: 0.33},\n",
              "                                                       max_depth=4,\n",
              "                                                       max_leaf_nodes=6,\n",
              "                                                       min_impurity_decrease=0.001,\n",
              "                                                       random_state=1))],\n",
              "                   final_estimator=XGBClassifier(colsample_bytree=0.7,\n",
              "                                                 eval_metric='logloss',\n",
              "                                                 n_estimators=50,\n",
              "                                                 random_state=1,\n",
              "                                                 subsample=0.7))"
            ]
          },
          "metadata": {},
          "execution_count": 121
        }
      ],
      "source": [
        "#Defining variables to feed the Stacking Model\n",
        "estimators = [('Random Forest',rf_estimator), ('Gradient Boosting',gbc_tuned), ('Decision Tree',dtree_estimator)]\n",
        "final_estimator = xgb_tuned\n",
        "\n",
        "#Fitting the model\n",
        "stacking_classifier= StackingClassifier(estimators=estimators,final_estimator=final_estimator)\n",
        "stacking_classifier.fit(X_train,y_train)"
      ],
      "id": "JppzEV_O721K"
    },
    {
      "cell_type": "code",
      "execution_count": null,
      "metadata": {
        "id": "_Fnaz_J977jc",
        "colab": {
          "base_uri": "https://localhost:8080/",
          "height": 386
        },
        "outputId": "396d009c-a453-41b3-83f5-00e0f7bdb635"
      },
      "outputs": [
        {
          "output_type": "stream",
          "name": "stdout",
          "text": [
            "Training performance:\n",
            "    Accuracy    Recall  Precision        F1\n",
            "0  0.774557  0.886511   0.798262  0.840075\n",
            "Testing performance:\n",
            "    Accuracy    Recall  Precision        F1\n",
            "0  0.746468  0.869344   0.777369  0.820788\n"
          ]
        },
        {
          "output_type": "display_data",
          "data": {
            "text/plain": [
              "<Figure size 432x288 with 2 Axes>"
            ],
            "image/png": "[encoded data removed]"
          },
          "metadata": {
            "needs_background": "light"
          }
        }
      ],
      "source": [
        "#Calculating different metrics\n",
        "stacking_classifier_model_train_perf=model_performance_classification_sklearn(stacking_classifier,X_train,y_train)\n",
        "print(\"Training performance:\\n\",stacking_classifier_model_train_perf)\n",
        "stacking_classifier_model_test_perf=model_performance_classification_sklearn(stacking_classifier,X_test,y_test)\n",
        "print(\"Testing performance:\\n\",stacking_classifier_model_test_perf)\n",
        "\n",
        "#Creating confusion matrix\n",
        "confusion_matrix_sklearn(stacking_classifier,X_test,y_test)"
      ],
      "id": "_Fnaz_J977jc"
    },
    {
      "cell_type": "markdown",
      "source": [
        "* Stacking performs very well, but the model does not show an apparent improvement compared with previous models.\n",
        "* Let's compare all our models. "
      ],
      "metadata": {
        "id": "EOewGGLWV4Bk"
      },
      "id": "EOewGGLWV4Bk"
    },
    {
      "cell_type": "markdown",
      "metadata": {
        "id": "VhmTasAd8Eb3"
      },
      "source": [
        "# Comparing models"
      ],
      "id": "VhmTasAd8Eb3"
    },
    {
      "cell_type": "code",
      "execution_count": null,
      "metadata": {
        "id": "N9_z5hnQ8DWx",
        "colab": {
          "base_uri": "https://localhost:8080/",
          "height": 289
        },
        "outputId": "397b10d6-9a66-4cbe-99aa-4b6493cfe5d0"
      },
      "outputs": [
        {
          "output_type": "stream",
          "name": "stdout",
          "text": [
            "Training performance comparison:\n"
          ]
        },
        {
          "output_type": "execute_result",
          "data": {
            "text/plain": [
              "           Decision Tree  Bagging Classifier  Weighted Bagging Classifier  \\\n",
              "Accuracy             1.0            0.983685                     0.985198   \n",
              "Recall               1.0            0.985142                     0.986821   \n",
              "Precision            1.0            0.990380                     0.990980   \n",
              "F1                   1.0            0.987754                     0.988896   \n",
              "\n",
              "           Random Forest Classifier  Weighted Random Forest Classifier  \\\n",
              "Accuracy                        1.0                                1.0   \n",
              "Recall                          1.0                                1.0   \n",
              "Precision                       1.0                                1.0   \n",
              "F1                              1.0                                1.0   \n",
              "\n",
              "           Decision Tree Estimator  Bagging Estimator  \\\n",
              "Accuracy                  0.712548                1.0   \n",
              "Recall                    0.792999                1.0   \n",
              "Precision                 0.780228                1.0   \n",
              "F1                        0.786562                1.0   \n",
              "\n",
              "           Random Forest Estimator  Adaboost Classifier  \\\n",
              "Accuracy                  0.794741             0.738002   \n",
              "Recall                    0.905649             0.887686   \n",
              "Precision                 0.809620             0.760244   \n",
              "F1                        0.854947             0.819037   \n",
              "\n",
              "           Adabosst Classifier Tuned  Gradient Boost Classifier  \\\n",
              "Accuracy                    0.754205                   0.757793   \n",
              "Recall                      0.884328                   0.882649   \n",
              "Precision                   0.778008                   0.782541   \n",
              "F1                          0.827768                   0.829586   \n",
              "\n",
              "           Gradient Boost Classifier Tuned  XGBoost Classifier  \\\n",
              "Accuracy                          0.753700            0.756055   \n",
              "Recall                            0.880719            0.881558   \n",
              "Precision                         0.779263            0.781283   \n",
              "F1                                0.826890            0.828397   \n",
              "\n",
              "           XGBoost Classifier Tuned  Stacking Classifier  \n",
              "Accuracy                   0.752859             0.774557  \n",
              "Recall                     0.886930             0.886511  \n",
              "Precision                  0.775372             0.798262  \n",
              "F1                         0.827408             0.840075  "
            ],
            "text/html": [
              "\n",
              "  <div id=\"df-4c5e3aeb-af7f-4656-90ea-4d39bd713381\">\n",
              "    <div class=\"colab-df-container\">\n",
              "      <div>\n",
              "<style scoped>\n",
              "    .dataframe tbody tr th:only-of-type {\n",
              "        vertical-align: middle;\n",
              "    }\n",
              "\n",
              "    .dataframe tbody tr th {\n",
              "        vertical-align: top;\n",
              "    }\n",
              "\n",
              "    .dataframe thead th {\n",
              "        text-align: right;\n",
              "    }\n",
              "</style>\n",
              "<table border=\"1\" class=\"dataframe\">\n",
              "  <thead>\n",
              "    <tr style=\"text-align: right;\">\n",
              "      <th></th>\n",
              "      <th>Decision Tree</th>\n",
              "      <th>Bagging Classifier</th>\n",
              "      <th>Weighted Bagging Classifier</th>\n",
              "      <th>Random Forest Classifier</th>\n",
              "      <th>Weighted Random Forest Classifier</th>\n",
              "      <th>Decision Tree Estimator</th>\n",
              "      <th>Bagging Estimator</th>\n",
              "      <th>Random Forest Estimator</th>\n",
              "      <th>Adaboost Classifier</th>\n",
              "      <th>Adabosst Classifier Tuned</th>\n",
              "      <th>Gradient Boost Classifier</th>\n",
              "      <th>Gradient Boost Classifier Tuned</th>\n",
              "      <th>XGBoost Classifier</th>\n",
              "      <th>XGBoost Classifier Tuned</th>\n",
              "      <th>Stacking Classifier</th>\n",
              "    </tr>\n",
              "  </thead>\n",
              "  <tbody>\n",
              "    <tr>\n",
              "      <th>Accuracy</th>\n",
              "      <td>1.0</td>\n",
              "      <td>0.983685</td>\n",
              "      <td>0.985198</td>\n",
              "      <td>1.0</td>\n",
              "      <td>1.0</td>\n",
              "      <td>0.712548</td>\n",
              "      <td>1.0</td>\n",
              "      <td>0.794741</td>\n",
              "      <td>0.738002</td>\n",
              "      <td>0.754205</td>\n",
              "      <td>0.757793</td>\n",
              "      <td>0.753700</td>\n",
              "      <td>0.756055</td>\n",
              "      <td>0.752859</td>\n",
              "      <td>0.774557</td>\n",
              "    </tr>\n",
              "    <tr>\n",
              "      <th>Recall</th>\n",
              "      <td>1.0</td>\n",
              "      <td>0.985142</td>\n",
              "      <td>0.986821</td>\n",
              "      <td>1.0</td>\n",
              "      <td>1.0</td>\n",
              "      <td>0.792999</td>\n",
              "      <td>1.0</td>\n",
              "      <td>0.905649</td>\n",
              "      <td>0.887686</td>\n",
              "      <td>0.884328</td>\n",
              "      <td>0.882649</td>\n",
              "      <td>0.880719</td>\n",
              "      <td>0.881558</td>\n",
              "      <td>0.886930</td>\n",
              "      <td>0.886511</td>\n",
              "    </tr>\n",
              "    <tr>\n",
              "      <th>Precision</th>\n",
              "      <td>1.0</td>\n",
              "      <td>0.990380</td>\n",
              "      <td>0.990980</td>\n",
              "      <td>1.0</td>\n",
              "      <td>1.0</td>\n",
              "      <td>0.780228</td>\n",
              "      <td>1.0</td>\n",
              "      <td>0.809620</td>\n",
              "      <td>0.760244</td>\n",
              "      <td>0.778008</td>\n",
              "      <td>0.782541</td>\n",
              "      <td>0.779263</td>\n",
              "      <td>0.781283</td>\n",
              "      <td>0.775372</td>\n",
              "      <td>0.798262</td>\n",
              "    </tr>\n",
              "    <tr>\n",
              "      <th>F1</th>\n",
              "      <td>1.0</td>\n",
              "      <td>0.987754</td>\n",
              "      <td>0.988896</td>\n",
              "      <td>1.0</td>\n",
              "      <td>1.0</td>\n",
              "      <td>0.786562</td>\n",
              "      <td>1.0</td>\n",
              "      <td>0.854947</td>\n",
              "      <td>0.819037</td>\n",
              "      <td>0.827768</td>\n",
              "      <td>0.829586</td>\n",
              "      <td>0.826890</td>\n",
              "      <td>0.828397</td>\n",
              "      <td>0.827408</td>\n",
              "      <td>0.840075</td>\n",
              "    </tr>\n",
              "  </tbody>\n",
              "</table>\n",
              "</div>\n",
              "      <button class=\"colab-df-convert\" onclick=\"convertToInteractive('df-4c5e3aeb-af7f-4656-90ea-4d39bd713381')\"\n",
              "              title=\"Convert this dataframe to an interactive table.\"\n",
              "              style=\"display:none;\">\n",
              "        \n",
              "  <svg xmlns=\"http://www.w3.org/2000/svg\" height=\"24px\"viewBox=\"0 0 24 24\"\n",
              "       width=\"24px\">\n",
              "    <path d=\"M0 0h24v24H0V0z\" fill=\"none\"/>\n",
              "    <path d=\"M18.56 5.44l.94 2.06.94-2.06 2.06-.94-2.06-.94-.94-2.06-.94 2.06-2.06.94zm-11 1L8.5 8.5l.94-2.06 2.06-.94-2.06-.94L8.5 2.5l-.94 2.06-2.06.94zm10 10l.94 2.06.94-2.06 2.06-.94-2.06-.94-.94-2.06-.94 2.06-2.06.94z\"/><path d=\"M17.41 7.96l-1.37-1.37c-.4-.4-.92-.59-1.43-.59-.52 0-1.04.2-1.43.59L10.3 9.45l-7.72 7.72c-.78.78-.78 2.05 0 2.83L4 21.41c.39.39.9.59 1.41.59.51 0 1.02-.2 1.41-.59l7.78-7.78 2.81-2.81c.8-.78.8-2.07 0-2.86zM5.41 20L4 18.59l7.72-7.72 1.47 1.35L5.41 20z\"/>\n",
              "  </svg>\n",
              "      </button>\n",
              "      \n",
              "  <style>\n",
              "    .colab-df-container {\n",
              "      display:flex;\n",
              "      flex-wrap:wrap;\n",
              "      gap: 12px;\n",
              "    }\n",
              "\n",
              "    .colab-df-convert {\n",
              "      background-color: #E8F0FE;\n",
              "      border: none;\n",
              "      border-radius: 50%;\n",
              "      cursor: pointer;\n",
              "      display: none;\n",
              "      fill: #1967D2;\n",
              "      height: 32px;\n",
              "      padding: 0 0 0 0;\n",
              "      width: 32px;\n",
              "    }\n",
              "\n",
              "    .colab-df-convert:hover {\n",
              "      background-color: #E2EBFA;\n",
              "      box-shadow: 0px 1px 2px rgba(60, 64, 67, 0.3), 0px 1px 3px 1px rgba(60, 64, 67, 0.15);\n",
              "      fill: #174EA6;\n",
              "    }\n",
              "\n",
              "    [theme=dark] .colab-df-convert {\n",
              "      background-color: #3B4455;\n",
              "      fill: #D2E3FC;\n",
              "    }\n",
              "\n",
              "    [theme=dark] .colab-df-convert:hover {\n",
              "      background-color: #434B5C;\n",
              "      box-shadow: 0px 1px 3px 1px rgba(0, 0, 0, 0.15);\n",
              "      filter: drop-shadow(0px 1px 2px rgba(0, 0, 0, 0.3));\n",
              "      fill: #FFFFFF;\n",
              "    }\n",
              "  </style>\n",
              "\n",
              "      <script>\n",
              "        const buttonEl =\n",
              "          document.querySelector('#df-4c5e3aeb-af7f-4656-90ea-4d39bd713381 button.colab-df-convert');\n",
              "        buttonEl.style.display =\n",
              "          google.colab.kernel.accessAllowed ? 'block' : 'none';\n",
              "\n",
              "        async function convertToInteractive(key) {\n",
              "          const element = document.querySelector('#df-4c5e3aeb-af7f-4656-90ea-4d39bd713381');\n",
              "          const dataTable =\n",
              "            await google.colab.kernel.invokeFunction('convertToInteractive',\n",
              "                                                     [key], {});\n",
              "          if (!dataTable) return;\n",
              "\n",
              "          const docLinkHtml = 'Like what you see? Visit the ' +\n",
              "            '<a target=\"_blank\" href=https://colab.research.google.com/notebooks/data_table.ipynb>data table notebook</a>'\n",
              "            + ' to learn more about interactive tables.';\n",
              "          element.innerHTML = '';\n",
              "          dataTable['output_type'] = 'display_data';\n",
              "          await google.colab.output.renderOutput(dataTable, element);\n",
              "          const docLink = document.createElement('div');\n",
              "          docLink.innerHTML = docLinkHtml;\n",
              "          element.appendChild(docLink);\n",
              "        }\n",
              "      </script>\n",
              "    </div>\n",
              "  </div>\n",
              "  "
            ]
          },
          "metadata": {},
          "execution_count": 136
        }
      ],
      "source": [
        "# training performance comparison\n",
        "\n",
        "models_train_comp_df = pd.concat(\n",
        "    [dtree_model_train_perf.T,bagging_model_train_perf.T, bagging_wt_model_train_perf.T,rf_model_train_perf.T,\n",
        "    rf_wt_model_train_perf.T,dtree_estimator_model_train_perf.T, bagging_estimator_model_train_perf.T,\n",
        "     rf_estimator_model_train_perf.T, ab_classifier_model_train_perf.T,\n",
        "     abc_tuned_model_train_perf.T,gb_classifier_model_train_perf.T,gbc_tuned_model_train_perf.T,xgb_classifier_model_train_perf.T,\n",
        "    xgb_tuned_model_train_perf.T,stacking_classifier_model_train_perf.T],\n",
        "    axis=1,\n",
        ")\n",
        "models_train_comp_df.columns = [\n",
        "    \"Decision Tree\",\n",
        "    \"Bagging Classifier\",\n",
        "    \"Weighted Bagging Classifier\",\n",
        "    \"Random Forest Classifier\",\n",
        "    \"Weighted Random Forest Classifier\",\n",
        "    \"Decision Tree Estimator\",\n",
        "    \"Bagging Estimator\",\n",
        "    \"Random Forest Estimator\", \n",
        "    \"Adaboost Classifier\",\n",
        "    \"Adabosst Classifier Tuned\",\n",
        "    \"Gradient Boost Classifier\",\n",
        "    \"Gradient Boost Classifier Tuned\",\n",
        "    \"XGBoost Classifier\",\n",
        "    \"XGBoost Classifier Tuned\",\n",
        "    \"Stacking Classifier\"]\n",
        "print(\"Training performance comparison:\")\n",
        "models_train_comp_df"
      ],
      "id": "N9_z5hnQ8DWx"
    },
    {
      "cell_type": "code",
      "source": [
        "# testing performance comparison\n",
        "\n",
        "models_test_comp_df = pd.concat(\n",
        "    [dtree_model_test_perf.T,bagging_model_test_perf.T, bagging_wt_model_test_perf.T,rf_model_test_perf.T,\n",
        "    rf_wt_model_test_perf.T,dtree_estimator_model_test_perf.T, bagging_estimator_model_test_perf.T,\n",
        "     rf_estimator_model_test_perf.T, ab_classifier_model_test_perf.T,\n",
        "     abc_tuned_model_test_perf.T,gb_classifier_model_test_perf.T,gbc_tuned_model_test_perf.T,xgb_classifier_model_test_perf.T,\n",
        "    xgb_tuned_model_test_perf.T,stacking_classifier_model_test_perf.T],\n",
        "    axis=1,\n",
        ")\n",
        "models_test_comp_df.columns = [\n",
        "    \"Decision Tree\",\n",
        "    \"Bagging Classifier\",\n",
        "    \"Weighted Bagging Classifier\",\n",
        "    \"Random Forest Classifier\",\n",
        "    \"Weighted Random Forest Classifier\",\n",
        "    \"Decision Tree Estimator\",\n",
        "    \"Bagging Estimator\",\n",
        "    \"Random Forest Estimator\", \n",
        "    \"Adaboost Classifier\",\n",
        "    \"Adabosst Classifier Tuned\",\n",
        "    \"Gradient Boost Classifier\",\n",
        "    \"Gradient Boost Classifier Tuned\",\n",
        "    \"XGBoost Classifier\",\n",
        "    \"XGBoost Classifier Tuned\",\n",
        "    \"Stacking Classifier\"]\n",
        "print(\"Training performance comparison:\")\n",
        "models_test_comp_df"
      ],
      "metadata": {
        "colab": {
          "base_uri": "https://localhost:8080/",
          "height": 289
        },
        "id": "DwkfelpNL-4q",
        "outputId": "34cbea8b-96e1-4a9d-c4fc-722aee740ff2"
      },
      "id": "DwkfelpNL-4q",
      "execution_count": null,
      "outputs": [
        {
          "output_type": "stream",
          "name": "stdout",
          "text": [
            "Training performance comparison:\n"
          ]
        },
        {
          "output_type": "execute_result",
          "data": {
            "text/plain": [
              "           Decision Tree  Bagging Classifier  Weighted Bagging Classifier  \\\n",
              "Accuracy        0.650576            0.694793                     0.697148   \n",
              "Recall          0.746327            0.767679                     0.781587   \n",
              "Precision       0.734670            0.773589                     0.768786   \n",
              "F1              0.740453            0.770622                     0.775134   \n",
              "\n",
              "           Random Forest Classifier  Weighted Random Forest Classifier  \\\n",
              "Accuracy                   0.722266                           0.722789   \n",
              "Recall                     0.837806                           0.843095   \n",
              "Precision                  0.767588                           0.765564   \n",
              "F1                         0.801161                           0.802461   \n",
              "\n",
              "           Decision Tree Estimator  Bagging Estimator  \\\n",
              "Accuracy                  0.708006           0.726190   \n",
              "Recall                    0.793732           0.878746   \n",
              "Precision                 0.774613           0.752685   \n",
              "F1                        0.784056           0.810845   \n",
              "\n",
              "           Random Forest Estimator  Adaboost Classifier  \\\n",
              "Accuracy                  0.743590             0.732339   \n",
              "Recall                    0.870519             0.884427   \n",
              "Precision                 0.773812             0.756155   \n",
              "F1                        0.819322             0.815276   \n",
              "\n",
              "           Adabosst Classifier Tuned  Gradient Boost Classifier  \\\n",
              "Accuracy                    0.743066                   0.745814   \n",
              "Recall                      0.878550                   0.877767   \n",
              "Precision                   0.769429                   0.772586   \n",
              "F1                          0.820377                   0.821825   \n",
              "\n",
              "           Gradient Boost Classifier Tuned  XGBoost Classifier  \\\n",
              "Accuracy                          0.744898            0.746599   \n",
              "Recall                            0.875808            0.877571   \n",
              "Precision                         0.772594            0.773481   \n",
              "F1                                0.820970            0.822245   \n",
              "\n",
              "           XGBoost Classifier Tuned  Stacking Classifier  \n",
              "Accuracy                   0.741758             0.746468  \n",
              "Recall                     0.880313             0.869344  \n",
              "Precision                  0.767287             0.777369  \n",
              "F1                         0.819923             0.820788  "
            ],
            "text/html": [
              "\n",
              "  <div id=\"df-124a2f38-f508-4a59-9045-706d1046df5a\">\n",
              "    <div class=\"colab-df-container\">\n",
              "      <div>\n",
              "<style scoped>\n",
              "    .dataframe tbody tr th:only-of-type {\n",
              "        vertical-align: middle;\n",
              "    }\n",
              "\n",
              "    .dataframe tbody tr th {\n",
              "        vertical-align: top;\n",
              "    }\n",
              "\n",
              "    .dataframe thead th {\n",
              "        text-align: right;\n",
              "    }\n",
              "</style>\n",
              "<table border=\"1\" class=\"dataframe\">\n",
              "  <thead>\n",
              "    <tr style=\"text-align: right;\">\n",
              "      <th></th>\n",
              "      <th>Decision Tree</th>\n",
              "      <th>Bagging Classifier</th>\n",
              "      <th>Weighted Bagging Classifier</th>\n",
              "      <th>Random Forest Classifier</th>\n",
              "      <th>Weighted Random Forest Classifier</th>\n",
              "      <th>Decision Tree Estimator</th>\n",
              "      <th>Bagging Estimator</th>\n",
              "      <th>Random Forest Estimator</th>\n",
              "      <th>Adaboost Classifier</th>\n",
              "      <th>Adabosst Classifier Tuned</th>\n",
              "      <th>Gradient Boost Classifier</th>\n",
              "      <th>Gradient Boost Classifier Tuned</th>\n",
              "      <th>XGBoost Classifier</th>\n",
              "      <th>XGBoost Classifier Tuned</th>\n",
              "      <th>Stacking Classifier</th>\n",
              "    </tr>\n",
              "  </thead>\n",
              "  <tbody>\n",
              "    <tr>\n",
              "      <th>Accuracy</th>\n",
              "      <td>0.650576</td>\n",
              "      <td>0.694793</td>\n",
              "      <td>0.697148</td>\n",
              "      <td>0.722266</td>\n",
              "      <td>0.722789</td>\n",
              "      <td>0.708006</td>\n",
              "      <td>0.726190</td>\n",
              "      <td>0.743590</td>\n",
              "      <td>0.732339</td>\n",
              "      <td>0.743066</td>\n",
              "      <td>0.745814</td>\n",
              "      <td>0.744898</td>\n",
              "      <td>0.746599</td>\n",
              "      <td>0.741758</td>\n",
              "      <td>0.746468</td>\n",
              "    </tr>\n",
              "    <tr>\n",
              "      <th>Recall</th>\n",
              "      <td>0.746327</td>\n",
              "      <td>0.767679</td>\n",
              "      <td>0.781587</td>\n",
              "      <td>0.837806</td>\n",
              "      <td>0.843095</td>\n",
              "      <td>0.793732</td>\n",
              "      <td>0.878746</td>\n",
              "      <td>0.870519</td>\n",
              "      <td>0.884427</td>\n",
              "      <td>0.878550</td>\n",
              "      <td>0.877767</td>\n",
              "      <td>0.875808</td>\n",
              "      <td>0.877571</td>\n",
              "      <td>0.880313</td>\n",
              "      <td>0.869344</td>\n",
              "    </tr>\n",
              "    <tr>\n",
              "      <th>Precision</th>\n",
              "      <td>0.734670</td>\n",
              "      <td>0.773589</td>\n",
              "      <td>0.768786</td>\n",
              "      <td>0.767588</td>\n",
              "      <td>0.765564</td>\n",
              "      <td>0.774613</td>\n",
              "      <td>0.752685</td>\n",
              "      <td>0.773812</td>\n",
              "      <td>0.756155</td>\n",
              "      <td>0.769429</td>\n",
              "      <td>0.772586</td>\n",
              "      <td>0.772594</td>\n",
              "      <td>0.773481</td>\n",
              "      <td>0.767287</td>\n",
              "      <td>0.777369</td>\n",
              "    </tr>\n",
              "    <tr>\n",
              "      <th>F1</th>\n",
              "      <td>0.740453</td>\n",
              "      <td>0.770622</td>\n",
              "      <td>0.775134</td>\n",
              "      <td>0.801161</td>\n",
              "      <td>0.802461</td>\n",
              "      <td>0.784056</td>\n",
              "      <td>0.810845</td>\n",
              "      <td>0.819322</td>\n",
              "      <td>0.815276</td>\n",
              "      <td>0.820377</td>\n",
              "      <td>0.821825</td>\n",
              "      <td>0.820970</td>\n",
              "      <td>0.822245</td>\n",
              "      <td>0.819923</td>\n",
              "      <td>0.820788</td>\n",
              "    </tr>\n",
              "  </tbody>\n",
              "</table>\n",
              "</div>\n",
              "      <button class=\"colab-df-convert\" onclick=\"convertToInteractive('df-124a2f38-f508-4a59-9045-706d1046df5a')\"\n",
              "              title=\"Convert this dataframe to an interactive table.\"\n",
              "              style=\"display:none;\">\n",
              "        \n",
              "  <svg xmlns=\"http://www.w3.org/2000/svg\" height=\"24px\"viewBox=\"0 0 24 24\"\n",
              "       width=\"24px\">\n",
              "    <path d=\"M0 0h24v24H0V0z\" fill=\"none\"/>\n",
              "    <path d=\"M18.56 5.44l.94 2.06.94-2.06 2.06-.94-2.06-.94-.94-2.06-.94 2.06-2.06.94zm-11 1L8.5 8.5l.94-2.06 2.06-.94-2.06-.94L8.5 2.5l-.94 2.06-2.06.94zm10 10l.94 2.06.94-2.06 2.06-.94-2.06-.94-.94-2.06-.94 2.06-2.06.94z\"/><path d=\"M17.41 7.96l-1.37-1.37c-.4-.4-.92-.59-1.43-.59-.52 0-1.04.2-1.43.59L10.3 9.45l-7.72 7.72c-.78.78-.78 2.05 0 2.83L4 21.41c.39.39.9.59 1.41.59.51 0 1.02-.2 1.41-.59l7.78-7.78 2.81-2.81c.8-.78.8-2.07 0-2.86zM5.41 20L4 18.59l7.72-7.72 1.47 1.35L5.41 20z\"/>\n",
              "  </svg>\n",
              "      </button>\n",
              "      \n",
              "  <style>\n",
              "    .colab-df-container {\n",
              "      display:flex;\n",
              "      flex-wrap:wrap;\n",
              "      gap: 12px;\n",
              "    }\n",
              "\n",
              "    .colab-df-convert {\n",
              "      background-color: #E8F0FE;\n",
              "      border: none;\n",
              "      border-radius: 50%;\n",
              "      cursor: pointer;\n",
              "      display: none;\n",
              "      fill: #1967D2;\n",
              "      height: 32px;\n",
              "      padding: 0 0 0 0;\n",
              "      width: 32px;\n",
              "    }\n",
              "\n",
              "    .colab-df-convert:hover {\n",
              "      background-color: #E2EBFA;\n",
              "      box-shadow: 0px 1px 2px rgba(60, 64, 67, 0.3), 0px 1px 3px 1px rgba(60, 64, 67, 0.15);\n",
              "      fill: #174EA6;\n",
              "    }\n",
              "\n",
              "    [theme=dark] .colab-df-convert {\n",
              "      background-color: #3B4455;\n",
              "      fill: #D2E3FC;\n",
              "    }\n",
              "\n",
              "    [theme=dark] .colab-df-convert:hover {\n",
              "      background-color: #434B5C;\n",
              "      box-shadow: 0px 1px 3px 1px rgba(0, 0, 0, 0.15);\n",
              "      filter: drop-shadow(0px 1px 2px rgba(0, 0, 0, 0.3));\n",
              "      fill: #FFFFFF;\n",
              "    }\n",
              "  </style>\n",
              "\n",
              "      <script>\n",
              "        const buttonEl =\n",
              "          document.querySelector('#df-124a2f38-f508-4a59-9045-706d1046df5a button.colab-df-convert');\n",
              "        buttonEl.style.display =\n",
              "          google.colab.kernel.accessAllowed ? 'block' : 'none';\n",
              "\n",
              "        async function convertToInteractive(key) {\n",
              "          const element = document.querySelector('#df-124a2f38-f508-4a59-9045-706d1046df5a');\n",
              "          const dataTable =\n",
              "            await google.colab.kernel.invokeFunction('convertToInteractive',\n",
              "                                                     [key], {});\n",
              "          if (!dataTable) return;\n",
              "\n",
              "          const docLinkHtml = 'Like what you see? Visit the ' +\n",
              "            '<a target=\"_blank\" href=https://colab.research.google.com/notebooks/data_table.ipynb>data table notebook</a>'\n",
              "            + ' to learn more about interactive tables.';\n",
              "          element.innerHTML = '';\n",
              "          dataTable['output_type'] = 'display_data';\n",
              "          await google.colab.output.renderOutput(dataTable, element);\n",
              "          const docLink = document.createElement('div');\n",
              "          docLink.innerHTML = docLinkHtml;\n",
              "          element.appendChild(docLink);\n",
              "        }\n",
              "      </script>\n",
              "    </div>\n",
              "  </div>\n",
              "  "
            ]
          },
          "metadata": {},
          "execution_count": 134
        }
      ]
    },
    {
      "cell_type": "markdown",
      "metadata": {
        "id": "55_dCCp37ncE"
      },
      "source": [
        "* XGBoost Classifier is the best performer model. Gradient Boost Classifier is a close second tier. \n",
        "* XGBoost performed better for all the metrics, except for Recall, where Gradient Boost Classifier had a marginally better performance (0.02 percent points better).  \n",
        "* Boosting techniques, in general, showed to be very effective in improving our predictions."
      ],
      "id": "55_dCCp37ncE"
    },
    {
      "cell_type": "markdown",
      "metadata": {
        "id": "F1hsVXz0E2kT"
      },
      "source": [
        "## Feature importance of XGBoost Classifier"
      ],
      "id": "F1hsVXz0E2kT"
    },
    {
      "cell_type": "code",
      "execution_count": null,
      "metadata": {
        "colab": {
          "base_uri": "https://localhost:8080/"
        },
        "id": "qotID6qvE4DB",
        "outputId": "bad23add-2077-4145-df9f-b09e9a7c4c5d"
      },
      "outputs": [
        {
          "output_type": "stream",
          "name": "stdout",
          "text": [
            "                                     Imp\n",
            "education_of_employee           0.212816\n",
            "unit_of_wage                    0.180475\n",
            "has_job_experience              0.151876\n",
            "continent_Europe                0.079076\n",
            "region_of_employment_South      0.063937\n",
            "region_of_employment_Midwest    0.054735\n",
            "region_of_employment_Northeast  0.046620\n",
            "region_of_employment_West       0.038529\n",
            "continent_Asia                  0.033756\n",
            "full_time_position              0.025309\n",
            "prevailing_wage                 0.024751\n",
            "continent_North America         0.023265\n",
            "continent_South America         0.021819\n",
            "requires_job_training           0.013614\n",
            "yr_of_estab                     0.010991\n",
            "continent_Oceania               0.009504\n",
            "no_of_employees                 0.008927\n"
          ]
        }
      ],
      "source": [
        "# importance of features in the tree building ( The importance of a feature is computed as the \n",
        "#(normalized) total reduction of the criterion brought by that feature. It is also known as the Gini importance )\n",
        "\n",
        "print (pd.DataFrame(xgb_classifier.feature_importances_, columns = [\"Imp\"], index = X_train.columns).sort_values(by = 'Imp', ascending = False))"
      ],
      "id": "qotID6qvE4DB"
    },
    {
      "cell_type": "code",
      "execution_count": null,
      "metadata": {
        "id": "GQ-Wn5V9FOs5"
      },
      "outputs": [],
      "source": [
        "feature_names = X_train.columns"
      ],
      "id": "GQ-Wn5V9FOs5"
    },
    {
      "cell_type": "code",
      "execution_count": null,
      "metadata": {
        "colab": {
          "base_uri": "https://localhost:8080/",
          "height": 730
        },
        "id": "tErie-DGFU-g",
        "outputId": "2cd3a0f5-4c5a-424a-d4e3-a4a27b491b5d"
      },
      "outputs": [
        {
          "output_type": "display_data",
          "data": {
            "text/plain": [
              "<Figure size 864x864 with 1 Axes>"
            ],
            "image/png": "[encoded data removed]"
          },
          "metadata": {
            "needs_background": "light"
          }
        }
      ],
      "source": [
        "importances = xgb_classifier.feature_importances_\n",
        "indices = np.argsort(importances)\n",
        "\n",
        "plt.figure(figsize=(12,12))\n",
        "plt.title('Feature Importances')\n",
        "plt.barh(range(len(indices)), importances[indices], color='violet', align='center')\n",
        "plt.yticks(range(len(indices)), [feature_names[i] for i in indices])\n",
        "plt.xlabel('Relative Importance')\n",
        "plt.show()"
      ],
      "id": "tErie-DGFU-g"
    },
    {
      "cell_type": "markdown",
      "metadata": {
        "id": "lUY6DPVGFnaf"
      },
      "source": [
        "* The education of the employee is the most important feature for prediction followed by Unit of wage, and if the employee has job experience or not."
      ],
      "id": "lUY6DPVGFnaf"
    },
    {
      "cell_type": "markdown",
      "metadata": {
        "id": "nasty-retailer"
      },
      "source": [
        "## Actionable Insights and Recommendations"
      ],
      "id": "nasty-retailer"
    },
    {
      "cell_type": "markdown",
      "source": [
        "* We have been able to build a predictive model: a) that the OFLC can use to shortlist visa applicants, b) that the Office can use to project its resource allocation better, and c) based on which the U.S. Department of Labor can better promote policies that enhance U.S. competitivity in global labor markets.\n",
        "\n",
        "* Based on our analysis, we can say that the drivers that significantly influence a positive case status are:\n",
        "  - Higher education degrees\n",
        "  - Longer units of wage\n",
        "  - Having job experience\n",
        "  - Coming from Europe\n",
        "  - Region of employment being South\n",
        "\n",
        "* It is striking that whether or not the application is for a full-time position does not play such an essential role in predicting certification. Nor does the 'prevailing wage' variable play such an important role in the prediction.\n",
        "\n",
        "* Company attributes are not that significant either. The number of employees and the year of establishment are among the least important features.\n",
        "\n",
        "* We recommend that, in those cases where the local labor force does not meet the needs of the US market, the Department of Labor creates incentive policies that are attractive to candidates abroad with work experience and high academic qualifications.\n",
        "\n",
        "* We recommend that the OFLC set up a consultancy program with companies that wish to attract workforce from abroad. Knowing the drivers that significantly influence a case status will save companies from investing time and resources in submitting unpromising applications. This collaboration will also help the OFLC save resources proactively.\n",
        "\n",
        "* It is necessary to carry out deeper analyses to understand the disparities in visa certification according to the continent of origin. Some questions to continue the study could be, for example, if candidates from certain regions have lower educational levels or do not have work experience.\n",
        "\n",
        "* It would also be worth looking into what type of position companies seek to fill and whether there are particular regions where they direct their recruiting efforts."
      ],
      "metadata": {
        "id": "EwFWAnn8rpUb"
      },
      "id": "EwFWAnn8rpUb"
    }
  ],
  "metadata": {
    "colab": {
      "provenance": []
    },
    "kernelspec": {
      "display_name": "Python 3",
      "language": "python",
      "name": "python3"
    },
    "language_info": {
      "codemirror_mode": {
        "name": "ipython",
        "version": 3
      },
      "file_extension": ".py",
      "mimetype": "text/x-python",
      "name": "python",
      "nbconvert_exporter": "python",
      "pygments_lexer": "ipython3",
      "version": "3.8.8"
    }
  },
  "nbformat": 4,
  "nbformat_minor": 5
}